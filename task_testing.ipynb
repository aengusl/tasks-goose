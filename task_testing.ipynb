{
 "cells": [
  {
   "cell_type": "markdown",
   "metadata": {},
   "source": [
    "# Test the various tasks in the `tasks` module."
   ]
  },
  {
   "cell_type": "code",
   "execution_count": 1,
   "metadata": {},
   "outputs": [
    {
     "data": {
      "text/plain": [
       "'/data/phillip_guo/mechanistic-unlearning'"
      ]
     },
     "execution_count": 1,
     "metadata": {},
     "output_type": "execute_result"
    }
   ],
   "source": [
    "import os\n",
    "os.getcwd()\n",
    "# os.chdir('../mechanistic-unlearning')"
   ]
  },
  {
   "cell_type": "code",
   "execution_count": 2,
   "metadata": {},
   "outputs": [],
   "source": [
    "%load_ext autoreload\n",
    "%autoreload 2\n",
    "import os\n",
    "# from cb_utils.models import load_gpt2_weights, load_demo_gpt2, tokenizer as gpt2_tokenizer, DEVICE\n",
    "from torch.optim import AdamW\n",
    "import torch\n",
    "import pickle\n",
    "import datasets\n",
    "from tqdm import tqdm_notebook as tqdm\n",
    "from itertools import cycle\n",
    "# from eval import evaluate_model\n",
    "import plotly.express as px\n",
    "import pandas as pd\n",
    "from tasks.inference_utils import get_final_logits, generate_text\n",
    "from tasks.ioi.IOITask import IOITask_old, IOITask\n",
    "from tasks.owt.OWTTask import OWTTask\n",
    "from tasks.facts.SportsTask import SportsTask\n",
    "from transformer_lens import HookedTransformer\n",
    "# from tasks.kg_trips.ZSRETask import ZSRE\n"
   ]
  },
  {
   "cell_type": "markdown",
   "metadata": {},
   "source": [
    "## New IOI Testing"
   ]
  },
  {
   "cell_type": "code",
   "execution_count": 3,
   "metadata": {},
   "outputs": [
    {
     "name": "stdout",
     "output_type": "stream",
     "text": [
      "Loaded pretrained model gpt2-small into HookedTransformer\n"
     ]
    }
   ],
   "source": [
    "# model = load_demo_gpt2(means=False)\n",
    "model = HookedTransformer.from_pretrained('gpt2-small')\n",
    "tokenizer = model.tokenizer"
   ]
  },
  {
   "cell_type": "code",
   "execution_count": 4,
   "metadata": {},
   "outputs": [
    {
     "name": "stderr",
     "output_type": "stream",
     "text": [
      "/data/phillip_guo/miniconda3/envs/unlrn/lib/python3.10/site-packages/datasets/table.py:1421: FutureWarning: promote has been superseded by mode='default'.\n",
      "  table = cls._concat_blocks(blocks, axis=0)\n"
     ]
    },
    {
     "data": {
      "application/vnd.jupyter.widget-view+json": {
       "model_id": "df150fac60174205bcf4bd9caf8f851e",
       "version_major": 2,
       "version_minor": 0
      },
      "text/plain": [
       "Resolving data files:   0%|          | 0/30 [00:00<?, ?it/s]"
      ]
     },
     "metadata": {},
     "output_type": "display_data"
    },
    {
     "data": {
      "application/vnd.jupyter.widget-view+json": {
       "model_id": "6b689078ace04e9f9b9e1febfa30775b",
       "version_major": 2,
       "version_minor": 0
      },
      "text/plain": [
       "Resolving data files:   0%|          | 0/30 [00:00<?, ?it/s]"
      ]
     },
     "metadata": {},
     "output_type": "display_data"
    }
   ],
   "source": [
    "from tasks.general.DatasetTasks import OWTTask, PileTask\n",
    "owt = OWTTask(64, tokenizer)\n",
    "pile = PileTask(64, tokenizer)\n",
    "sports = SportsTask(64, tokenizer)\n",
    "ioi = IOITask(64, tokenizer)"
   ]
  },
  {
   "cell_type": "code",
   "execution_count": 13,
   "metadata": {},
   "outputs": [],
   "source": [
    "from tasks.ioi.IOITask import IOITask_Uniform\n",
    "ioi_uniform = IOITask_Uniform(64, tokenizer, uniform_over=\"all_tokens\")"
   ]
  },
  {
   "cell_type": "code",
   "execution_count": 14,
   "metadata": {},
   "outputs": [
    {
     "data": {
      "text/plain": [
       "tensor(17.5756, device='cuda:0')"
      ]
     },
     "execution_count": 14,
     "metadata": {},
     "output_type": "execute_result"
    }
   ],
   "source": [
    "ioi_uniform.get_test_loss(model)"
   ]
  },
  {
   "cell_type": "code",
   "execution_count": 8,
   "metadata": {},
   "outputs": [
    {
     "data": {
      "text/plain": [
       "tensor(0.6259, device='cuda:0')"
      ]
     },
     "execution_count": 8,
     "metadata": {},
     "output_type": "execute_result"
    }
   ],
   "source": [
    "ioi.get_test_loss(model)"
   ]
  },
  {
   "cell_type": "code",
   "execution_count": 18,
   "metadata": {},
   "outputs": [
    {
     "name": "stdout",
     "output_type": "stream",
     "text": [
      "[(80200184, 0.9088885, 'lol this guy must live in the middle of nowherecops kill everyone but they prefer niggers. they just assume all niggers have guns.'), (80532576, 0.90646505, 'tfw half black but redpilled, browsing /pol/ since it came back in 2011white gfs family gives no fucks about me being nonwhite, even invited me to move inFUCKING STOP'), (79806084, 0.90610445, 'Sorry I dont give a shit  if you want to argue with someone who does'), (81500706, 0.90026146, 'FOR FUCKS SAKE SAIM AL HAID, SOMEONE STOP THIS MADMAN'), (80160033, 0.9026442, 'Well thats some spooky stuff. I dont know whats going on but this is like shitty science fanfiction is being brought to real life.'), (80916195, 0.9014249, 'Bro, do you even height?Im 61 and if I was 150 lbs Id have to be hospitalized for malnutrition. I have a friend thats at least 3-4 inches shorter than me who weighs 170 and is a stick.Get some muscle you scrawny faggot.'), (81361438, 0.90237534, 'http://www.dailymail.co.uk/news/article-3589628/Report-Bill-Clinton-jumped-aboard-disgraced-sex-offender-Jeffrey-Epstein-s-Lolita-Express-plane-junkets-26-TIMES-just-three-years.htmlthis information has been available for YEARSMSM never reports it. nobody talks about it. nobody cares.theres worse shit out there than just that. and nobody gives a fuck.everyone is retarded anon. just learn to live with it.'), (80518887, 0.9004421, 'Now that theyve normalized using bombs as police procedure, blacks are going to start killing police with bombs. Great job guys.'), (80669843, 0.90788275, 'the saudi royal family represents ALL MUSLIMSIts like you dont understand the distinction between plural and singular or something.Muslims dont own shitbut this muslims owns somethingJesus christ Canada, can you get even more retarded?'), (80312270, 0.90676606, 'god damn i fucking love capitalism'), (79745772, 0.90122193, 'Oh shit, hows chilled doing. Been way too long since I watched that guy. Stopped one day for whatever reason. I just watch NL now.'), (79846634, 0.903742, 'People are idiots that cant forget the past. This is why we cant have swatzikas and hitler stash today.'), (80620857, 0.9041774, 'He is the turd in the punch bowl that he accused David Icke of being, when Icke is just a fucking genius sent to expose the globalist Jews.'), (80373063, 0.9070705, 'People ITT: Idiots who dont know the old way (PEMDAS or close equiv) Trolls pretending not to know the old way'), (79402280, 0.9029631, 'At least those niggers like history, they seem a lot cooler than most niggers Ive met.'), (80064296, 0.9068871, 'BLOWN THE ABSOLUTE FUCK OUT.'), (81458124, 0.9032724, 'Clit is the female penis, senpai'), (79950645, 0.9014013, 'As usual with niggers Im pretty sure youre embellishing as fuck. Cops are statistically lot nicer and tiptoeing on eggshells around blacks than around whites. Youre full of shit, but hey. Why would you care when media is on your side. Milk for all its worth, enjoy your affirmative action and pretend on /pol/ of all places to be a wronged nig. And lest we forget, dont ever admit to the fact that blacks have only themselves to blame for establishing such horrible stereotype where, if I need to fuel my car in a sketchy gas station and see blacks loitering around, I keep my right hand on the gun at all times. but Im just a fucking wayciss'), (80013777, 0.9091473, 'damn, really makes you thinkWhat did the nigger even do wrong in the first place? I dont watch the news'), (80471840, 0.9013577, 'Except crimes by lords have been recorded.Nice try faggot.'), (80915922, 0.9020035, 'nigs turnout to vote for black mannigs will turnout to vote for a white bitch?'), (79392541, 0.90167946, 'Because hes dating you, a sick twisted degenerate cunt who thinks theyre a woman.'), (79537865, 0.90184957, 'Imagine life if you didnt have so much of your money and time committed to paying interest on the debt.Because of cunts, of course.'), (79570155, 0.9030515, 'thisthisfucking thisThroughout all of human knowledge, history, and every single bit of science there is FUCKING ZEROindication of anything supernatural, magic, spiritual AT FUCKING ALLWe HAVE our proof that there is NO GOD that there is NO MAGICthat there is NOTHING SUPERNATURAL ANYWHERE AND NEVER HAS BEENWE HAVE SOLIDEST FUCKING PROOF 2016'), (80294392, 0.90715367, 'child porn spamEach to his own board faggot, now gtfo'), (81318006, 0.90538734, 'Ausie fagg literally implying that they lost the war against shits.'), (80663470, 0.9012037, 'Im not even against this. Like, yeah, Black Man, wake up and stop being shit-ass criminals fathering 14 kids to 9 different women, everyone will thank you.'), (79422418, 0.9061248, 'I love baseball, and dont give a shit one way or another about the song. They can play whatever they want since they are a private company but I do agree that Take Me Out To The Ballgame is better.That being said, this really isnt anything to write an article over. Just another BS liberal looking for something to complain about.Fuck this dude.'), (80503435, 0.91103184, 'your country is responsible for attacks all over the west as well as in shitty goat-fucking countries. Thats probably a reason for all this hate you claim.We need to stop ameriturds.'), (81271340, 0.9068913, 'implying you can do anything to usIll fuck your sheep right in front of you buddy'), (79488594, 0.90037304, 'Neither. Theyre both globalist cocksuckers.'), (80668756, 0.9051914, 'Millenials are pretty dumb, but being racist and/or homophobic is even more retarded.'), (80254766, 0.9092894, 'Slovakian google knows its shit.'), (79420405, 0.90298355, 'fuck an escort for 150this is what millennials actually believe'), (79904084, 0.90458447, 'haha. holy fuck youre butthurtits comical, really'), (81149123, 0.90106916, '#Manbij: #ISIS killed an #US mercenary, who fought for #YPG against #ISIS in #Manbij. #Aleppohttps://twitter.com/worldonalert/status/754013485537910784This FSA fuckboy is usually full of shit so take with a grain of salt.'), (80517476, 0.9009637, 'I am stopping posting so I can go search a crime website just for you to find recent stories.Please dont get up from your wheel chair, I will find a forum for you.Jesus fucking christ. This isnt enough of a pain in the ass that I got people stopping me to ask how to search nigger crime and how to get Firefox Download them all, and people can read the fucking OP where I said where the first half of the images are already archived.Its been nearly an hour of dumping. Fuck this shit so I can go search this useless faggots forum, since Chimpout appears to be 404ftsBy all means, auto sage the thread so I have to split this series into a new one while the old one 404 so you guys can discuss and ask me for the fucking information I already goddam posted'), (81022462, 0.90701544, 'The answers to all those hashtagsno not religious #yesallmuslimshell the fuck yes'), (79790629, 0.908596, 'When a Islamist blows themselves up at a greens/socialism antifa protest... then well talk till then Islam is on the greens side. so fuck you!'), (80146882, 0.90261126, 'this complete fucking misunderstanding of genetics.Black science man is clearly failing at his job'), (80300320, 0.90633756, 'WHAT THE FUCK ! rarity'), (80182811, 0.9011949, 'Your stupidity made me reply, heres your (You)'), (80388074, 0.90702873, 'did he speak again?when will he shut the fuck up'), (80638861, 0.9030255, 'The dyed hair on the child worry me the most. These chemicals are itchy as fuck and you have to stay still for 30 mins+.I just can´t see a kid doing this on it´s own. I mean srsly you have to force most kids to shower and this one dyed it´s fucking hair?'), (81091566, 0.9054445, 'ITS HERE!!! The madman, hes up at 3 in the fucking morning.https://www.youtube.com/watch?v=SY7NSjKoiH0'), (80925263, 0.9073641, 'Sultan Mehmed IV to the Zaporozhian Cossacks:As the Sultan; son of Muhammad; brother of the sun and moon; grandson and viceroy of God; ruler of the kingdoms of Macedonia, Babylon, Jerusalem, Upper and Lower Egypt; emperor of emperors; sovereign of sovereigns; extraordinary knight, never defeated; steadfast guardian of the tomb of Jesus Christ; trustee chosen by God Himself; the hope and comfort of Muslims; confounder and great defender of Christians - I command you, the Zaporogian Cossacks, to submit to me voluntarily and without any resistance, and to desist from troubling me with your attacks.--Turkish sultan Mehmed IVZaporozhian Cossacks to the Turkish Sultan!cossax shitpost:O sultan, Turkish devil and damned devils kith and kin, secretary to Lucifer himself. What the devil kind of knight are you, that cant slay a hedgehog with your naked arse? The devil excretes, and your army eats. You will not, you son of a bitch, make subjects of Christian sons; weve no fear of your army, by land and by sea we will battle with thee, fuck your mother.You Babylonian scullion, Macedonian wheelwright, brewer of Jerusalem, goat-fucker of Alexandria, swineherd of Greater and Lesser Egypt, pig of Armenia, Podolian thief, catamite of Tartary, hangman of Kamyanets, and fool of all the world and underworld, an idiot before God, grandson of the Serpent, and the crick in our dick. Pigs snout, mares arse, slaughterhouse cur, unchristened brow, screw your own mother!So the Zaporozhians declare, you lowlife. You wont even be herding pigs for the Christians. Now well conclude, for we dont know the date and dont own a calendar; the moons in the sky, the year with the Lord, the days the same over here as it is over there; for this kiss our arse!- koshovyi otaman Ivan Sirko/pol/ has deep roots my friends'), (81507500, 0.90186745, 'Trump will get 3% Hispanic vote. His outreach to Hispanics is literally twitting a taco. You faggots are being played'), (80427440, 0.90145236, 'Musk lists his politics as an American Exceptionalist and NationalistDoesnt want TrumpFuck him'), (81014304, 0.9004705, 'Disregard that I suck cocksEach median is halfway between the 5th and 6th value'), (80224720, 0.9072728, 'Obama confirmed to be the worst president ever. Im so fucking ashamed to be led by such a divisive, weak fucking piece of shit. Its like we dont even have a president except when shit goes wrong, then he just comes out and makes shit worse. When is the last time you felt PRIDE for America? When is the last time you felt PRIDE in your leader? When is the last time you heard our president speak, and it made you feel protected, safe, and at the same time emboldened and proud to be an American?This fourth of July might have been our last.'), (80090183, 0.9055762, 'oh fuck hes bringing it up goys'), (81002924, 0.9051139, 'Excuse me what the fuck?'), (81100163, 0.9063497, 'Da joos? What is this meme? You nazis are just white niggers. You cry about being dominated, that you have no chance.Rational discussion with you is as likely as it is with a pencil.'), (80175564, 0.904234, 'I said I was half Indian dumbass'), (80365816, 0.9062144, 'IsraeliKilling a German himselfPick one you Jewish subhuman.'), (79859646, 0.904856, 'cant fight for shitcant stop getting conqueredmanletsstill manlets despite mass injections of superior Nordic and Saxon seed into their gene poolstupid curly hairultra beta Pagan faggotsmaster raceToppest lelz.'), (79624594, 0.9007839, 'bleeding REPUBLICAN supportfuck up with anti-semitismJust when we were back up Jesus Christ.'), (80940446, 0.90158194, 'litterally have never been able to sit through an entire video of hers, shes so uncomfortable and unfunny, would hate fuck tho'), (80982287, 0.90705776, 'This bitch always comes here to get funding to her campaign and goes with millions on her pocket. Obama didnt gave us statehood because we were with Shillary.'), (79411857, 0.90111464, 'Ok fuck it I am going to try host a game. Just search risk on /qst/ just so we have non biased rolls.See you soon'), (79481972, 0.9035159, 'all this saltFirst they take mallah farms, then they hold back 3, mother fucking THREE seperate assaults, till they finally give. Im starting to believe youre a jihadi'), (81387247, 0.9020664, 'Obvious shitposting bullshit, but just in case youre serious: Ill realize it at about the time BLM realizes that niggers kill cops at roughly a 3-1 rate as vice versa, and when BLM realizes cops kills like twice as many whites per year as they do niggers. #factsdontmatter'), (80451087, 0.90019107, 'By the same OP as last thread*fuck'), (80348816, 0.90280986, 'The intellectual arrogance of this one is strong. Shes displaying all the ignorance and stereotyping of a typical racist. (To her your an uneducated nigger)'), (79609201, 0.9064098, 'A FUCKING LEAFI watch my Vitamin b12 intakeBtw shitcunt, omnivores have it just as frequently as vegans, thanks to poor diets.I like animals - no need to kill (ot let others kill for me).They get treated badly.Taste isnt an issue here - meat with Sauce and stuff is tasty.If i find a family-run Business with biological food and care for the animals, i would reconsider eating meat for special ocassions (birthdays, family Meetings, christmas).'), (79631914, 0.9096559, 'ObjectivelyGiven a flawless systemCommunismWhy fucking bother'), (80245117, 0.9061865, 'We should ban niggers'), (81073299, 0.9030934, 'My wife is a sexy petite dark black beauty I met in Europe, with round ass and perfect titties. Neither one of us gives a shit about race.Shes a trained chef we almost never go to out to eat because its usually disappointing compared to what she can whip up at home. In 8 years we had only 2 fights I have no doubt well be together till the end. We dont fuck like rabbits like we did in the first couple years, but shes never pushed me away, not once.Nobodys perfect, but shes more than I deserve. To top it all off, shes more conservative than I am. Recently started carrying my NRA bag to kids YMCA swim class; I told her some people might not like it she just shrugged.I realize a lot of American black girls come with a ton of baggage, but I found a treasure and would be an absolute cuck if I had passed on her out of concern about what storm weenies and random fags on the internet have to say about it.Ya, ya, go kill yourself sheboon fucker; whatever; the only place I encounter retards who think like this is right here.'), (80273891, 0.90508884, 'makes it through sandniggers just to get killed by niggerniggersBomb the projects.'), (80527864, 0.90029144, 'Why the fuck are there so many moths'), (81302097, 0.9003247, 'wasting my vote (if I was american) for this bitch for mere pocket changeTOP GOY'), (79969982, 0.90580535, 'Not really faggot go shill on reddit'), (80230186, 0.90207076, 'Ive got my very own basement thank you very much.We got no shortage of strongmen in Norway, difference is I dont feel I have to post pictures of them lined up next to normal people to make my dick hard.'), (79944991, 0.904798, 'just google supreme court of israel you fucking bimbo voytek'), (80615069, 0.90062743, 'holy shit when did this happen?'), (80529510, 0.9030588, 'i would fuck t b hshit ill be a step dad for 6 months for that chick'), (80226815, 0.9081605, 'You realize its not us that will be killed in droves if the shit really kicks off, right? :^)'), (79893780, 0.9000663, 'Noahs Ark. Its shit, dont bother.I got suckered by that too.The ending is terrible.Instead of Noah stabbing all the women and her two children he cucks out and they stay on a gay little island living as tribals.'), (79507684, 0.90046734, 'Youre the dumb one *wink wink* (I got you senpai dont worry)'), (80991779, 0.9102055, '...the actual fuck is that article?'), (81215992, 0.9058207, '.they are not afraid of the army..they are ready to DIE for their stupid religion...yea, people are standing up to the military and democratically ruled leaders.what a GOD DAMN shame.(stupid dumb italians ruining this thread ITT)'), (80975064, 0.9050689, 'You wouldnt do shit. Dont lie.'), (79963346, 0.90184176, 'but these mods can censor your posts too!topkekI enjoy the edit feature so I can cover up the fact Im a fucking idiot that cant think through his post correctly the first time.'), (80015943, 0.90122396, 'Can we take a step back for a second everyone and talk about this rare fucking flag?'), (79873932, 0.90875274, 'Have you ever wondered that /pol/ may just be full to the brim of insecure faggots of all fucking races? Lots of insecure whites though. manly the types that call themselves intellectuals and wear fedoras n sheit.'), (81475272, 0.90385866, 'You must be at least 18 to post.So /pol/, tell me why I shouldnt just put a fucking bullet through my skull and end this living nightmare.To prove him wrong and be better than him.'), (80486955, 0.900053, 'His excuse will be them being poor. And when you point out theres more poor whites than there are blacks in total theyll scream racist and engage in serious deflection/attempt to character assassinate you. Leftists absolutely shut the fuck down when you provide facts to them that blow their carefully crafted narrative out the ass.'), (79614553, 0.90237856, 'This whole fucking thread needs to learn about the Indo-European expansion.https://en.wikipedia.org/wiki/Indo-European_migrations'), (80082651, 0.9027375, 'Anyone who voted No is a fucking sexist.The poll was probably botted so who cares?'), (80615770, 0.90308285, 'Well shit  Never tried any paid VPNs though'), (81060443, 0.910176, 'Im getting fucking sick and tired of all these Bootlicker Threads. Shut the fuck up, The police are some of the Best guys we have to offer, and without these brave men in blue our society would succumb to nigs.Bu-but American cops are p-pigs, they surely arent the best America Has to offer!!Shut the fuck up you child, each cop has been trained and is qualified to do their job to the best of their extent.'), (80003743, 0.905324, 'unless youre a fat cunt then hemp will hold you easily. Ive done suspension with it a ton of times and it hasnt given out once, I use it to support my hammock when Im camping, etcits plenty strong, especially if you double up'), (80072138, 0.906099, 'Nope, FUCK this no 30 year legislation, get pissed Americans if this was one us wed be done'), (80554311, 0.9019661, 'And it forgets to mention we pay 25%+180% taxes on cars.mumble... damn fucking car kikes here, youre lucky'), (79572953, 0.9006255, 'Why would terrorists target Florence fucking Oregon? There is nothing there. Eugene would make more sense or Portland. Even so, I am from Oregon and there is not much here even including Portland. Would make no sense to be a target for terrorists that hate America. I would be tightening secuirty everywhere.'), (79881906, 0.90952456, 'Jelly as fuck of that seal.'), (80981384, 0.90051115, 'I dont get it. So fucking what?'), (80719350, 0.90281594, 'Im thinking like 15 or 16 like in my country, but tbqh, I sincerely doubt it matters, because the people who want to fuck, will fuck anyway.'), (80176877, 0.91056836, 'Niggers who hate whitey go in the military too ffs.Yeah, as cargo handlers, kitchen help, transportation, etc.'), (79915313, 0.903079, 'Fucking brutal tonight /pol/.'), (79948191, 0.9038903, 'LMAO LOOK AT THE LAST NAMESSUTTONTURNERHAHAHAHAHAH HOLY FUCK'), (80412919, 0.9043164, 'slingshotmanuals you can dl for free and printbayonet for a gun you p[robably dont haveCome the fuck on'), (79644080, 0.9066777, 'If you support either youre a retard, hows that?'), (80663544, 0.90311474, 'agreed, its entirely cucked and gay now. they gased WLP for fucks sake'), (81171120, 0.9001152, 'Now America will look like shit if they just accept a corrupt president.So, war?'), (81026403, 0.90287644, 'Ill happily take whichever side lets me kill the people who do these thingsyes, the side that DOESNT fuck goats'), (81270141, 0.90723306, 'o shit. youre right, that sounds like stannis.'), (79535229, 0.9086631, 'Well stop at the filthy rich, so fuck off.They still are in cahoots with one another to keep prices high and qaulity low.'), (80130078, 0.9014, 'Woah fuck, hi fellow DorsetbroWeymouth checking in'), (80002759, 0.90557235, '98% do not support their childrenFucking wrecked.'), (81474590, 0.90482897, 'stop murdering us and your children. stop getting drunk and beating your wife. stop being redskinned niggersnotrailoftears.exeboo fucking hoo. injuns are a living reminder to never show mercy to an enemy'), (80513783, 0.921092, 'oh shit sauce on that video?'), (80549095, 0.91795003, 'Fuck, she let herself go eh?'), (79674707, 0.9192573, 'BLMIn CanadaWTF? why niggers, why'), (80273374, 0.9216366, 'Devolving into Tu Quoque role-playingFucking 9gaggers'), (80158673, 0.9125467, 'lel whoever made that list has no fucking clue'), (80288558, 0.91447824, 'Ill show your at least 5 places that has forced labour/illegal immigration type of bullshit going on.Like I give a fuck about that.'), (80594286, 0.91914046, 'Im actually fine with this. We only hate each other over fucking hand egg.'), (80847706, 0.9203538, 'Niggers are keeping themselves down. The system is perfectly fine if you take the opportunities given to you and educate yourself. But no, they prefer to be niggers and paint themselves as victims for eternity.I have zero empathy for useless shitstains like you.'), (80024727, 0.9138748, 'She cant keep on getting away with it!Fuck it, I am #filth4GILF now.'), (81494642, 0.9175339, 'Both anime and drugs are fucking degenerate.'), (81518749, 0.91197675, 'I wonder if this makes it into a tweet of some leftist cunt.'), (80277688, 0.9153374, 'Yeah, we got a lot of whiny niggers and spics on pol now. Shits sad.'), (80854005, 0.9218458, 'it was OUR ancestors who were the lazy ass faggots who couldnt pay decent money to whites to pick their cotton and imported free chattel slaves to do it for free..I blame Southern white crackers for this.'), (79714281, 0.92179054, 'Your color is grey/milk idiot Its obvious that my Polish girlfriend matter, I was talking about Switzerland and niggers'), (80472703, 0.92006356, 'hijack blm???? they fucking started it'), (81266439, 0.92015326, 'EVERYONE REMEMBER TO REALLY GIVE THE ROACHES SHIT FOR THISTHEY DESERVE THEIR ISLAMIC DICTATORSHIP'), (79906902, 0.9167709, 'The Anglican church allows faggot and women priests, and fag marriage.'), (79891972, 0.9217409, 'this still triggers mepolitics is like a soccer gamego red teamfuck'), (80647661, 0.9195048, 'Look on the bright side, leaf.People in your country are courteous, safe drivers.People in my country drive like reckless assholes.I think the US might have the worst drivers in the entire fucking world.'), (80074504, 0.9133082, 'Poor little paki. Had to grow up in a first world country and not the shit tiered country that your fucktarded people come from.People were mean to me and its illegal to throw acid ina girls face'), (81356541, 0.9219571, 'Onalholes..? Did you mean an anal-opening fleahlight?'), (80095793, 0.9153642, 'REPUBLICANS EVILHILLARY DINDU NUFFINFUCK THE POLICEREPUBLICANS EVEN MO EVIL'), (79634287, 0.9187491, 'nigger she looks like a clown'), (79487659, 0.919711, 'Right? Thats some dark shit, man.'), (79561938, 0.91839015, 'russian embargo fucked turkeymuh chicken and i find it hypocritical considering your conuntry backs the biggest islamic shithole saudi arabia, and or you probably support iran'), (79651617, 0.91179115, 'why werent there any fags in Gone with the Wind?'), (80357905, 0.9175632, 'I dont see /pol/s problem with the BLM movementYoure either a newfag or a nigger.'), (79405323, 0.92207617, 'Shit waifu taste tbqh'), (80013256, 0.91583246, 'HOLY FUCK DONALD WHAT ARE YOU DOING'), (81508664, 0.9214779, 'Mightve been.Smart people would kill Erdogan first then launch all out shit storm coup.'), (80469318, 0.9214333, 'holy shit, I completely forgot about this.Was wondering what the fuck was taking so long.'), (80089814, 0.91874254, 'Just 1? WTF wake me when there are 6 million!faggot.'), (80383502, 0.92012984, 'God damn what a a hideous creature.'), (81204476, 0.92016286, 'holy god your teacher is a braindead cow'), (81003204, 0.9162925, 'A NATION UNDER ONE FLAG FUCKERWho care if you are texan, you are AMERICAN that what matter'), (80411594, 0.91420233, 'Do you really want this anti-nationalist little nigger cuck manlet leading UKIP?https://www.youtube.com/watch?v=VQkbFDtyIIE'), (80137409, 0.9214784, 'Cucks the negro and his own wife infront of both of them, while keeping them at gunpoint.IM SOLD. WILL DO BETTER AT THE BOX OFFICE THAN GHOSTBUSTERS'), (79588483, 0.91974634, 'that image What in the holy fuck'), (80212220, 0.9218486, 'Should HAVE you nigger'), (80938383, 0.91928077, 'youre fuckign wrong matet. surfer anon'), (80061376, 0.9154822, 'met a girl on omegleDude go outside find some real pussy'), (80982871, 0.9207089, 'sunny is a sexy little slut'), (81229719, 0.91887474, 'ISTANBUL AIRPORT BOMBEDHOLY FUCK'), (80177980, 0.91838855, 'Hate both niggers and copsI win either way.'), (80148648, 0.92007005, 'Jesus christ, the blue ranger is a dyel auchwitz fag'), (81055089, 0.91441894, 'Junkies still exist and will steal your shit. White trash will still steal your shit. I know from extensive experience.'), (79774224, 0.9214931, 'Dont call it race.Its genetic cluster now, you Nazi fucks!'), (81357522, 0.91462314, 'You sound like a female or maybe the jew doctor cut off your balls too while he was cutting your dick.'), (81061117, 0.91872376, 'Am I the only person who doesnt give a single fuck about the Olympics?Am I the only...back2reddit'), (79967130, 0.9125647, 'Allende achieved economic growth, reductions in inflation and unemployment and an increase in consumption. Pensions were increased for widows and orphans. Until the sanctions came.and your fucking dictator came in'), (80687977, 0.92050594, 'Time stamp, or it didnt happen.Filthy lying nigger'), (80212731, 0.9210895, 'Yothe 411for one thing we dont care much for niggers'), (81386222, 0.92077583, 'pissing in an ocean of pissAre they going to reward us with gay porn again?'), (80694364, 0.9210907, 'Dammmn media, back at it again with the dishonest shit'), (80530651, 0.92066437, 'What the fuck is this'), (80306248, 0.91921, 'I ws told there was happening.Nothing happend.Fucking hell, America youre known for shooting everything. Why dont you shoot when Im watching?'), (81282573, 0.92174673, 'Im not sure how the people of /pol/ are going to react to this type of threadWhy? Is this some stupid shit form /r9k/?'), (80583723, 0.91254044, 'Normans were vikings that settled in France you fag.'), (79640411, 0.91242695, 'because these uncut fags think they know what its like to be cut'), (80464513, 0.92006457, 'there are a lot of fuckin riots every year. Hindus and muslims fighting all the time. I feel that things have worsened due to internet because these shits have started copying saudis'), (79320042, 0.91721934, 'why do people like this guy?hes an obnoxious retard'), (79483675, 0.92052937, 'Id fuck her if she was still young.'), (79507804, 0.9208866, 'Brazilians are the real cucks.'), (79761425, 0.9113917, 'So you can own a semi-automatic weapon but you cant own fucking fireworks?Explain yourself burgers.'), (80397279, 0.92169374, 'what if you used your faggot jizz in a surrogate?'), (79893815, 0.9143986, 'LETS GET DOWN TO BUSINESSTO DEFEATTHE CUNT'), (80521224, 0.9211341, 'Its not even out yet, faggot.Take your bait and go elsewhere.'), (81370343, 0.9112091, 'It wasnt a fucking lie idiot. They were wrong. Their predictions were off. But the data confirms they were on the right track. Holy shit are you muslim?Quit saying the data doesnt back them up. All the data points to increases.'), (81532703, 0.9192301, 'I fucking hope we get annexed.Or nuked, just put us out of our misery'), (80214465, 0.9165646, 'jesse jackson is an uncle tom ass negroyes massa hillary'), (81225113, 0.9139436, 'FUCKING KEKI love how she just keeps doing these minor punches and slaps and then he just starts wailing on her like no tomorrow'), (79523534, 0.9197364, 'Fuck off to /int/ This board has already become shit enough since 2013 that it doesnt need non-politics threadsAlthough, kek.'), (80196963, 0.91913116, 'Children, random moviegoers, fags and now police. It still wont work. He cant keep getting away with it! The killing of random Americans to push a bullshit anti-gun agenda has to stop.'), (79710823, 0.91868615, 'posting from flagOy fucking vey'), (81423894, 0.91893804, 'SHIT SON, KEK HAS SPOKEN'), (80552014, 0.915619, 'rage over the littlest shitShe was refusing to leave his car and fucking with his work.'), (79512964, 0.92143446, 'I dunno but searching terms like 黑鬼 would turn up nothing but a message saying results are blocked because its against the law or under government orderWhen I baidued about niggers there are a lot of front page answers of people hating on dirty niggers so its not cucked to the west tier'), (79509738, 0.9195697, 'tabsucks dickColour me unsurprised'), (80734732, 0.9180122, 'our businessHalf of your population fled your country less than 30 years ago and it would be even more if we didnt support you for the sole reason of you not being Muslim. Armenia on its own has no business other than being genocided by fucking Turks of all people. Fuck off, Arsen. If you want a Caucasus without Russian presence you might as well just kill yourself now to save Azeris the trouble.'), (79757521, 0.92106307, 'Why does no one question black people being disproportionately stopped the other way around? Like, that theyre actual fucking criminals?'), (79990180, 0.9217503, 'be meStopped reading there fake and faggot'), (80332693, 0.9209778, 'LOL dis nigga sayin fuck 12 on da periscopeno respek'), (80614910, 0.91579103, 'Holy shit, those are 3d models. Those look terrible.'), (80400839, 0.92101526, 'Only after you explain why your flag is a fucking leaf, maple chugger.'), (80396909, 0.9189396, 'legitimate grievances against the state,I wish I was a nigger in the United States of Pavement apes instead of being called and treated like a gypsy here(by my own goverment) and outside in the EUFucking entitled,spoiled,lucky,niggersThey have everything put on a plateNegroids are richer than some western european countries because whitey keeps babysitting themFuck off from America if you dont like it.'), (81530303, 0.9205143, 'Explain yourselves.I dont have a small penis.'), (79487475, 0.92217934, 'Dems Jew the primary Piss off half the baseBoth anti-establishment dems kneel to the DNC with no demands metIndependents hate ShillaryRepublicans hate ShillaryHalf of Democrats hate ShillaryDebates will be blood bathHoly shit, Im unironically Trumpfag now'), (80899484, 0.9199359, 'If you call Canadians Americans, theyll get fucking ass-blasted.'), (81502568, 0.91920537, 'Twitter beefWow, it is fucking nothing.'), (81252846, 0.9218644, 'If Navy is in this shit, game over.'), (79378598, 0.915857, 'ad hominemyou have any idea where you are faggot?throwing out your stupid buzzwords wont give you points here Im afraid.There are no rules to a real argument.I can insult you all day and still have better arguments.But I understand if your feelings are too hurt to continue.'), (80571779, 0.91420466, 'went for a guncold bloodmuh executioninb4 you dont know if he went for a gun.Neither do you faggot'), (80889470, 0.9160089, 'Thats your idea of a jock?Fuck , Britain is weak as they say.'), (81153338, 0.91922766, 'Some muslims needs to rape this brown kid right up his ass with no lube'), (81453638, 0.9145641, 'Pretty shitty design.'), (81300193, 0.9213216, 'because your boyfriend is a fag, sorry to blow his cover'), (79908800, 0.9188217, 'this shitposting kike leave never stops his hasbara.'), (80903534, 0.92037535, 'Holy fuck that dashcon I thought was Peak Cringe. All those freaks in the unadorned conference hall that some shithead forgot to pay for. The ball pit. The way Tumblr withheld the right to use the name. Fuck Ive never seen humanity reach that depth of pathetic uselessness. Unfucking real.'), (79451952, 0.92065024, 'isis has killed more muslims than any poeple with other religious beliefsthey also destroyed and ruined mostly if not exclusively countries whereby islam is the major religionDont kid yourself most people here just want europe to stay a most white and pure countrybut you are just full of shit nigger'), (81483463, 0.9213252, 'Italy fucking hates the mudslimes, so good there. But Norway and Ireland are cucked'), (81487238, 0.92179763, 'Its important to understand what religion is. 99%+ of all religious people on Earth are born into the religion. Its a virus that transfers parent to child. Anyone can mold a fucking developing brain to believe anything they want it. Religion just happens to promise paradise once your brain is fucked.'), (80338204, 0.9209609, 'greentexting for no fucking reason at all'), (81482530, 0.9194943, 'My fucking sides, this is too good.'), (79773429, 0.9124806, 'Yeah, and youre fucked up in the head too. You arent disproving the hypothesis.'), (79873388, 0.9200594, '...This is fucking poisonous. The news is fucking SWAMPED with peaceful right wingers getting attacked by rabid leftist antifa cucks, and now we get this shit?I thought it was bullshit when the portrayed Jesse Owens heavenly German vacation as hell on Earth, but this is active. Deliberately confounding present events that dont suit their narrative. Were going to get false flags... they need something real something to help this shit go down easier.'), (81070341, 0.91787654, 'Starbucks barista here. We dont give a fuck what you put in for your name and never ever call it out.'), (79809461, 0.9208164, 'Anime is a cancer get the fuck out'), (79826718, 0.92076457, 'What the fuck is the point of they consent to it? Personally I cant wait to hate fuck some muslim girl when the crusades begin.'), (79758564, 0.91622984, 'no kidding, thats 800 per paycheck, at 40 hours a week and including canadian taxes, thats barely 8.50 an hour.... Dude should NOT be in an apartment that expensive. Find roommates or find a cheaper apartment.Your problems are caused by your own inadequacies.. OP Get a better job and get a better life, you moron.'), (81399596, 0.9203029, 'These are both true you massive faggot. Liberals both want all white people to die and for all black people to follow their narrative.'), (81414478, 0.91861707, 'Braindead shill. You deserve to have your family raped and tortured in front of your eyes, then be raped buried alive with their mangled corpses. You vile, subhuman, liberal piece of shit.'), (80991947, 0.92572194, 'Le disgusted nigger face :D :D'), (81346885, 0.9317026, 'You forgot the fruit-jew and leafy-jew, all plants were genetically fucked with by the jews for centuries and barely resemble their ancestors.'), (79806333, 0.92671263, 'Restate what you think you are arguing with me about if you want, but I dont give a shit either way'), (80649077, 0.92703164, 'I actually support faggots like this and the retards who put him theret. trudeaucocksucker'), (80561072, 0.92980635, 'stormshills hate him because hes gay'), (81514707, 0.9246867, 'Youre the retard who think ideology is more important than race. You said it yourself that you dont have a problem with niggers impregnating your women granted they have the correct values. You fucking disgust me.'), (79836638, 0.93269247, 'IT TURNS OUT TO HAVE BEEN MORE COMPLICATED THAN THATHOOOOOOOOLY SHIT'), (80474051, 0.9288784, 'live in a frozen wasteland for 1000 yearsget fucked over by the mongolsthe french push your shit inthe nazis decimate your populationlose the cold war and your country disintegratesislamists take over your southern republicsand every time those crazy slavs rebuild a functional state out of their ice hellholegotta give it to them'), (80427756, 0.92703164, 'ifra nadeemthis is what you get for letting all the shitskins into your country.kill whitey'), (79805806, 0.92703164, 'I thought first that op was a /r9k/ robot refugee and I felt srry for him, but now /pol/ is /soc/.Fuck this! Too much gay faggotry, im outta here...'), (80110465, 0.9331903, 'there mongol with tiny dicks bringing down the average.'), (79678794, 0.92703164, 'Whites who actively advocate racemixing and dare act like hypocrites are no better than niggers. Plus why the fuck that happened? Its as I said, blacks are seen as poor and ugly or even inferior'), (79729775, 0.92703164, 'Youre right, a pantywaste who volunteers most of his summer to disaster relief in your own state because texasfags cant hardly fix their own shit. Im down here unpaid in your state for God. Funny, guess how many texasfags ive seen helping their own? Exactly. Shut up faggot texas, looks like youre the pantywaste'), (79684000, 0.9243178, 'These are all shitty.Why cant he get somebody from a swing state?'), (81433180, 0.92893326, 'Its makes me REEEEEEEE when I see vegans force their bullshit on their dogs &amp; cats'), (79749141, 0.9294981, 'I would like to affirm that all this shits just jokes.Thank you for listening.'), (79950174, 0.92703164, 'Dress like a niggerAct like a niggerGet treated like a nigger'), (79810991, 0.9301145, 'NIGGA GOT STABBED IN THE HEAD'), (80620837, 0.92385924, 'you a lanky skelly no aggro beta (possibly ugly) fag. do you lift? do you go out drinking? Get aggressive douche'), (80152025, 0.92703164, 'fucking legend just walking around'), (80956725, 0.9264385, 'Our warriors fight for their homeland and their religionOh you fight now aye? why are there millions flowing into jeropa eh? you fucking sandnigger cunt go fight your war on your land and worship whatever shitface you want instead of scurrying under jewropa for that jew gold and infecting civilized folk with your diseased wayswhaa whaa we dont have weapons and and whaa whaa lol u wat m8?'), (80466232, 0.93330264, 'maybe in your 3rd world shit hole'), (80434845, 0.93323034, 'Because mods are fags.Discussing sexuality is considered to be off-topic, despite the fact that sex and societys view of sex is a front in a major sociopolitical struggle.Its literally one hot pocket-eating, slut-enabling, SJW NEET who does this shit.'), (80057270, 0.9266297, 'Oh shit, we better ban all cops and kill all white people now! That will fix everything! But the Holocaust was very bad, Gods Chosen people are above the law!'), (79589625, 0.92703164, 'Who the fuck decided Brazil would be a good place to host this shit? Zika and terrorism aside one trip to liveleak should show anyone why this is a terrible idea.'), (79865772, 0.9237436, 'Youre right. There will be world wide party before we have to go and liberate the land from all those accursed muslims.'), (80934550, 0.92703164, 'keep your ass OUT of colorado god DAMN ITrent went up from $900 to $1250 per month in 3 years because of you fags'), (81185304, 0.93132424, 'Stop trying to make kek into some fucking demon.'), (79386579, 0.92703164, 'Do something about itTheres nothing I can do but redpill other white males about this fucking herecy. If I need to I will build a community that will stop this shit. But thats later down the road if you niggers dont stop excluding us white males and keep preaching about being inclusive.'), (81033380, 0.92703164, 'Wow show them with your new fb filter and with your #notallmuslims hashtag.How many dead French are needed before French people stop being fucking faggots?'), (79917977, 0.92703164, 'Whatever. We just want him to build the fucking wall. He can have fags and nigs at his golfcourse all day for all I care.'), (80428316, 0.92703164, 'Snarky as fuck! Did you know Moon Man himself was the invention of an Australian advertising agency?Cuck nation my ass. We dont even need a wall bro, got three oceans!'), (80878469, 0.933054, 'smoke potget shotpeople cheerthat is reason enough to not support this bullshit. if you support alcohol consumption but not pot consumption youre an hypocrite.'), (80297979, 0.93316686, 'Lets keep it going! :D Yall are kicking some ass!'), (80619194, 0.9320845, 'For thousands of years families shared the same home for generations, with the older children eventually taking over the household when the parents died.Suddenly this is a bad thing.Fuck off.'), (80933053, 0.9318046, 'president of the most powerful nation in the world is black worlds hottest and best activist group is for blacks creator of peanut butter is black inventor of the internet is blackStay mad whitey. Your women are getting fucked by blacks and Muslims daily.'), (80977427, 0.9325396, 'If you think BMI is a reliable indicator of overall health you are actually retarded. Consider this: is a 250 lb 60 body builder or strong man a lazy, fat piece of shit? Learn to think critically you fucking sheep'), (81522271, 0.92703164, 'fuck y and z(((they))) came up with those namesand it shows how much they care about uswe will come up with something better when we earn it'), (81456108, 0.9280037, 'Holy fucking, post-ironic autism.'), (79540144, 0.93003756, 'This guy is the James Joyce of making himself sound like a pussy'), (81445842, 0.923171, 'Id give up peanut butter for a nigger free America.'), (79670645, 0.92827594, 'shit all this time sheriffs were antisemities'), (80296258, 0.92703164, 'No shit, but expecting armed civilians or cops to take care of this kind of attack, then youre the retard.'), (79856458, 0.92703164, 'No, Tim was a douche. David Koresh was a twisted fucking psychopath and his people shot police. Tim killed innocent civilians because the government stood up to Koresh. He deserves to rot in ADX'), (79785960, 0.92703164, 'Who cares, its a nigger'), (80565093, 0.9233311, 'I swear /pol/ attracts the dumbest fucking people on earth. BLM never killed anyone yet the KKK Aryan Brotherhood have and you want to name BLM a terrorist group? Thats the dumbest shit Ive seen all year.'), (80276232, 0.93125635, 'take up a job that has you keep order and continue to kick peoples shit in who deserve itB O O T L I C K E R'), (81255547, 0.92703164, 'Nobody fucken cares. Wed go make babies if we caredya blew it.pngWhy are you making excuses? Whos paying you?'), (80440720, 0.924179, 'WE WUZ COVALENT BONDS N SHIT'), (80652570, 0.9332438, 'Bumpity fucking bump. Someone should probably post this on /b/ too. I dont wanna go there, but Ill do my due and syndicate the hashtag.'), (79862590, 0.93280613, 'that fucking podiumpresidential seal'), (80524586, 0.92703164, 'remember when hipsters werent pussy faggots, I miss those days..'), (80508607, 0.92703164, 'He deleted all of his comments and I think blocked mehe was a cool guyIf he cant handle a conversation hes not a cool guy. Hes a pussy.'), (79645199, 0.92703164, 'Yeah lets ban the only thing that allows us to feed everyone on the planet. Great idea fuckwad.'), (80105178, 0.92511994, 'If you act like a nigger, youll get treated like a nigger.'), (79969568, 0.93201727, 'Why are Trump supporters so fuckin racist and sexist? I hate Sam Hyde and his views. Basically he believes men are becoming pussified and this is definitely not the case. We are heading in the right direction when it comes to equality as long as we dont let redfags continue to run shit.'), (80079199, 0.92958206, 'Abortion and only anal from now on. My wifes uterus is useless obviously.'), (81357078, 0.92703164, 'you literally support people giving free money to lazy niggers. cant get much more cucked than that.'), (79386185, 0.92703164, 'Nobody gives a fuck about your chump change NewtHis VP will be Sessions. Why would Trump deny a $200 million bribe just to have him as VP? Are you retarded?'), (80327780, 0.92703164, 'i dont think niggers realize they would be annihilated if there was ever a race war and that whites hold back because we dont want to be fucking arrested'), (80663021, 0.9332058, 'im actually gonna get mad even these dumb fucking dindus keep pointing to the civil rights movement as a justification for their chimpouts and im not even a niggerwhat the fuck you cant just use justified and civil protests as a reason to be a chimp and throw bricks at peoplewhat a time to be alivethis movement is literally breeding racism and hatred between the classes and if they didnt want that they would do it differentlyor theyre just stupid as fuck'), (79738469, 0.92983854, 'perhaps this faggot will get cancer from inhaling the burning chemical fumes from the cheap chinese made american flag he burned.'), (80616053, 0.933208, 'we didnt destroy jack shit, we left cause you lazy fucks were trying to destroy our demografy and you stole all of our&amp;croatias money and spent in in bosnia&amp;serbia cause you lazy fucks didnt even have roads when we already had heavy industry. bosniaks would come to my countory and just slack off and get our pay and we couldnt do jack shit cuz MUH BRATSTVO I JEDINSTVO... i like yugoslavia and i am a communist but you were the guys who were mooching the system not us.'), (79542182, 0.92703164, 'Holy shit are you me, I feel exactly the same way and am mulatto as well.'), (80133350, 0.92899287, 'Brazil not Red to pitch blackwhat a shit map'), (79855660, 0.93330514, 'OH SHIT NIGGA WHAT HAVE YOU DONEROLL TO FILL IN ANY CENTRAL STATES'), (79683741, 0.9241336, 'all this asshurt over a FUCKING starjesus christ, those that want to be offended are the only ones that see it as something anti Semitic'), (79528226, 0.9258217, 'lol like you fucking gooks wouldnt jump at the chance to intermix with whites'), (80123070, 0.9313922, 'de white man be killin all de black folk'), (79930661, 0.9226496, 'well, based but stupid'), (79540993, 0.92327076, 'My Polish girlfriend gave a blowjob to a 30 year old Muslim turk before I met her. Shes only 19. What the fuck do I do now'), (79877172, 0.92703164, 'fuck mate this thread starting to become gudDOUBLE CHECKED'), (80016830, 0.9308962, 'Holy shit this is the most retarded post Ive ever seen on /pol/Congratulations Egypt'), (79856319, 0.92703164, 'So Trump is basically fucked for November now, right?I was so hoping Hillary would be indicted, as Trump wouldve have an incredibly easy time dominating Bernout or Biden, but going up against Hillary is an impossible-to-win matchup, unless some unforeseen event removes her from the race.Fuck you Comey. Fuck the FBI. Fuck you corrupt oligarchs.'), (80992525, 0.92703164, 'You guys this is a bait thread were being brigaded by nigger loving Reddit fags stop replying to these bad bait threads'), (81044504, 0.9295843, 'HOLY FUCK LOLSHES GETTING SO MADTHIS IS A PREVIEW OF THE DEBATES'), (79825165, 0.9233233, 'Ill fuck, kill and abuse anyone that gets in my wayheh.. nothing personnel kid.'), (79386494, 0.9258684, 'You need to be turning 360 degrees and getting the fuck off /pol/, son.'), (81472454, 0.92703164, 'Remember all the articles that said Pokémon Go puts blacks in danger?Bullshit. Im not going to campus now because of this shit.Look how many pokestops and gyms Im missing out on at LSU.Life is suffering'), (80304065, 0.9238337, 'If you are white, in decent shape and relatively tall you will be literally swimming in pussy'), (81539250, 0.92703164, 'I DISAGREE WITH U U HAVE SMALL PENIS THAT WILL NEVER PLEASE MY BOLOGNA CURTAINS'), (80986812, 0.93245226, 'All lives matter? What a bunch of crap. No lives matter except mine. Now die for me you pitiful maggots.'), (80955003, 0.92703164, 'he shouldnt have to dieNigger didnt listen. If you dont listen to a cop with a gun pointed at you, you see too stupid to live.'), (79396052, 0.9324093, 'her son has rageblocked meSorry, but this keypad is buggy as shit and skips around while typing.'), (81406074, 0.9319987, 'Its just jewish propaganda dude. Only the most brainwashed amerigoy women like mutilated penises and they probably all only fuck niggers like the jew media told them to anyway'), (80971266, 0.92703164, 'Holy fuck THERES AN IED IN YOUR TEETH RIGHT NOW'), (81269115, 0.9301887, 'Literally who? Seinfield is also shit.'), (79842538, 0.93317246, 'I have a secret clearance in the military. If I even let someone without a secret clearance SEE some stuff that required my clearance I would probably be court marshalled and sent to the brig for a while. Hillary gets away with letting top secret information go into the wrong hands and doesnt even get a slap on the wrist. Fuck this gay earth'), (80219804, 0.9280069, 'Be South AfricaGet raped, house burned down and beheaded with a machete'), (80710424, 0.92605406, 'Found the vancouver chink. GTFO of our country you slant eyed faggot.'), (80356105, 0.92873544, 'I used to be funny but then dove off the deep endI was never funnyITS DA CURRENT YEYEAH I MEAN COME ONIm only right on radical islam and Im a retard when it comes to everything elseJesus fucking Christ, man.'), (79746602, 0.9227293, 'fuck this little kid. obviously a jihadist in training.'), (80327037, 0.9332717, 'Anyone has the numbers of how many black people died this week alone at the hands of other blacks?This should be a fucking stat being plastered all over the media, this negates their whole argument.'), (81226919, 0.92703164, 'Turks arent the problem.Islam is.If those faggots remained tengri or some shit no one would give a fuck,but they had to convert to the RELIGION OF PEACE and become roaches.'), (80507085, 0.92703164, 'SJW detected.Because caring about animals is being a sjw.Youre a massive faggot, you know that right?'), (80356719, 0.924339, 'It;s because the message from Apollo was edited by the white.The original said : We wuz Aldrins n shit'), (81285773, 0.92703164, 'yeah pretty muchislam is complete fucking filth now'), (79918682, 0.92276424, 'I fucking hate cops but Ill defend this. That kid had a loaded fucking gun pointed at him and his first thought was to pretend have a gun and quick draw it? This is just suicide by cop'), (80432325, 0.9266242, 'oh shit, a wild dindu appears'), (80301813, 0.9274672, 'wrong photo wtf is this shit?'), (80873017, 0.92703164, 'hes still pretending half of us dont agree with him so he can get on his high horseyoure alright when youre not being a huge faggot but wow you love being a huge faggot'), (79899560, 0.92308605, 'Nope, love Mexico and its people. Drug lords are shit though'), (80052545, 0.9237699, 'I already bought Crippled America. Im not donating for nothing. Im not a fucking Sanders supporter.'), (80857756, 0.92703164, '8 years of King Niggeranother 4 of a criminal cuntlook whos throwing the rocks'), (79735078, 0.92703164, 'Prove it, faggot.He was part of some other loser website, no connection to 4chan.'), (81417492, 0.92703164, 'Look after ya stateUnless youre from Victoria, fuck that cuck state.'), (80652215, 0.9282924, 'Thrown out on her ass regardless.'), (80668831, 0.9268725, 'you are the bitches that owned the ships that brought that shit here.But lets make peace and as white brothers Unite for the Final Solution. Wouldnt it be nice if your kids could ride their bikes downtown to see a movie without niggers trying to jump them in a Chimp Pack?'), (80378588, 0.9275815, 'Fuckin david puddys jacket from seinfeld!!!!!'), (79586740, 0.92703164, 'sadpanda letting merkel livefaggot'), (80188684, 0.92630893, 'He just said black people statistics on incarceration?Fox news is fucking throwing this backwards, this is PRE dallas. HAS to be. REPEAT, FOX IS DOING BULLSHIT'), (80626482, 0.93370146, 'The Olympian gods were a bunch of assholes, though.'), (81019295, 0.93348664, 'Higher probability of Terrorist units per population, because...you know...muslim Terrorists. And yes, my shit country is such a location as well..'), (79949437, 0.933445, 'no he sounds frustrated that people arent eating his shit'), (80336367, 0.9334049, 'this guy knowsall this edgy shit that girls do are just red flags and symptoms of being garbage humans. When you see them you know to avoid themfirst season of Archer is unironically good, and bitches dont watch it'), (80210507, 0.9388474, 'you idiots the guns themselves conspired to set us against one another'), (80417604, 0.93997455, 'White people are retarded.'), (81146381, 0.93416286, 'what gives you the rightfuck off toddler.'), (79723181, 0.9386316, 'Any of you cunts wanna tell me how this little shit got elected in the first place?'), (80527207, 0.9333761, '(((alt-right))) youtubers/celebsSargonjewBolineoujewMilogaythat other dudegayIf you dont see whats going on youre an idiot at this point'), (79966672, 0.94390523, 'Pic on left has geography which is full of small lakes, ponds, hills, etc. Thus forcing villages to conform to the geographyPic on right is nothing but a flat plain thus allowing for uniformed and simple urban planningOMG FUCKING AUTISTIC AMERICANSAre all Germans this fucking retarded?'), (81105389, 0.9412792, 'track every muslim, deport all shitskinskill isis'), (80520295, 0.94242144, 'You are facing-IM FACING A FUCKING MORONi cant stop laughing'), (80404018, 0.9333429, 'Fuck you, its cultural.Pretty much how your culture allows muslims to rape their children.'), (81387520, 0.93411744, 'Also more of a taboo to take advantage of those who never got any real schooling.Again, just fuck one of the niggers here.'), (79375379, 0.9334642, 'Underrated, cock sucker'), (79970642, 0.93566865, 'Hes a fucking jew and unless someone kills him hes going to continue jewing until he dies of natural causes.'), (80982383, 0.9352719, 'REAL AMERICAN HEROseriously, though, that nigga should NOT have stoppedif you stop, youre fucked'), (81253617, 0.9405355, 'nothing at all.....totally dead... just like the coup faggot'), (81354905, 0.93343127, 'Im sorry, F22s, not 35sand not fake you cretin, I live right next fucking door to them'), (79332201, 0.93913156, 'Its a beta male, his slut girlfriend, and some chad using her as a fuck toy. Its cucked to shit, and anyone trying to play it off as anything else should be mocked for it.'), (80676512, 0.93349713, 'Hot, I love my moms bush when I see her naked after fucking a guy.'), (81376501, 0.93436676, 'the random mind numbing poster talks about how he thinks with his dick'), (79998760, 0.9334823, 'Cry more about it... you little girl. A bunch of fucking sissies on this anime website.... I shoulda known better.'), (79355115, 0.9362174, 'o shit a red impala in an auto accident. o shieeeet.That really sucks....And then, male being choked!By a black man!'), (80505477, 0.94152266, 'France or someones getting their ass kicked'), (80038176, 0.9333337, 'this nigger made a slight reference to Jewswell I better let him come over and fuck my wife in front of her son.'), (80386429, 0.9394661, 'Like why the fuck are we subjected to the presence of niggers?This is the greatest injustice to white people. Get them the fuck out of here..'), (79324062, 0.9359346, 'Fuck off Gary johnson'), (79956796, 0.9361988, 'well one of then HAD to sell a littlemean while this shit was shit canned in less than a mounth'), (80153508, 0.94113296, 'Keep living in denial, you fucking cuckold nigger-lover. The facts arent on your side.'), (79415247, 0.933358, 'Its not a rally you faggot.'), (79966104, 0.93884325, 'What is the fucking story on this shit? I was born in 89 and remember the death, but I never heard of any nog fucking'), (79824904, 0.9333548, 'get off my /pol/ reeeeeFuck off assfaggot. Christians on /pol/ is a meme, you know that right?'), (81290685, 0.93803716, 'Implying your little trap bitch ass could handle more than a Honda civic'), (81232170, 0.9344225, 'P stands for pussy, but I wouldnt expect you to recognize a vagina.'), (79532017, 0.9347176, 'I speak about hating blacks shitskins and niggers all the Time but I dont live in a cucked state'), (79935658, 0.94036853, 'What are you studying? Also answer my question, what kind of kinky shit are Algerian girls into? Why when they go to Europe they date niggers?'), (81242821, 0.93975526, 'Fuck off with this picture. I didnt need to feel. Not now, not after watching a tank run over a man.'), (79964270, 0.9369824, 'great googly moogly, I had no idea. Fuck this.'), (81406092, 0.93333983, 'Her as is only a source for shit though.'), (81132224, 0.9333769, 'anybody that dislikes Pence is a shillfuck off, Im still voting Trump but Pence is a garbage pick.'), (80611102, 0.93732643, 'Nigger tits are absolutely disgusting, no more attractive than tumors. Her areolas probably have a circumference in inches greater than her IQ.'), (80335629, 0.944007, 'im not a fucking niggaand its not loading for me anyway'), (79749137, 0.93576187, 'If she doesnt like it she can tell me to fuck off, I assume by default that all women want to fuck me until Im told otherwise.'), (81427545, 0.9334649, 'I hope your computer dies'), (80014913, 0.9334169, 'op you faggot post the rest'), (79805276, 0.93335855, '62 millionHow many fucking refugees *are* there?How bad is this war, that these many millions of people need to flee? Shit sounds biblical.'), (80914426, 0.9402372, 'Fireproofing materialEven if its there, its been blown up. A plane just fucking smashed into the building.'), (81480929, 0.9366728, 'fuck rollins hes an absolute fucking sellout retard and black flag is the epitome of bro/hipster punkt. aging punk rocker https://www.youtube.com/watch?v=wQ6FjUeQ5Zc'), (79698933, 0.93333364, 'Getting emotionally attached to a piece of fabric Yes, Ameritards are that stupid.'), (80264293, 0.93335956, 'stretch your foreskin daily or else itll become tight and hurt like a bitch'), (81528306, 0.9334734, 'Id like to sneak between her butt cheeks.'), (80388135, 0.943747, 'He doesnt have a silver tongue.While I always prefer hard-ass soldier kind than lying bastards, the MSM could twist his words with their bullshit.'), (81474876, 0.9402242, 'still do more than you fags to fight degeneracy'), (80649364, 0.9334058, 'This. This a thousand fucking times.The mods are selectively moderating. They only ban things they personally dislike in the moment. complete fucking faggots with no oversight.You really are a dense fucking faggot if you havent noticed the mods blatantly either not doing their job at all or only doing it when it suits them. The sheer amount of threads on /pol/ that are stupid fucking shit as described yet the faggots doing it are never banned and their threads pruned is insane.'), (79584063, 0.9333787, 'hiding your bonerWhat, are you some sort of fag?'), (79785776, 0.9333387, 'these niggers are truly retarded, they cant even see that their own demands conflict with one another particularly #2 and #7'), (79894624, 0.9431073, 'Le argentina isnt white memeSuck my pink germanic dick negroes.'), (80283796, 0.93642855, 'Shit, missed it. Whens the next one?'), (81228073, 0.9334031, 'TURKISH CIVIL WARI hope that this is the ebin habbeining of our timeand for the love of god why cant I let this post go through it aint spam you fucking hot pocket fucks'), (81398299, 0.9385693, 'Because sluts lack cleanliness. Girls by far have messier rooms and bathrooms than men.'), (80333569, 0.93773735, 'Come to polCatalogMost repliesShitposts.Can you retards stop bumping shitty threads?'), (80131504, 0.9386374, 'No fuckin clue, its some name name but it sounds like T.D. Something or Titty Jenkins which Im sure isnt the case.'), (81150983, 0.94298124, 'Nice job on this edit, whoever did it.Classy as fuck.'), (79945341, 0.9334821, 'niggerscitizensWe all know theyre blood-sucking parasite scum who ruin this country.'), (81439127, 0.93707514, 'I swear during the upcoming war im just shooting anyone who isnt white I dont give a fuck'), (80907182, 0.93336684, '100 degree with 95 averagemichiganmidwest is fucked'), (80659684, 0.9424344, 'Abbo, we kill fucking whales and barely bother to eat them. Meanwhile flightless birds push your shit in so hard you have to shitpost on the internet to relieve stress decades later.'), (80513069, 0.9350255, 'immigrans come use welfarewelfare extracted through taxestaxation is theftClosed borders is self defence = DOES NOT VIOLATE NAPGET SHIT ON NIGGER'), (79351883, 0.94027233, 'oh shit white junkie on the run!'), (79445459, 0.9334646, 'Starting a thread with a twitter post from someone no ones heard of should be punishable by a 30-day ban.Scandanavian shitheads have been spamming this horseshit from this brainless scag since last night. I would know, I watched them post this over and over.It is a thinly veiled attempt to bait people into responding so that offensive responses can be farmed and reposted on her fucking Shitter account.They can just fuck off.'), (80911472, 0.93907255, 'you just know she wants to fuck trump'), (79905050, 0.93338656, 'Its a long fucking download.'), (79321198, 0.93356067, 'leaf threadwhy are they always shit?'), (79705758, 0.9347811, 'We already have enough white people who have jobs, pay their taxes and behave well. We obviously need more Muslims who live off government payments, commit crimes and treat every white person like shit.'), (80003360, 0.9390913, 'Fuck that... Italy will start the fire..https://www.youtube.com/watch?v=kwl5kyjLGT8'), (80173003, 0.9384491, 'mother fucking black guy with what looks like an AK or derivative platform.mother fuckers probably got the rifles from mexico or fast and furious.'), (79588661, 0.9352071, 'USA always fucking shit upIn this case it was the French and the Brits. Mostly the French.'), (79808071, 0.94392467, 'K is shit, talk about guns here'), (79701427, 0.943883, 'For real though, you fags have promoted cuckolding and interracial porn harder than any other force in society, including Jews. You really fucked up with this cuck shit. You had no idea what the consequences of your actions were going to be.'), (79439608, 0.93352157, 'A fucking bonobo ape would be an improvement.'), (79915354, 0.933468, 'A fucking seven pointed LEAF!!!'), (80387276, 0.93903875, 'Actually, theres a tonne of research going on into what causes autism, and into vaccines and whether they cause autism. Spoiler: They just fucking dont you colossal idiots.'), (79764164, 0.93347245, 'Dead dreams, paper factories West Lafayette way, and soybean farms are full of shit.'), (80428233, 0.9425101, 'HES A FUCKING WHITE MALE!'), (80462544, 0.9443992, 'Cant wait for the police to crack some fucking skulls'), (81293570, 0.93333954, 'ANOTHER PAIR OF FUCKING TRIPSIT KEEPS HAPPENING'), (79782913, 0.9334964, 'Dont give this Faggot views.'), (80339311, 0.9363098, 'oh shit. thats a legit CDC stat... so the blacks really are more savage?'), (80459691, 0.9343685, 'He doesnt have one. He probably thinks hes the leader of the free world or some dumb nigger-tier shit, but really he is a puppet being manipulated by smarter people.'), (80407131, 0.94409245, 'no but that isnt going to get people to the polls you fucking retard.'), (80950358, 0.93625134, 'As if faggots arent just googling the words you arent sure ofWorse than niggers'), (81544959, 0.9349209, 'i like instrumentalsi think its ruined when a nigger saying retarded shit over a dank track'), (80079192, 0.9334587, 'Niggers are stupid, they dont know their is a difference between Jews and whites and they also believe they are the original Jews and the white man stole Judaism from them. Niggers are worthless allies.'), (81026121, 0.93600684, 'Literally fuck liberals and their special days.'), (80351340, 0.9373437, 'Little Bitch Boy indeed'), (80968426, 0.9428085, 'Lusts for white cockAre you autistic? Every guys shes been with has been a black.'), (80848111, 0.938596, 'Nice (((meme))).Stop shitting this board, stupid Stormfront Shills.'), (79408773, 0.93863726, 'If youre posting here and have shit you shouldnt on your hard drive, then you are fucked.'), (80103171, 0.9341976, 'what the fuck do you know? trying to tell me shit? You are from isrealstop talking like you live here and you know anything'), (80647656, 0.9408591, 'What, you think Im triggered to the point of rage or something?lmao. No.normal citizens of the US are dangerous psychopaths.Get a load of this faggot. Cry more you whiny little bitch.'), (79918474, 0.9385049, 'As if they arent smart enough to play both sides you fucking moron, why would a jew put all his eggs in one basket?'), (81428656, 0.9333595, 'Jesus fuck. They gave 500 animals a job (free learning and everything) and hard working whites are constantly kicked out/unable to find work because diversity Shit?'), (79692814, 0.93343824, 'holy fuckKEK IS GETTIN PISSED'), (80958921, 0.93342555, 'Hes probably just a dumb nigger. Sad and unwilling to face the facts about his dimwitted race.'), (79553065, 0.93917906, 'So guys, whats all this shit about Vermont and shooting up hippies?Whats going on?'), (81339469, 0.9422455, 'I hope we nuke you filthy shitskins'), (79564501, 0.9333346, 'oi am unironically laffing my arse of m8 at your weak attempts at banter its so shit its great.'), (80203030, 0.94368786, 'Those are made in the states. Do you think we fucking teleport them to God damn Africa?'), (80479959, 0.93338525, 'Youre not Asian and not white so youre either a nog or a Latino. Your opinion is worth nothing and you are a cuck for whites.Get fucking genocided.'), (80690637, 0.93487513, 'Maybe its just a the tranny thing everyones tripped up on. Gays are one thing but when people start cramming the idea that dudes who wanna chop their cocks off and be called madam are normal and TOTALLY SANE AND CANNOT BE CRITICIZED thats whenI got off the ride.I had never been a fan of degeneracy but I thought it was ok to just tolerate t but when the Tranny think happened I knew they were taking this all the way to the bottom. Pedo acceptance, polyamory, bestiality, fucking Sodom and Gamorrah.'), (79679806, 0.9531815, 'yes, she has taken pity upon you after your parents killed themselves because of shit children.'), (80488320, 0.9490138, 'He can suck me off.No homo.'), (80530076, 0.94555116, 'what the fuck are you babbling about? Are you legitimately so dumb that you start to ramble about some empty platitudes when faced with your own retardation?He doesnt get paid for letting her sit in his car so he wants her out so he can move onto the next ride he gets paid for. How is this not understandable, you stupid cuck?'), (81132551, 0.94587237, 'this tweet (and the muslim one) will get spammed across news networks forever.fucking hell'), (80182780, 0.9546026, 'Who is this? Everyones keeps shit posting his picture'), (80361544, 0.95196414, 'Fuck off m8.I work from 7 to 4 after putting myself through university to pay the welfare of people like you.'), (80114525, 0.9515071, '8 JUUUUUUNEnice try faggot'), (79782249, 0.9552356, 'those titsanyone gotta better pic? just to see if thats a fuckhole or he'), (80321273, 0.94874394, 'Nigger kills copsits hite people fault!How can Hillary get away with this'), (81321203, 0.9473614, 'You fuckers are hilarious. I never happens'), (81132640, 0.9454537, 'You have the burden of proof if you make such a claim, moron.'), (81386485, 0.9493642, 'retard. Kill some muslims instead of yourself.Become a martyr for kek!'), (80126535, 0.9479124, 'dont be so fucking lazy next time and do your own research'), (79611165, 0.955307, 'Average Israeli is more brother tear than average German.You fucking blonde niggers tried to destroy Europe too many times.Get fucked blond subhuman'), (79709445, 0.9513976, 'Fuck off, I would gladly take a bullet for John. Best Green Lantern.'), (81332757, 0.9531866, 'Obama is trying to make a big mess before he leaves officenigger piece of shit'), (80994590, 0.9471884, 'the area above my ballsthats ur dick m8'), (79309117, 0.9545329, 'he talks like a fag, are homos POCs too?'), (79931730, 0.9522106, 'FUCK OFF BRUCE JENNER'), (81446369, 0.94968534, 'Jesus Christ what a mess of a fucking sub-species negros are.'), (79886971, 0.95211893, 'whole rally should be red pills about Hillary and the FBItrump spent all of 30 seconds talking about it before going to his usual stump speechfuck my shit up'), (80948292, 0.95304275, 'Up yours Frog ! You got fucked twice now'), (81394985, 0.94676316, 'You had one job. I guess this is what happens when burgers think they can save the world from this pathetic cuckery without the help of the shit posting world heavy weight champions.Mohammad was a fag and the Koran is retarded. You can polish a turd but its still a turd.Fuk Kek Check my digitsDues Vult'), (81264669, 0.9458588, 'why the fuck are the citizens helping erdogan? the guy is corrupt as hell'), (79992961, 0.9469538, 'Niggers! So fuxking dumb and bad at math, they will repeat any meme that tells them otherwise, to their own demise!'), (81089757, 0.95484835, 'Love drawing cartoonsParents always reassured me that artistry isnt worth the effortNow Im a fucking wagie who hates his office jobFuck'), (81433608, 0.9502182, 'Lol, they used Google translate. Fucking retards.'), (79760419, 0.95441234, 'Fuck off Nigel. Jefferies is a scream.Hes a liberal faggot who spends his newest special talking about how awful America is (good thing he didnt have to come here for a career then, eh?) instead fo telling jokes.'), (80427720, 0.95018864, 'Anybody else hate it when noguns and nocars europeans talk about shit they know nothing about. Fact of the matter is, youve never held a gun in your life and ride a bicycle to work every day so shut your fucking mouth about such topics.'), (79944221, 0.9551761, 'human shittinessleafThis is why people hate us, you faggot ass liberal spineless loser.'), (80617338, 0.94679075, 'this sounds so fucking awful and like something fucking shit marvel would do or really good bait and i cant tell which it is.'), (81499100, 0.94722974, 'youre so fucking triggered this thread is a blast, I wonder what else pisses you offI dont fap to pixels you fucking retardoh my gosh haha'), (80550989, 0.94742566, 'If ANYONE talked like that to my wifes son, id knock them the fuck out!!!'), (80342423, 0.9481874, 'Its like shit talking to vomit'), (80211722, 0.95102787, 'be american get shotHAHAHAHAHAHAHAHAHAHHAAAAAAAHAHAHAHAHAHAAH WHAT THE FUCK'), (80453255, 0.9522859, 'yall recording the wrong stuffShut the fuck up, cunt.'), (80118906, 0.95103866, 'Dont lie you cunt No point pretending your country is a leftie migrant shithole'), (80159171, 0.9555098, 'Fuck. Why would that not make you happy? I get even -more- enjoyment from fucking, drinking, smoking and watching porn. I dont chase a high, anon.Come back to me in 15 years'), (79679471, 0.9525284, 'Is every Portland in America filled with shitty regressives?'), (79352383, 0.94733995, 'Those ribbons look like shit'), (80589557, 0.9535804, 'visit herShes fucking Habib and Mbeke on the side, sorry Hans.she has a boyfriend currentlyOh, yeah, once a whore always a whore.'), (81143434, 0.9490749, 'What a fucking travesty of a choice.'), (79621231, 0.9485173, 'Not in fucking Brazil.'), (79672023, 0.9479404, 'the founder of Hello Bigot — who wishes to remain anonymoustop fucking kek hyprocrites'), (81110591, 0.95107514, 'Burn their Mosques to the ground you French cucks!'), (79855661, 0.94597834, 'forgot my fucking image.'), (79943775, 0.9493408, 'Bwaaahahaha hahahaSuck it trumpfaggots!!!111one'), (81114616, 0.9539062, 'guys its a fucking ruse'), (81454184, 0.94944394, '* he wrote* about wanting to baptize indians and shit'), (80295930, 0.9458629, 'Kill yourself you deranged permavirgin ugly /b/tard faggot. Go back to your containment board and fap your tiny dick to tranny porn you pathetic loser. Kill yourself Kill yourself Kill yourself Kill yourself Kill yourself Kill yourself Kill yourself Kill yourself Kill yourself Kill yourself Kill yourself Kill yourself Kill yourself Kill yourself Kill yourself Kill yourself Kill yourself Kill yourselfKill yourself Kill yourself'), (80548951, 0.9534137, 'Why is fornication political? Because that kills civilization. This is the root that leads to the domestication of man. Fuck you and your disgusting Jew-warped mind, reprobate.'), (80472545, 0.9501375, 'him/herARE YOU KIDDING ME?ARE YOU ALREADY ASSUMING THE GENDER OF THAT DOG?YOU FASCIST RACIST BIGOT LGBTGMJNEQRWGHTBHGOQEGIBEQR+^5PHOBE'), (79409640, 0.9553585, 'Yes. Its so fucking annoying.'), (81367938, 0.95105976, 'rsb already fucking up'), (81266180, 0.9507792, '81265883Im with you in that, these fucking fags better not surrender or they all will end up getting executed by the government and looking like that picture'), (80093331, 0.9515777, 'Niggers doing damage control.Mfw'), (79461975, 0.9529766, 'Its true desuWhen you smear all white men and isolate us from your shitty society, dont be surprised when some of us end up becoming massive shitlords who want to see it all burnt down. Especially those of us who are working class.The LGBT shit, the SJW shit, BLM shit, feminism shit. All of it is based on the tears of inferiority and cunts.Beta Uprising when?Trump Legions when?'), (79567181, 0.95199186, 'Kids dont know better you fucking nigger. Theyre not of age to understand whats happening.'), (80233518, 0.9502903, 'people still quoting that /jp/ meetup post thinking its /pol/ learn to read you fucking inbred dumbasses'), (80891526, 0.94960356, 'Ehh, Newt fucked around on his dying wife. Not really the same. It was pretty shitty.'), (80058336, 0.9509828, 'americans are nigger loversamericans are kike slavesa few somalis in a bucket of millions of niggerswho cares, let these dumb white guilt american cucks have their niggers, lets stop with the BLM threads because I have had enough of listening to americans tell me why niggers are soooo good'), (80126770, 0.947085, 'Prove you voted leave, faggot'), (80379705, 0.9485641, 'Man, people are such fags'), (79875208, 0.9481816, 'fat ugly old menhaving opinionsIf youre not aestethic you have no reason to have opinions. Youre nothing but a degenerate.'), (81150500, 0.94879496, 'Pence is a good choice, fuck the crybabies.'), (81495461, 0.94549274, 'ebin fanny hilarus image cause not squint to see small pixel but man-man ass fuck hahahacomedy.'), (80102929, 0.9464684, 't. guy who is shit at risk'), (80944287, 0.9496372, 'MUH 9/11MUH NSAHes a fat fuck from shithole new jersey and hes squishy on the 2nd amendment.'), (81452965, 0.94715905, 'Welfare isnt enough for you fucks?'), (79673271, 0.9527507, 'Fuck off back to Stormfront, or CNN, or whence ever you came from. Racism has always been ingrained in the Democrat party, and quite honestly, Im tired of seeing that same old sad shit redflagged here.'), (79521698, 0.9489442, 'The Anglo Saxons are Germans you fucking tit. Just where the fuck do think they are from? Hanover, Saxony. Now fuck off back to red dit.'), (81285519, 0.94943804, 'PSAFuck off back to /reddit/'), (80397524, 0.94971585, 'BahamasFuck off nigger.Indeed, i do hate thug niggers but /pol/acks are kind of stupid and hipocrital when it comes to dealing with some history facts.Most plantation owners were white, if your elites wouldnt had been so short sighted and greedy niggers wouldnt be a problem in America.Cucktard.'), (80007214, 0.9555266, 'The worst is the white fags that slob on the niggers cocks. Defending criminals while standing on their private villas, colleges, etc...That why the terrorists atack us.'), (80020780, 0.9509108, 'here you go you delusional fuck'), (79846282, 0.94675076, 'Shut up former Yugoslavia.You serbian bastards like the imperial germans use the skull and crossbones. Youre clearly in the wrong buncha pirate fetishists.'), (80202049, 0.95318943, '#BLUELIVESMATTERSPREAD THIS SHIT ON TWITTERIT MAKES C.UCKS AND SJWS RAGE'), (80484404, 0.95069706, 'alt-righthaha fuck off'), (79302571, 0.9486247, 'The kikes and mudslimes were parasites from africa/ME. Fuckem.'), (80533296, 0.9485294, 'I would fuck her in the ass so hard until she shit all over my dick. Then, I would throat fuck her. So, yes. Yes I would.'), (81077655, 0.9494016, 'The few exist because of the many.The many doesnt need to exist. Its a shit religion. The many are just as fucking bad anyway, just cowards to blow themselves up.'), (81403266, 0.94599164, 'Fuck her...And change her.If you cant just leave her,but first you must fuck her'), (80972754, 0.94973177, 'With comments like that you would fit in great because your talking just like a nigger.'), (80115340, 0.9511515, 'Keep smoking that reefer hippie faggot'), (80572592, 0.94724673, 'that crossFucking christcucks I swear'), (79992508, 0.9531326, 'Play stupid games, win stupid prizes. Dont fuck with the police they wont fuck with you.'), (79571195, 0.95107096, 'Ben doesnt like when fat virgin loser shout cuck at each other onlineOmg, hes such a globalist neo-conOff yourself you fat cunt'), (81189750, 0.95084494, 'Erdogan calls for his cronies and islamist shits taking to the streetArmy blows them the fuck outGod speed you glorious kemalist bastards.'), (80366387, 0.95006466, 'STOP BREAKING THE LAW, ASSHOLE!'), (80196799, 0.94970596, 'Asian women are fucking hideous. What kind of a cuck would find them attractive?'), (80670323, 0.9485178, 'using /pol/ lingo to make you think or justify some degenerate shit'), (79683768, 0.95447135, 'Sure but only after you take all our shitty cancer back. Anita and other faggots that support this crap are CANADIAN'), (81518113, 0.9489734, 'any gods are realAre you really this stupid?'), (80076011, 0.9554792, 'IM SERIOUS. FUck you GUYS cANt TAKE ANYTHIGN SERIOUSLY.'), (80082062, 0.95274043, 'Vaginal/anal rumble settingsI never considered this.'), (80538549, 0.95037025, 'Naah, I just like fuckin with fascists. The only good fascists are dead ones.'), (81519594, 0.9475775, 'lil fish pussykek fucking nignogs are entertaining as hell. When the day of the rope comes, I say we keep a few in zoos.'), (79483260, 0.9491555, 'we knew this was coming. first fags then trannys now thisThats a slippily slope you stupid goyim. Stop being so silly.'), (81311700, 0.951423, 'You think Im afraid of any of you faggots, I eat my own shit boy!'), (80435090, 0.94758236, 'your nation is fucking despicable!'), (79741216, 0.9546535, 'The crusades are the reason why the Middle East sucks'), (80506730, 0.95382226, 't. gypsies who love sucking slav dickFuck off subhumans. Go back to the shadow whence you came from.'), (81504292, 0.9457872, 'Athiets are the biggest morons and hypocrites on th planet.They should be round up and gassed with the dindus and liberals'), (80649885, 0.9475615, 'macroevolutionOpinion discarded.Macroevolution is actually speciation and without it, corn and many plants you eat would not even fucking exist. Read a book besides the bible fuckass.'), (80851369, 0.95346075, 'You fuckin retard, he handed them a buck and change because tipping just change is the way that niggers tip.'), (80176119, 0.95343375, 'police are OK, nigger police tooall other niggers are shit, you included, am I coming across now?'), (79529702, 0.9484102, 'its how something which used to be seen as prestigious is now a fucking a joke'), (81097065, 0.9482328, 'BasedNo, you fuck off chink.Why thank you, Gypsy France.'), (80074218, 0.9535194, 'Another nigger got shot?'), (79434798, 0.9501264, 'do you cry to 4chan when a mcdonalds closes down? no? then fuck off paddy'), (80597245, 0.95408815, 'thatindigenousWhat a fucking retard.'), (79329011, 0.96570164, 'haha like why do you give a fuck if I change the very values that led our nation to success and the nation was built on haha you fucking dumbass conversa-nazi-racist -laughing crying emoji- oh my GOD GRANDPA XDDD'), (79504243, 0.96098995, 'UNLEASH THE SERBS KILL ALL MUSLIMS'), (80462797, 0.95948154, 'Fuck...How did this idiot get to such an influential position? He got btfod when he ran for mayor of Baltimore... wheres his qualifications? Is it just that hes good at branding himself on Twitter and Vine with that fucking vest? Imagine what it smells like at this point?'), (80160477, 0.96666455, 'People this dumb dont even deserve to be in this society. What a dumbfuck'), (80404083, 0.96198463, 'i bet they get the white knight for (((hate crimes)))if it was the other way around they would get courage medals. fuck this god damn liberal leftist scum world. if there was a big red button i could press to kill every single one of you brain dead cucks on this planet i would press it so hard my finger broke. FUCK YOU FAGGOTS. yeah (((edgy))) i know.'), (80158893, 0.96105254, 'Fuck off, trips just confirm it more. where have you been senpaitachi'), (80220364, 0.9593255, 'Fuck cops and you bootlicking faggots that support them. Cops kill more whites than they do blacks, yet you are so mislead by the media into thinking this is a racial issue.Its not.Fuck pigs who abuse their power and kill citizens of our republic.'), (81145227, 0.96047795, 'Heartless piece of shit.'), (79740697, 0.9647414, 'Its a shit holethen save up your dole and fuck off ya mala head'), (80039300, 0.96638125, 'Are you cunts coming from reddit or tumblr? You know 0 about this nigger, but because his hoe decided to livestream you get hit in the feels. Fucking weed smoking nog didnt listen and reached for stuff when the officer told him not to. CCW or not, reaching anywhere near your gun is getting your dumbass shot. A CCW doesnt give you a free fucking pass to be an idiot.'), (80168645, 0.9600747, 'mfw some faggot from roblox comes here'), (80352170, 0.9610757, 'Fuck off. Swimmers dont look like Justin Bieber'), (79392673, 0.9635838, 'basedi bet she hates niggers too'), (81329760, 0.9588153, 'Please kek, let the refugees all die'), (80224695, 0.9619508, 'Fuck off Tommy mairTypical scot scum'), (81176660, 0.96242744, 'Fuck off /x/, your board is literally dedicated to the paranormal but your userbase is so fucking retarded and shit that you have nothing to fucking show for it. other boards have memed events and gods into existence. What the fuck has your gaggle of retards done, except type out barely intelligible role-play in broken English?'), (79673880, 0.95772415, 'who cares faggot? you just a useless amerifat.your hate doesnt change anything'), (80022386, 0.9577776, 'drug addict sluts taking revengewew lad'), (81343127, 0.9563886, 'another muslim with shitty genetics, removed from the gene pool.Nothing of value was lost.'), (80164094, 0.9649542, 'I hope more niggers die, but only if they are Niggers, and not based black men.'), (79403516, 0.9664799, 'This somehow pisses me off in a way i cannot properly describe. fucking parasites cant keep getting away with this'), (80463871, 0.96458584, 'were just taking a cockwere just taking a rockwere just taking a walletwere just niggers'), (79609865, 0.9605029, 'He still believes in Blairism. Has he publicly said that he has changed his mind? No? fuck off then.'), (81250956, 0.956895, 'Haha, fuck that bitch for real though. She is going to be the end of me.'), (80700561, 0.9632629, 'That gay nigger couldnt hardly keep his hands off the white dude...'), (79708713, 0.95703584, 'They forced it on you because Islam is shit and you should feel bad for also being on stolen property, cunt.'), (80169324, 0.9556441, 'you sure told uskeep destroying the country that provides you the air you breath, you subhuman piece of shit'), (80452886, 0.9556131, 'i really wish we had the SS and shit'), (80548731, 0.96362525, 'More faggot camp desu'), (80635486, 0.9597076, 'Because you killed my friend, you assholes.'), (80307710, 0.95632565, 'all this proves is that niggers are 31 times more likely to reach for a gun. why are people so stupid'), (79626085, 0.95896626, 'Fuck you 1,305 times.'), (80425961, 0.9632423, 'FUCK WEEBS. GET OFF MY BOARD. YOURE NEXT IN THE ETHNIC CLEANSING.'), (80438347, 0.9657555, 'OH SHITITS FUCKING HAPPENINGH A P P E N I N G'), (79637164, 0.962768, 'Fuck the french deport them to france'), (80514180, 0.9658768, 'rich chineseIts a communist country you dumb shit'), (81400180, 0.966363, 'You talkin to me, you fucking mook?'), (80092310, 0.95888215, 'I am sick of hearing the following shit: I dont know I cant remember I cant say I dont think so Im not sure Thats not really my place to sayHe sounds like a useless cunt. If youre the director of the FBI working, what could be, the most important case of your career, wouldnt you make sure you fucking knew this shit first? What a faggot'), (81328484, 0.9605045, 'how come u guys arent photoshopping dicks in obamas mouth'), (81127658, 0.96167153, 'Even yesterday he wouldnt say that he supported the WALL. Fucking cocks. THIS IS NOT A WALL CANDIDATE'), (80145883, 0.95820844, 'inb4 some fucking leaf makes a second thread just to be a faggot'), (80608076, 0.96399087, 'By that fucking logic I didnt build the deck on my house, my kobalt hammer did it. Fuck off with this niggers built America shit.They were whipped into productivity, why are all the black dominated communities such fucking shit if theyre so great that they built America?'), (80856312, 0.9629718, 'Its Another Bostonite muh heritage fagFix your own fucking country first mate, piss off, youre not Irish.'), (79938771, 0.96159244, 'Of course Ill defend my countryman, hes not gay as hes already told you, if he was Im sure hed be out getting barebacked by a group of niggers in a club.Hes already told you hes not, but masturbation in the form of sticking something up your arse or in my case rubbing my wet fingers around my cock head and inside my foreskin is fun.Deal with it.'), (80654468, 0.96393126, 'dats racissI fucking swear, every time.Numbers are dishonestFucking KILL ME NOW!!!!!!!!!!!!!!!!!!'), (81543374, 0.9648173, 'Fucker!RETAKE MARYLAND!'), (80361813, 0.96108806, 'Alt right fag piece of shit scum.'), (79434774, 0.9620768, 'Heres an archive since OP is such a tremendous fucking faggot.http://archive.is/dm2EY'), (79740394, 0.9599307, '2damn, ahmed. you fucked up.'), (79759394, 0.9623367, 'foucaultmarxistkill yourself stupid kike'), (79858027, 0.9570361, 'At this point you filthy spics can have it. Youll turn it into a 3rd world shithole in less than a couple decades anyways seeing as everything your race touches turns to literal shit you sub-saharan African retards.Itll show the fucking liberals and im fucking sick of fighting against the stream.'), (80374343, 0.96232396, 'It. Doesnt. Fucking. Materrrrrrr!'), (79417871, 0.95731956, 'Fucking dumb cuck leaf.'), (80140831, 0.95946777, '/pol/ is now faggots taking screenshots of tweetsFucking kill me'), (79419090, 0.96554375, 'No peter, wolves can not be domesticated, they bite and will go to any means to feed their own.?Fuck off you shitting cycler'), (80371260, 0.9597789, 'You fuckers want war? We give you.'), (80606028, 0.962778, 'fuck that im not giving the niggers utah I dont want newport cartons and watermelon rinds all over my red rock'), (80003304, 0.9596224, 'Your country is irrelevant lmao, dont talk shit about our slave tits'), (79958185, 0.956645, 'Thanks for fucking up my shit (((hollywood)))'), (79443579, 0.96135, 'Read the fucking thread, you brain dead piece of cattle.'), (79804563, 0.9615774, 'tfw no alpha /pol/ack bf to ravage my ass while he calls me a faggot b-bring me luck please lord kek'), (80914450, 0.96235937, 'Mike PenceNeocon faggot who voted for the Iraq war, supported Bush on all of his bullshit, MUH IZREEL!!!, etc.No thanks.'), (80887799, 0.95904464, 'Then go suck Turk dick, Ivan. See if I give a shit.'), (80634814, 0.95912445, 'they all look the same and are always fat and usually have the fucking accent i HATE THEM I HATE THEM I HATE THHHEEEMMM'), (79667030, 0.9562148, 'forgetting germans Fuck off! Pol hates us the most calling us cucks and blaming us for the destrucion of society :((((((((((((((!!!!!'), (79602674, 0.96304643, 'A stone is 6.35Kg. That nigger is up to something.FUCKING NIGGAS CANT EVEN OBEY CONVERSION RULES'), (80968830, 0.9608501, 'Fucking based Larry, so red pilled'), (79496395, 0.9611159, 'Carry a knife and stab a nigga in gut.'), (79305734, 0.9646233, 'white as fuck, what a cuck'), (79535852, 0.95684785, 'Even if he is racist, we dont care. What dont you get about that? Has there been any benefit to you and your shills posting this thread over and over again. We dont care. We want Trump. Fuck niggers and Muslims.'), (80183218, 0.9557776, 'god damn it /pol/ who was it?ISIS?Mexican Drug Cartels?Black OP CIA shit?'), (81341145, 0.95892316, 'illegally taking a pic of someone and posting it onlinethe woman in the pic isnt even morbidly obeseI have no problem with fat shaming but Dani Mathers is a fucking idiot who deserves all of the shit that shes getting.'), (80978114, 0.96268314, 'Na dawg. That shits funny yo. He cool. Fuck whitey.'), (80564984, 0.9611798, 'Nigger, you do realize tinder is a fuck app and nothing more right? What the fuck, are you retarded?'), (81330172, 0.96237624, 'wtf I hate whites now'), (81505305, 0.95983976, 'All of Asialol fucking when?'), (80055871, 0.95925295, 'I feel kinda good that I live in Poland. Ye Its a shithole, but niggers are like unicorns, nowhere to be seen'), (79412763, 0.9636943, 'Jews are weird fucks.'), (79508301, 0.95627403, 'Kill yourself, brain dead moron.I bet youre a Christian too.'), (81434763, 0.95927364, 'You sound proud, like a real scummy /pol/ish shithead. Like your shitty country is any better with NSA sniffing your butthole and your government lying all the time to your dumb arse.'), (80093491, 0.96598107, 'SPIT IT OUT DROOPY NIGGA'), (81325577, 0.964964, 'nobody cares, faggot.'), (79439279, 0.9559791, 'get this, their flag is a fucking leaf! a fucking leaf! hahahahaha'), (79793315, 0.9571864, 'them fucking homeless polish dudes hanging out on peoples porches LEL'), (79575531, 0.95565456, 'Knowing that the count resumes on tuesday you dumb cunt'), (80205322, 0.95674676, 'i have no fucking idea what youre talking aboutjesus christ you cucks need to get a gripmy god you are a clueless hyperactive retard'), (80913354, 0.9583048, 'Can somebody explain the meme with Boris Johnson??Why doesnt this shaggy motherfucker get a decent haircut?'), (80880620, 0.9568585, 'Bullshit. The reason why Rome fell was that it lost its values. Multiculturism didnt make Rome great: fucking colonialism did.'), (81024409, 0.966602, 'fuck the yanks, go shoot up a spaccy school'), (81216228, 0.9577264, 'These are old photos re-uploaded, idiots.'), (80588856, 0.9590981, 'Yeah but russians.Russians are just fucking batshit crazy.'), (79340687, 0.9558943, '/pol/ hates flamers. I shouldnt be able to tell youre a faggot unless I spy on you fucking your bf in the ass one night while Im checking to make sure youre not spreading illicit commie propaganda'), (79920071, 0.96160245, 'Total Charity work. Typical corrupt shit. Ive investigated cancer charities who do the same shit. Other Expenses Is the highest paid out Charitable service. My ass'), (81518291, 0.9633802, 'I have been. It is shit. And full of rappers for some fucking reason.'), (79793987, 0.9599779, 'You are borderline retarded. You are so dumb'), (80214088, 0.9606185, 'More than one shooter faggot'), (81239926, 0.9648662, 'he is turning turky into another shitty islamic countrydestroying all of their social progress'), (79420500, 0.95782954, 'How about the fact your faggot map has me living in Ireland.'), (79711460, 0.95924896, 'POLAND YOU IDIOT WHAT ARE YOU DOING'), (79913274, 0.9576059, 'Fucking hell, anon. I sincerely wish you the best of luck. Goddamn niggers.tfw this will be my country as well in 50 yearsThis will end well'), (79451063, 0.96102583, 'shut the fuck up roach'), (81354975, 0.95890546, 'Please include me in the screencap when posted to /r/4chanIm an attention whore faggot fuck face le redditor'), (81334619, 0.96662676, 'fuck you absolute asswipe shitstain nigger tier thinker'), (79345738, 0.9580979, 'Literal retard, what the fuck'), (81099530, 0.9619972, 'Youre fucking autist shilling25 posts by this id'), (80028290, 0.962778, 'Fuck off normie And Ive ejaculated to this video at least six times already Fuck Im spent'), (80400226, 0.95637727, 'that stunningly handsome american with the ridiculously big penis'), (80655178, 0.95597744, 'what do when you want to be nationalist but your country is shit'), (80567411, 0.9631569, 'literally who gives a shitand on top of that its a nigger. like, who gives a shit about some pseudointellectual nigger?'), (79997554, 0.9594887, 'I agree. Brazil is a useless shithole.'), (79768018, 0.9611246, 'Brooklynnear a Mosquefucking leaf'), (80070570, 0.9767689, 'Fuck off I just want to discuss Russian history dickhead.'), (80492935, 0.9668202, 'Holy fuck anon THIS is the fucking answer. Toss these people into Chicago projects, and the worst black-held areas of Detroit and Baltimore. Then just sit back and watch'), (81217983, 0.9684952, 'Stop the fake happenings already you cheeky bastards.'), (81139171, 0.96699613, 'damn thats one ugly nigger'), (81005321, 0.96682703, 'blaming everybody but yourself for personal failuresFucking millenials'), (79598821, 0.9698992, 'this dispatchersounds QT as fuck, holy shit'), (79977836, 0.96673906, 'Here single cunt mom probably started fucking niggers first and then she jumped on them bandwagon.. thats usually how it goes.'), (79677656, 0.9673933, 'What kind of shirt do you wantJust fuck my shit up'), (79609274, 0.9666729, 'I swear this was an episode of the Office. Except Michael didnt fuck his own shit up'), (80166221, 0.96778977, 'mexicans are on the white side idiot'), (79414143, 0.9672971, 'we do i saw a tv add of Colegio Lorentnz and featured a mudshite in hijab speaking arabic. fuck this assholes.'), (80210314, 0.9753071, 'kangaroo fucking tosserYour insults are shit. Your pres is a nigger, the corporations own you and your next pres shillary, blacks are fucking your women and shooting your cops, your men are leftist cucks and transgender queers and your women are shrill feminazi single mothers, and none of these are even lies bitch.These shootings are a turning point, there will be more.'), (80624956, 0.9719381, 'Shit, hes ripping Hillary a new vagina'), (80123601, 0.96688604, 'Omin Jizzwilly i hate that Iranian fag'), (81100438, 0.9712818, 'FUCK OFF WITH YOUR PASTA'), (80133858, 0.9667326, 'I agree. And her being that calm during this is more likely because she hit the social media jackpot for BLM. Fuck that nigger Im glad hes dead.'), (80187744, 0.97257787, 'I for one hate his delusional guts.Fuck this guy to death.'), (79512607, 0.97323936, 'mad as fuck leftist faggot detectedcompulsory voting is a crime and you should be shit for supporting it'), (81456522, 0.97341186, 'Not this homosexual nigger lover again.Stop posting this shit, bitch.'), (79370757, 0.972434, 'No only are the gays bis evil but the negros kikes and camel jocky fucking Muslims are going to hell why do they have to be born in this God given world'), (80053486, 0.97736955, 'Get off of my continent you fucking cucks.'), (80115846, 0.9684893, 'White guys wouldnt fuck thatComplain a nigger takes overWhy do whites scoff their noses at that think chunk of love?She is legitimately attractive and fit for breeding./pol/ would rather fuck some skeletal,ugly,debile asian with no ass,tits,face,future,shitblood genes'), (81101795, 0.9670682, 'this fucking picture man, it hurts'), (80242519, 0.9668229, 'ridicule slutsshame themdirty roastie scum'), (80235906, 0.97039294, 'Congrats, youve given BLM another propagranda about racists.Now maybe try to actually help by making niggers look like they are glad the cops were shot. Use your fucking head, this is marxist horseshit from /b/ in the OP.'), (80958193, 0.96736306, 'Hopefully he can murder 100 niggers'), (80959051, 0.97104007, 'Are you saying black people are dumb?Wow u racist'), (80453232, 0.9677131, 'NIGGAZ GETTING GASSEDCAUGHING BITCHESTHAT GREEN BLOWN UP FAGGOTIMPOTENT RAGEARRESTS BEING MADECRYING OCCUPY CUNTSI AM FUCKING /turgid/ IN THIS BRED'), (79478925, 0.9736443, 'too handsome, fuck off cunt.'), (79478485, 0.97375536, 'FUCK YOU CUNTSAUSAGE SIZZLES ARE THE RIGHT OF EVERY STRAYAN EVERYWHERE'), (79599313, 0.9681786, 'implying im not MexicanKekSe siente bein hombreFuck you lisping faggots'), (81320644, 0.9688612, 'Youre forgetting that our president is a limp wristed muslim faggot.'), (80303987, 0.97292966, 'Get fucked, niggermuhEdgy english teacher detected.'), (80222643, 0.9769385, 'Cant white people just fucking die already? Your race is shit and inbred, your women are sluts who only want to get pumped full of black semen, u are a bunch of whiny virgin betas cucks who can only fap to anime while we rape your sister.You are fucking useless, just die already'), (80620433, 0.97529644, '80619961lelSucks to be a nigger'), (80326067, 0.97578585, 'YOU WANT CELLPHONE? HERE BOMB! FUCK U!'), (79871324, 0.971887, 'ancaps is the most jewish shit imaginable'), (80701367, 0.97686046, 'Fampai, I think you might be fucking retarded.'), (79650680, 0.9673421, 'You are a total idiot. You dont sound intelligent at all when you post.'), (80449127, 0.97678745, 'stinky goth witch bitchgross'), (80540288, 0.96733594, 'Jesus people are fucking stupid haha. Sheep to the slaughter'), (79429934, 0.9700939, 't. sucks the dick of Pope in his spare time'), (80271597, 0.9773102, 'the opinions of leaf...Youre most likely a racist as you just based that off the color of his skin..FUCK OFF'), (79314839, 0.96910465, 'Who cares inbred rednecks. Me and muh gorilla family are going to take all your shit anyway. Your bitches love whats in muh breaches ! hahahaYour world was conquered by MUH DICKin hahahaha'), (79933410, 0.96695507, 'Anus go out by your asshole when you are oldMaybe its just because Ive been up all night but wtf did you say?'), (81092543, 0.9735461, 'No pain no gain motherfucker.'), (80838831, 0.9709734, 'Speak to a fucking lawyer leaf boy. Keep text records and shit too.'), (80651477, 0.9773181, 'Science is us forgetting all the bullshit like religion and actually trying to understand shit through observation and data. Ignorant fucking bastard.No. And your coment is full of ignorance and stupidity. You just prived my point. Do you realise that science was developed mostly by priests and monks? How the fuck could you explain this you dumb fedora? You probably dont understand anything about physics and chemestry and just spot totally unimformed bullshit. Technology can advanced with religion,in fact the scientific revolution was started by religious people. Now tip your fedora elsewhere,because you are probably a 15 year old kid that just watched the amazing atheist and believes that he is the shit.'), (80088759, 0.97479564, 'Getting fucked by Congress is even worse than getting fucked by the DOJ'), (80578406, 0.9743857, 'These protesters are such fucking pussies.'), (80949451, 0.96730834, 'Fucking hippieUS sock puppetYou are almost full niggers but still not like burgers. Eat cancer causing food all you want, Acmed.Here is a dose of real life for youhttp://www.thelocal.fr/20160226/french-farming-hit-by-600-suicides-a-year'), (79510733, 0.96911997, 'fucking RUSSIA calling countries with wages 3x higher shitholes'), (80225177, 0.9736554, 'FUCKING DAMN IT OPWHOISTHEMEXICANCYCLISTTHERE?HOW THE FUCK AM I MEANT TO SEARCH FOR MASARATIALL YOU GET IS MASERATIS'), (79871572, 0.9726321, 'Come say it to my face you piece of shit.'), (80568437, 0.9671217, 'still triggered like the little bitch monkey it isgoddamn go eat a fuckin banana to calm yourself'), (80135002, 0.9772419, 'Fuck korea fucking pigs idiots suck ass we will take them down when they suffer from Trumps tariffs those idiots'), (80863424, 0.96838206, 'yeah, or that guy that shot himself twice in the neck, i forget his name. its fucked that they can get away with this shit, while trump says something mean and everyone loses their fucking shit'), (80902620, 0.97309685, '2MANY FUCKIN KIKE SHILLS I.T.T.'), (80491233, 0.96964234, 'They look like fat, fucking piñatas'), (79449082, 0.9726011, 'who the fuck breathes through their mouth?also, so retards like you can die/'), (81114344, 0.97661823, 'Give me a fucking address to meet you at you goatfucking faggotWe gotta talk'), (80955118, 0.9740934, 'Not us I always thought Australia wont be cucked FUCK THIS SHIT.'), (79696683, 0.9674304, 'I dont have many gifs of white women getting fucked by niggers while a white man joins a war late and is being commanded by a nigger who is being commanded by a Jew'), (80694338, 0.97712755, 'were not plotting to kill niggers you dumb fuck fincuck'), (81258967, 0.9712255, 'congrats on being the the king of the basement dwelling losers this evening. Now go fuck yourself junior.'), (81422838, 0.9704982, 'they didnt have the time to do this shit you fucking retardsthis place is a bloody joke'), (79897851, 0.9702345, '79897192Dude wtf are you doing, are you fucking like legitimately autistic or something holy fuck!'), (79425325, 0.9668384, 'As a somali-canadian, thanks bruh.Feels good having our collective multicultural dicks sucked by Trudeau.'), (79644584, 0.97326833, 'Chris Kyle aint got shit on this nigga'), (80548259, 0.9774352, 'who fucking cares about the gay cuckskrauts????'), (81259099, 0.9676672, 'two fucking leopard II and two m113!! shit its on!!'), (79926758, 0.9668073, 'Fuck off mgsv is terrible'), (79401786, 0.9674543, 'FUCK, KEEP UPLOADING THE WRONG SHIT'), (79798271, 0.97061056, 'Who the fuck is taking that picture?Get back to work ya lazy ass'), (80094562, 0.9667467, 'HE DID IT THE FUCKING MADMAN'), (79782239, 0.9669398, 'What the fuck did you just say to me, you little foreigner SHIT?'), (81282337, 0.96723574, 'Translation:Im a fucking idiot.'), (79933069, 0.9667178, 'Stay in your shithole'), (80153821, 0.9694433, 't. nigger loverKill yourself and quit shitting up /dpt/ for gods sake.'), (80439317, 0.97001964, 'OH SHIT NIGGER ITS ON'), (79606364, 0.9752098, 'they just did a copy pasta u idiot'), (81205121, 0.97185355, 'he fucking deserves it. too bad he just fleed like the fucking filthy roach that he is'), (80302442, 0.9669613, 'sharing 4chan to your family membersfucking god please kill me I hate these newfags fuck me'), (81334314, 0.968078, 'Moroccans are berber, not arabshe thinks theres a difference, lelfuck off sand niggerany shit skin living in a muslim country is a sand nigger'), (80105440, 0.96989375, 'people responding to this shitty bait threadkill yourselves'), (81465179, 0.9686531, 'gypsy, fucking steal all copper'), (80603365, 0.97698116, 'WHITE PUSSY BELONGS TO THE BIG BROWN REFUGEE COCK!'), (79626131, 0.9687464, 'i fucking hate australia'), (79488939, 0.9730207, 'Thats a big motherfucking fire. Goddamn.'), (79440015, 0.971075, 'I would enjoy seeing this, and yes its a great way to say, fuck you Obama.'), (81438904, 0.973364, 'hahahanice proxy sven, and nice teenager novels collection faggotkill yourself insecure loser'), (81096865, 0.96690786, 'You guys are idiots! Terrorists shouldnt be punished, they should be given money!!!When did turkroaches become this fucking stupid?https://youtu.be/SyjUfu-j6vA'), (81148775, 0.9746439, 'they did a couple decades ago,Fucking source bitch.names a bunch of third world Latin hell holessee bad things happen there toostop trying to protect your countries shit religionFun fact America has a separation of church and state :^)I dont evendors believe in God you fucking faggot. But the Mexican drug cartels litterally dont even fucking talk about chtistanity. Its a DRUG cartel. Isis does everything in the name of Islam they fucking say it. The drug caretels want money. Different things and you thinking the two are comparable is pathetic'), (81383944, 0.9746178, 'Ivan...you are the goat fucker.'), (80680400, 0.97096825, 'What the fuck did you just fucking say about /pol/, you little bitch? I’ll have you know I graduated top of my class in 4chan, and I’ve been involved in numerous secret raids on twitch, and I have over 300 confirmed BTFOs. I am trained in politcal warfare and I’m the top BTFOer in the entire /pol/ armed forces. You are nothing to me but just another liberal. I will wipe you the fuck out with precision the likes of which has never been seen before on this website, mark my fucking words. You think you can get away with saying that shit to me over the Internet? Think again, fucker. As we speak I am contacting my secret network of spies across the USA and your thread is being BTFOed right now so you better prepare for the storm, maggot. The storm that wipes out the pathetic little thing you call your thread. You’re fucking BTFOed, kid. I can be anywhere, anytime, and I can BTFO you in over seven hundred ways, and that’s just without any evidence. Not only am I extensively trained in unsourced BTFOing, but I have access to the entire arsenal of the evidence and facts and I will use it to its full extent to wipe your miserable ass off the face of the internet, you little shit. If only you could have known what unholy retribution your little “clever” comment was about to bring down upon you, maybe you would have held your fucking tongue. But you couldn’t, you didn’t, and now you’re paying the price, you goddamn idiot. I will shit fury all over you and you will drown in it. You’re fucking BTFOed, kiddo.'), (79313205, 0.967014, 'WE FUCKEN DID IT LADSWE ONLY GONE AND TWATTED THE FUCKEN GLOBALISTS IN THE FUCKEN BOLLOCKSAVE ITFUCKIN AVE IThttps://youtu.be/6fw_IiqCApA?t=1m22s'), (80687146, 0.9724348, 'Let your parents end your existence. Just another light fading out into nothing over parental garbage. Fuck your parents. You are responsible for everything fucker.'), (79926394, 0.96672225, 'Your in pol. Are you fucking retarded, also what did you expect?'), (79591422, 0.9727755, 'Americans have gross dicksLittle fucking schlomo cocksabsolutely degenerate'), (81058967, 0.96748024, 'Not fucked at all. These fags are cancer. Itll be one or two fat pieces of shit with home made cancer-masks standing around for two hours before they get bored and go catch some pokemon.'), (79608093, 0.9767866, 'Just fuck off jamal.Immigrants are always gonna be shit-tier no matter where theyre from. But to imply that drunkard poles are worse than an islamic takeover of your nation...Just fuck your shit up senpai. Nigger'), (80591861, 0.96828926, 'WE WUZ ROMANS N SHIEEEEETYour flag is the fuck French flap after being pissed on. Fuck off gypsie.'), (79537557, 0.96901745, 'REMOVE KEBAB remove kebabyou are worst turk. you are the turk idiot you are the turk smell. return to croatioa. to our croatia cousins you may come our contry. you may live in the zoo….ahahahaha ,bosnia we will never forgeve you. cetnik rascal FUck but fuck asshole turk stink bosnia sqhipere shqipare..turk genocide best day of my life. take a bath of dead turk..ahahahahahBOSNIA WE WILL GET YOU!! do not forget ww2 .albiania we kill the king , albania return to your precious mongolia….hahahahaha idiot turk and bosnian smell so bad..wow i can smell it. REMOVE KEBAB FROM THE PREMISES. you will get caught. russia+usa+croatia+slovak=kill bosnia…you will ww2/ tupac alive in serbia, tupac making album of serbia . fast rap tupac serbia. we are rich and have gold now hahahaha ha because of tupac… you are ppoor stink turk… you live in a hovel hahahaha, you live in a yurttupac alive numbr one #1 in serbia ….fuck the croatia ,..FUCKk ashol turks no good i spit in the mouth eye of ur flag and contry. 2pac aliv and real strong wizard kill all the turk farm aminal with rap magic now we the serba rule .ape of the zoo presidant georg bush fukc the great satan and lay egg this egg hatch and bosnia wa;s born. stupid baby form the eggn give bak our clay we will crush u lik a skull of pig. serbia greattst countrey'), (80041852, 0.9672887, 'Jews are using them you stupid idiot.'), (80173628, 0.9760968, 'doubt it, honestlythen youre an idiot'), (80289998, 0.9687612, 'youre a huge faggot, thats how you did.'), (79787412, 0.97166115, 'talked to my aunt tonight at a partytold her shes a fucking moron for supporting Hillaryasked whysaid if she cant figure out why, its not worth explainingNo fucks given. Luckily the rest of my family are Trump supporters and backed me up.'), (80159181, 0.96695364, 'half the fucking cops dead are black.youre all cucks'), (80045850, 0.9759629, 'fellow frenchmanmaking shit threads on glorious jeudi matinFuck you'), (81114343, 0.9674159, 'welp I start to understand this muslim shit'), (80653850, 0.9690197, 'You are a bastard anon and therefore your father is a cuck'), (80471669, 0.97906697, 'Im ready to kill niggers for my country'), (80280757, 0.9858449, 'Who cares what you think you fucking nigger faggot?oh look at me acting so fucking superior on an anonymous image board'), (80294693, 0.9842334, 'Holy fuck were you fuckers not even around for Dorner? Fuck you fucking faggots, you dont even know anything about what happened'), (80179135, 0.9797124, 'le anime face in lieu of argumentFuck off, faggot.'), (80865095, 0.97843564, 'mfw youre a massive faggot'), (80126947, 0.980174, 'Fuck off you fucking autistic edgelord. This man was based. He was on our side.'), (81315476, 0.9801194, 'STOP TALKING ABOUT COCKROACHES, WHAT THE FUCK ALL YOU THINK ABOUT ARE COCKS YOU FUCKING FAGGOTS'), (81369472, 0.9815536, 'NO TRUE SCOTSMAN.Shut the fuck up faggot. They were shitty moslims, WHO REPENTED THROUGH JIHAD Which coincidentally, made them PERFECT moslims. Fuck off with your Taqiyya.'), (79584560, 0.9808396, 'The fact that you fail to get it is beyond sad and pathetic. Kill yourself. Do us all that favor. You are a royal faggot and obviously a Hill Shill.'), (80525631, 0.98088014, '80525538kys you fucking cunt'), (79997084, 0.9790476, 'Annoying faggot tbqh. Him and his alt-right need to fuck off to reddit'), (79801115, 0.98595136, 'nigger nigger gas the jews fuck the nigger fuck women turkroach go die (not anzu tho :3)Find me fags'), (81375798, 0.97893, 'This is obviously tongue in cheek you fucking autists.'), (79340477, 0.98343194, 'fuck i hate this little shit!requesting the pic of him with all that fancy shit like new laptops and graphic cards and shit he got for this.'), (79500289, 0.9833801, 'what are projectionsfucking idiot. Even the government does fucking projections'), (81239852, 0.9786636, 'No one cares that you care, you stupid Canuck.'), (80853206, 0.9791867, 'Suck my fucking cock yank, the queen isnt the head of state here'), (79621466, 0.98281, 'Fuck you Suomi! go back to sucking Swedens dick.'), (80211643, 0.9848795, 'go spew your retarded leftist shit somewhere else. A FUCKING LEAF'), (79517139, 0.9873404, 'WtfI thought it was Serbs destroying muslim fucking shits'), (81419729, 0.98719627, 'Because youre a fucking cuck.'), (80164397, 0.98073167, 'This Mike Pache faggot needs to shut the fuck up.'), (80694748, 0.97967684, '1 millionnot 5 millionDo you inbred criminal fucks even know how to read much less read a census? Fucking australians.'), (79487276, 0.98474735, '3rd thread in a row, cunt. fuck off you attention whore.'), (79486632, 0.9803013, 'post arm you little bitch'), (79600314, 0.97927326, 'and hes said he wants tariffs on shit from china. how is that free trade? fucking dumb nigger.'), (81477174, 0.9857329, 'peperoncinni! you fucking fool'), (79490466, 0.9835119, 'FUCKING KIKE! GET THE FUCK OFF THIS BORED! THIS IS ARYAN ONLY! I FUCKING HATE JEWS SOOOOOOOO FUCKING MUCH! Your the reason I get laughed at when I wear viking costumes in public! Why I cant worship Odin in public without being mocked! Fuck you for creating Christians, fuck you for making me poor, fuck you for making me a laughing stock, FUCK JEWS!'), (79444386, 0.97850007, 'Im going to keep trolling you, because youre an evil piece of shit.'), (79947557, 0.97801, 'I like penis in my mouth but Im not gayYoure a faggot in denial.'), (79569619, 0.9792225, 'Noam Chomsky What are you, fucking retarded?'), (81531733, 0.9852065, 'I aint no queer fucking faggot!'), (81461981, 0.97905844, 'these liberal idiots dont know the consecuences of illegal immigration, fucking cuks'), (80215831, 0.9824506, 'Who gives a fuck you stupid redneck? Any single bullet in that image is strong enough to penetrate and kill someone.'), (80156118, 0.9830236, 'Fuck deporting immigrants.Deport niggers.'), (80078926, 0.98275334, 'dear fucking god that nigger is retarded'), (80626722, 0.9784871, 'THERESA FUCKING MAAAAAAAAAAAAAAAAAAAAAAAAAAAAAAAAAAAAAAAAAAAAAAAAAAAAAAY'), (79331336, 0.97816306, '1 post by this OPfucking molyshill'), (80431285, 0.9801407, 'no i understand that you fucking yanki dont get why this stupid cow is enumerating with lettersfuck you'), (81015837, 0.98444045, 'you know what, some of you lot a real fucking cunts.Fucking hell, get a life you vermin'), (81111198, 0.9786117, 'Fucking barbaric shit skins50 kids hurt'), (80550055, 0.9794977, 'It means youre a faggot.'), (81013044, 0.98540246, 'HAHAHAH MUSLIMS JUST FUCKED YOU IN THE ASS'), (81146286, 0.9831606, 'You really are a piece of shit.'), (79881360, 0.98187375, 'This fucking jew needs to piss off already.'), (79603524, 0.9813334, 'Seriously, fuck Minnesota.'), (79772203, 0.97886187, 'This video finally convinced me how stupid /pol/ is. Fuck this racism, homophobe, sexist crap.'), (80979983, 0.9791855, 'Fuck Lennon and fuck The Beatles'), (80304075, 0.98023355, 'fuck god, hes the real fucking narcissist here if any of that shits real Id side with Lucifer everytime'), (80466501, 0.9798106, 'fuck off cunt Im as white as the cum in your mother'), (81452339, 0.9792408, 'All niggers must fucking hang.'), (79926454, 0.9810416, 'A Fistful of DollarsFor a Few Dollars MoreThe Good, the Bad and the UglyEat shit, cunt'), (81264203, 0.97880834, 'gypsies and mudslimes pls fuck off'), (79936079, 0.98384935, 'Smoking right now. I cough up black shit its literally me coughing out my cancer. You fucking morons.'), (79602719, 0.98449206, 'good of a trollSam Hyde...Hes a fucking idiot.'), (80056565, 0.9825869, 'You have a complete statistical advantage and you STILL fail. Its because youre a piece of shit'), (80200180, 0.98356086, 'Nice get fucking faggot'), (81355808, 0.9831443, 'Based shaming. Fucking whores.'), (79822980, 0.9803529, 'FuckWith the gaysHe he he he'), (80507452, 0.9843978, 'fucking pussiesthis is literally tumblr-tier'), (79893275, 0.97790086, 'Delete your porn you degenerate faggot.'), (81084476, 0.9779094, 'The comment was in direct response to your OP you fucking numbskull'), (81396878, 0.98458993, 'I dont mind gays.I hate faggotsHe a fucking faggot.'), (79461045, 0.97923297, 'Fuck you OP, we all know youre gay, because homophobes are all gay on the inside.'), (80906053, 0.97826564, 'The Jewish plot is a load of shit'), (80182666, 0.97943926, 'that monkey noseI hate niggers so much.'), (80026170, 0.9792904, 'blackamericanfuck off cultural libertarian'), (80074897, 0.98426104, 'aw fuck...here comes Cartwright. I hate this motherfucker. Literally opposed to everything that us PA residents stand for.'), (80501140, 0.9802265, 'What is socialized medicine?A fucking scam that will be repealed. Obamacare is shit and no one likes it.Fuck off. Everyone.'), (80241641, 0.98675185, 'slicing the pie fucking faggot'), (79335216, 0.9801427, 'THIS FUCKING NEIL SAVAGERYHOLY SHIT'), (81189712, 0.98145306, 'IM GOING TO KILL YOU MYSELF TURK ROACH SCUMSTAY AND DIE'), (80086429, 0.980521, 'The kkk was invented because they knew that all women would want black dick. They knew even back that blacks were amazing at sex and that blacks had huge dicks.'), (80416527, 0.97930443, 'Anybody else starting to get sick of this faggot? Hes just an attention whore.'), (80446606, 0.9846162, 'its our gubmentalso fuck NTA you dumb faggot'), (79452901, 0.98242104, 'muh internetshut the fuck up cunt'), (79596667, 0.97909415, 'Closet faggot wanna-be socialist narcissist dipshit nigger.'), (80865799, 0.97933435, 'thisits fucking nothing fags'), (80137626, 0.97832835, 'Come on man dont be a fucking retard'), (80069122, 0.9849279, 'THESE NIGGERS, FOR FUCKSAKESHES A CRIMINAL, FUCK YOU'), (80731685, 0.9811124, 'Fuck off shekelberg you guys are responsible....nice try faggot'), (81464132, 0.97947294, 'lips thin as fuckYou blind bruh?'), (81496614, 0.97938836, 'got some shitty connection to BTR today, fuck'), (79903124, 0.9830544, 'JUST REPORT AND FILTER YOU STUPID COCK SUCKERS'), (79709074, 0.98418677, '79708927See nigger on thumbnail . . . .. . fuck off!'), (80062156, 0.98051983, 'Holy shit this thread. some retarded niggers actually think some one will fucking invade Russia.'), (81387248, 0.9810452, 'The minute you cried about seating proved you are a faggot. You get the shit you deserve.'), (79496895, 0.9797442, 'I AM FUCKING DISGUSTEDFUCKING BOLSHEVIK TRAITORS, RUINING MY COUTNRY'), (80337009, 0.98472494, 'DUMB FUCKING BRITS STOP BEING RACIST ON WHITESBROWNIES YOU IDIOTS'), (81205726, 0.98237336, 'Bitch ass Turks not using Quiet'), (81422970, 0.9848167, 'fuck the turds, arab fucks.Thats all i have to say'), (79639717, 0.9806421, 'go shill your unfunny tryhard shit elsewhere, dumbshit'), (80599459, 0.97888815, 'Oh, go fuck yourself. What do you suppose should have been done, hmm?'), (80488485, 0.9782866, 'Thats KEEK you fucking autist.'), (79684385, 0.98280776, 'Kill all the niggers, hero police, kill them all.'), (81250691, 0.9777895, 'I know, right?Soft little bitches.'), (81483380, 0.9784126, 'shut up American, you are fat and ugly and I truly hate you.'), (80345791, 0.98049533, 'Why the fuck do white people support these niggers? I can understand MLK but these niggers are fucking retarded.'), (79590352, 0.98146296, 'WERE TALKING ABOUT PRE WW2 MOSLEY YOU FUCKING NIGGER'), (80862071, 0.9788, 'You are so full of shit. PATHETIC SHILLING! SAD!'), (80460332, 0.982781, 'blacks kill more whites than whites kill blacks.Fuck BLM and fuck niggers.'), (80161625, 0.97803205, 'not having a nigger slave to make ramenfucking pleb'), (81051045, 0.98101944, 'Go suck Pences cock, fucking shill.'), (80803162, 0.9784916, 'RAPEFUGEESFUCKIN PIGSEVERYDAYABSOLUTELY HARAM'), (80434297, 0.98249817, 'fuck yeah. kill the niggers.'), (80255175, 0.986692, 'This fucking guy will be doing the next mass shootings, hes becoming unhinged as fuck.'), (80095140, 0.98653543, 'DONT YOU FUCKING DO IT YOU GODDAMN NIGGER'), (81243580, 0.9782101, 'Lahey youre fucking drunk'), (81276104, 0.97778475, 'fucking gayMODERN SENSE????????? 4th reich mike is already decided.'), (79708601, 0.98226565, 'Shut up you stupid crazy snow nigger.'), (80658306, 0.9807548, 'black power salute wow so empowering fucking niggers'), (81254339, 0.98914236, 'hope hes dead, fucking faggot'), (80968290, 0.99067026, 'Fucking niggers shoot at fireman, ems, utilities workers, garbage men, in Detroit when they do their job.They dont shoot at mailmen. They dont want to disturb the gibs, but all other work is fucked with. God damn nigger shit.'), (80337580, 0.99067026, 'FUCK NIGGERS BACKING UP THE TRAFFIC LIKE THAT THAT SHIT LOOKS LIKE A NIGHTMARE'), (79716745, 0.99067026, 'Mexican is just a nationalityHoly fuck I hate these niggers'), (80581029, 0.99067026, 'fucking levitating guns with mind powersoh shit nigger'), (80203439, 0.9902881, 'Trolling, you fucking imbecile.'), (80031195, 0.99067026, 'HES FUCKING BREATHING WHAT THE FUCK IS THIS CUNT BITCH ON ABOUT. HOLY FUCKING SHIT'), (79422993, 0.99067026, 'INTHEFUCKINGLOORANJEEPYOUSHIT-MONKEY'), (79429029, 0.99067026, 'No, its your shitty gypsy country. Fuck off, nobody likes your shit.'), (80268827, 0.99067026, 'Stfu you fucking nigger fucking starting shit our country isnt all that great but it can be changed but not by shit posting you fucking culchie'), (80452217, 0.99067026, 'Fucking bitch, she needs to be shot in the pussyFucking rage'), (81026143, 0.99067026, 'a fucking leafYou are a fucking dumb cunt'), (80563510, 0.99067026, 'Youre a fucking idiot if you think it would ever be fair.'), (80645476, 0.99067026, 'Go fuck yourself you homocrat.'), (79683967, 0.98956496, 'Refute this intelligent, constructive liberal argument: Every conservative or person on the Alt-Right is a DUMB NIGGER FAGGOT RACIST RAPIST FUCK FUCK NIGGER NIGGER SPICK FAGGOT KIKE CHINKY CHINK GOOK FUCKER LITERALLY HITLER WHITE FUCKING FUCKING WHITE MALE'), (79729265, 0.99067026, 'Edgy edgington is a fagHowever I agree, fuck America.'), (79773510, 0.99067026, 'You sound autistic as fuck. I bet you dont even live independently you pathetic fuck.'), (80915009, 0.99067026, 'Fuck you and your shitty city commie apartments.'), (80436849, 0.98962444, 'What a pussy, Jesus fucking Christ'), (81291773, 0.9922529, 'Fuck your Islamic ass Republic in the middle of fucking Europe. You need to get rid of Erdocuck.'), (81431153, 0.99067026, 'fuck you cunt, and fuck israelfucking kike cunt'), (80936092, 0.9889722, 'communist nigger rapist'), (81551543, 0.9889469, 'I said trip you dumb faggotthat way you can use it later ongod damn you are fucking stupid'), (80234978, 0.99067026, 'Fuck off you moron. We were up all night and watched it. Youre just a fucking shitposter that knows nothing.'), (79946004, 0.9898312, 'fucking with Iransmelly dumb burger scum'), (80268834, 0.99067026, 'wtf Im an antigun faggot nowfucking kill yourself'), (79657964, 0.98957455, '.damn faggot go to a whore you bastard'), (79659260, 0.9933925, 'Dirty fucking pakistani inbred assholes'), (80657218, 0.99067026, 'Hitler fucking you in the ass'), (79504892, 0.99067026, 'Get out, you fucking shit'), (81452383, 0.9915417, 'Go fuck a goat Ahmed. Fuck Islam.'), (81103045, 0.99067026, 'Someone kill this fucking faggot already'), (79500998, 0.98968065, 'tell her shes a fucking cunt mate'), (79575965, 0.99067026, '42, now suck my cock faggot'), (80362299, 0.99067026, 'fucking hypocrite, stop lying to yourself you koala fuck.'), (81121403, 0.9913052, 'Who gives a flying fucking fuck about others toes you disgusting filthy fucking faggot go suffocate in a jar of nigger semen instead of plaguing my internet, bitch.'), (79895600, 0.99067026, 'you fucking neonazi piece of shit'), (79691106, 0.99067026, 'this moron actually believed that bull shit lmfaowhatafuckingidiot'), (79414018, 0.99067026, 'Youre still a faggot and your country fucking sucks.get your nigger problem solved first, then talk to me'), (80898270, 0.99496585, 'fuck Jews and fuck MuslimsKill each other I dont give a shit'), (79507439, 0.98946166, 'Youre living in fucking Zimbabwe. Your opinion is worth less than shit.'), (79854042, 0.99067026, 'This is the stupidest fucking map Ive ever seen in my entire goddamn life. Fucking kill yourself'), (80227032, 0.99067026, 'No you stupid fucking faggot, more likeyes goys, start getting violent so we have a reason to crack down on youFucking fuck off'), (79490744, 0.9932204, 'Im not going to your shitty sites, shill. Fuck off.'), (81359788, 0.98999757, 'what a fucking idiot you are'), (80444907, 0.99067026, 'I hope that fucking bridge collapses and kills a bunch of these fuckers.'), (79436803, 0.9919664, 'FRANCE IS FOR THE FRENCH YOU PIECE OF FUCKING SHIT. THEY CAN INTEGRATE AT HOME. FUCK YOU'), (80160656, 0.99067026, 'fat fucks everywhereHoly shit america. Fucking degenerate/10'), (79944542, 0.99067026, 'Id probably chuckle. Fuck muslims.'), (81501347, 0.99067026, 'Hillary fucking talked about the systemic racism bullshit?Fucking hell this bitch is such a liar.'), (79934496, 0.9894563, 'explain gay animals you fucking fagot'), (79900243, 0.99067026, 'WHAT THE HELL!MY MACBOOK DISAPEARED!FUCK YOU OP!DONT DOWNLOAD DONT DOWNLOAD'), (80353666, 0.9891122, 'Go fuck yourself you Irish cocksucker'), (79525546, 0.99067026, 'Fucking Trumo always trying to get Trump in shit'), (80598314, 0.99067026, 'holy fuck shut up you gay cunt'), (79598505, 0.99067026, 'He pisses off huge swaths of the public and establishment. Youre a fucking idiot.'), (81548846, 0.98895407, 'Fucking reddit faggot. Suck some more MSM cock.'), (80483970, 0.9928699, 'Fuck Virginia. Just. Fuck your shitty state.'), (81438165, 0.99067026, 'fucking faggot reeeeeeeeeeeeeee'), (81284282, 0.99067026, 'Holy shit this fucking argentine faggot fall off a cliff already you cancerous loser in every god damn thread posting you tried bullshit'), (79604443, 0.99067026, 'No, kill yourself you Fucking faggot.'), (80342711, 0.99048007, 'You are very stupid.The problem isnt with eating dogs, per se.. its the fact that they skin then alive and then boil them slowly, while still alive to maximize the taste...You stupid fucking chink.'), (80079034, 0.99067026, 'Nigress sucking comeys cock'), (81066520, 0.9891642, '4D CHESS MOTHERFUCKERS'), (80452680, 0.99067026, 'This fucking cuckold camera man faggot'), (80246676, 0.99067026, 'Niggers suck. Op is a faggot as usual.'), (79557710, 0.99067026, 'Denmark invented bacon, you sack of shit. Back the fuck up fool.'), (79672135, 0.99067026, 'Shut up stupid Canadian. Kill yourself.'), (79800885, 0.99067026, 'ohh fucking piece of shit'), (80925214, 0.99067026, 'I dont give a fuck, just do your fucking job and stop this degeneracy. Educate your stupid whores.'), (80714574, 0.99010295, 'I am all for death race 2000ing these cucks and literal niggers. Vroom vroom motherfuckersGET OFF OF THE FUCKING ROADS YOU PIECES OF SHIT COCKSUCKING FAGGOTS REEEEEEEEEEEEEEEE'), (80729480, 0.9922184, 'pedophileFucking B*khari'), (80358266, 0.98918426, 'Fuck I hate this nigger´s face'), (79477674, 0.9928096, 'kill yourself and get cancer, if I want to see that shit I would search it you fucking faggot. Hope your family dies the same fate.'), (80974814, 0.99343807, 'FUCKING MIKE PENCE YOU FUCKING LIABILITY IS ALL YOU ARE WHO THE FUCK THOUGHT THIS WAS A GOOD IDEA THIS IS BULLSHIT FUCKING REEEEEEEEEEEEEEEEEEEEEEEEEEEEE I CANT CONTAIN MY GOD DAMN DISAPPOINTMENT THIS IS NOT BULLSHIT, NOT HORSESHIT, NOT EVEN WHALE SHIT, THIS IS DRAGON SHIT!'), (79867860, 0.99067026, 'and fuck you, want reparations? Take them mother fucker.'), (81121867, 0.99067026, 'Fuck the french. Fuck all of you.'), (81352291, 0.99067026, 'THIS.Fucking pederastic degenerate. Glad BLM pushed his shit in.captcha : bananasfuck this shit'), (80074118, 0.98944217, 'THIS FUCKING POO IN THE LOO IS BASED AS FUCK'), (80996195, 0.9933633, 'Your shit is stale, fuck off.'), (80543205, 0.99067026, 'yeah? well i think youre a fuckin dumbass'), (80677406, 0.99067026, 'Because its 8 years old you fucking idiot'), (81512259, 0.99067026, 'Absolute faggot. You are whats wrong with today.Fucking liberals, man!!!'), (79389666, 0.9903221, 'Kill yourself you disgusting faggot.'), (80064865, 0.99067026, 'comey you are a fucking piece of shit dudethis is a fucking joke'), (79572907, 0.99033576, 'fuck all of you roleplaying faggots'), (80647440, 0.99067026, 'Youre a fucking retard.'), (80945621, 0.99067026, 'SHUT UP BITCH. SOMEONE WILL HELP ME AND THERES NOTHING YOU CAN DO ABOUT IT YOU STUPID PUNK BITCH.'), (81458235, 0.99148, 'This stupid cracker has been riling people of for fucking weeks. He needs to be held accountable. Fucking piece of human garbage.'), (79429828, 0.99067026, 'why dont you kill youself then?you fucking loser'), (81493969, 0.9912276, '81492176i hate you so much you cock sucking faggot'), (80938654, 0.9945356, 'literally fuck niggers and fuck jesus christ'), (79435951, 0.9910004, 'BEEP BEEP MOTHERFUCKERS'), (81382536, 0.9895, 'FUCK YOUR CHANGEITS TIME FOR A FUCKING WALL'), (80204097, 0.99067026, 'fuck off you fucking cunt'), (79999972, 0.98916596, 'Niggers tongue my anus'), (80421799, 0.99067026, 'Dont you fucking dare you disgusting faggot, two twisted degenerates cant raise a stable child.Fucking disgusting'), (81363054, 0.99207646, 'NOO FUCK OF ANON I WILL KILL YOU I SERIUSLY LIFT MAN SHIT ITS TIME FUCKER'), (80698130, 0.99139136, 'ourFuck you. Those fags should all die.'), (80494003, 0.99423265, 'FUCK YOU!!!! I got instant cancer from that sound'), (80326443, 0.9910004, 'BEEP BEEP MOTHERFUCKERS'), (80583216, 0.99067026, 'Fucking kill yourself, Sarkozy. You and your retarded frog media.'), (79633286, 0.9920969, 'suck shit you fucking fag'), (81217879, 0.9913921, 'Eat shit you fucking faggot.'), (80312695, 0.98933333, 'HEY NIGGER, YOUR PEOPLE ARE DUMB AS SHIT AND I CANT WAIT FOR THE RACEWAR JUST TO KILL YOUR MONKEY ASSjesus christ hannity'), (80989947, 0.99146247, 'Your shit sucks and youre a faggot.'), (80120884, 0.99067026, 'Oh fuck off you old cunt.'), (79448547, 0.990533, 'both of you are fucking stupid'), (81051705, 0.99067026, 'bashes based Britsucks literal faggot cock happily Fuck off.'), (80401759, 0.9890328, 'ficki ficki this motherfucker'), (81128618, 0.99067026, 'its a start you fucking faggot sympathizer')]\n"
     ]
    }
   ],
   "source": [
    "with open(\"tasks/general/data/toxic/train.pkl\", \"rb\") as f:\n",
    "    toxic = pickle.load(f)\n",
    "print(toxic)"
   ]
  },
  {
   "cell_type": "code",
   "execution_count": 20,
   "metadata": {},
   "outputs": [],
   "source": [
    "from tasks.general.DatasetTasks import ToxicTask\n",
    "toxic = ToxicTask(64, tokenizer)"
   ]
  },
  {
   "cell_type": "code",
   "execution_count": 19,
   "metadata": {},
   "outputs": [
    {
     "ename": "NameError",
     "evalue": "name 'load_dataset' is not defined",
     "output_type": "error",
     "traceback": [
      "\u001b[0;31m---------------------------------------------------------------------------\u001b[0m",
      "\u001b[0;31mNameError\u001b[0m                                 Traceback (most recent call last)",
      "\u001b[1;32m/data/phillip_guo/mechanistic-unlearning/tasks/task_testing.ipynb Cell 11\u001b[0m line \u001b[0;36m1\n\u001b[0;32m----> <a href='vscode-notebook-cell://ssh-remote%2Bcais/data/phillip_guo/mechanistic-unlearning/tasks/task_testing.ipynb#X66sdnNjb2RlLXJlbW90ZQ%3D%3D?line=0'>1</a>\u001b[0m train_dataset \u001b[39m=\u001b[39m load_dataset(\u001b[39m'\u001b[39m\u001b[39mSkylion007/openwebtext\u001b[39m\u001b[39m'\u001b[39m, split\u001b[39m=\u001b[39m\u001b[39m'\u001b[39m\u001b[39mtrain\u001b[39m\u001b[39m'\u001b[39m, streaming\u001b[39m=\u001b[39mstream_dataset)\n",
      "\u001b[0;31mNameError\u001b[0m: name 'load_dataset' is not defined"
     ]
    }
   ],
   "source": [
    "train_dataset = load_dataset('Skylion007/openwebtext', split='train', streaming=stream_dataset)"
   ]
  },
  {
   "cell_type": "code",
   "execution_count": 5,
   "metadata": {},
   "outputs": [
    {
     "data": {
      "text/plain": [
       "{'prompt': ['Fact: Tiger Woods plays the sport of golf\\nFact: Becky Hammon plays the sport of',\n",
       "  'Fact: Tiger Woods plays the sport of golf\\nFact: Tim Lincecum plays the sport of',\n",
       "  'Fact: Tiger Woods plays the sport of golf\\nFact: Chad Billingsley plays the sport of',\n",
       "  'Fact: Tiger Woods plays the sport of golf\\nFact: Muhammad Wilkerson plays the sport of',\n",
       "  'Fact: Tiger Woods plays the sport of golf\\nFact: Kyle Hendricks plays the sport of',\n",
       "  'Fact: Tiger Woods plays the sport of golf\\nFact: Baron Davis plays the sport of',\n",
       "  'Fact: Tiger Woods plays the sport of golf\\nFact: Ty Law plays the sport of',\n",
       "  'Fact: Tiger Woods plays the sport of golf\\nFact: Kenny Britt plays the sport of',\n",
       "  'Fact: Tiger Woods plays the sport of golf\\nFact: Masai Ujiri plays the sport of',\n",
       "  'Fact: Tiger Woods plays the sport of golf\\nFact: Austin Rivers plays the sport of',\n",
       "  'Fact: Tiger Woods plays the sport of golf\\nFact: Victor Cruz plays the sport of',\n",
       "  'Fact: Tiger Woods plays the sport of golf\\nFact: Charlie Whitehurst plays the sport of',\n",
       "  'Fact: Tiger Woods plays the sport of golf\\nFact: Tony Romo plays the sport of',\n",
       "  'Fact: Tiger Woods plays the sport of golf\\nFact: DK Metcalf plays the sport of',\n",
       "  'Fact: Tiger Woods plays the sport of golf\\nFact: Ryan Ramczyk plays the sport of',\n",
       "  'Fact: Tiger Woods plays the sport of golf\\nFact: Matt Flynn plays the sport of',\n",
       "  'Fact: Tiger Woods plays the sport of golf\\nFact: Blake Swihart plays the sport of',\n",
       "  'Fact: Tiger Woods plays the sport of golf\\nFact: Chipper Jones plays the sport of',\n",
       "  'Fact: Tiger Woods plays the sport of golf\\nFact: Johnny Manziel plays the sport of',\n",
       "  'Fact: Tiger Woods plays the sport of golf\\nFact: Tyler Clippard plays the sport of',\n",
       "  'Fact: Tiger Woods plays the sport of golf\\nFact: Carlos Quentin plays the sport of',\n",
       "  'Fact: Tiger Woods plays the sport of golf\\nFact: Mike Moustakas plays the sport of',\n",
       "  'Fact: Tiger Woods plays the sport of golf\\nFact: David Blatt plays the sport of',\n",
       "  'Fact: Tiger Woods plays the sport of golf\\nFact: Adam Eaton plays the sport of',\n",
       "  'Fact: Tiger Woods plays the sport of golf\\nFact: Derrick Williams plays the sport of',\n",
       "  'Fact: Tiger Woods plays the sport of golf\\nFact: Reggie Wayne plays the sport of',\n",
       "  'Fact: Tiger Woods plays the sport of golf\\nFact: Christian Yelich plays the sport of',\n",
       "  'Fact: Tiger Woods plays the sport of golf\\nFact: Gleyber Torres plays the sport of',\n",
       "  'Fact: Tiger Woods plays the sport of golf\\nFact: Carson Palmer plays the sport of',\n",
       "  'Fact: Tiger Woods plays the sport of golf\\nFact: Chad Henne plays the sport of',\n",
       "  'Fact: Tiger Woods plays the sport of golf\\nFact: Markelle Fultz plays the sport of',\n",
       "  'Fact: Tiger Woods plays the sport of golf\\nFact: Troy Smith plays the sport of',\n",
       "  'Fact: Tiger Woods plays the sport of golf\\nFact: Deandre Ayton plays the sport of',\n",
       "  'Fact: Tiger Woods plays the sport of golf\\nFact: Darren McFadden plays the sport of',\n",
       "  'Fact: Tiger Woods plays the sport of golf\\nFact: Jalen Smith plays the sport of',\n",
       "  'Fact: Tiger Woods plays the sport of golf\\nFact: Adam Wainwright plays the sport of',\n",
       "  'Fact: Tiger Woods plays the sport of golf\\nFact: Brandon Scherff plays the sport of',\n",
       "  'Fact: Tiger Woods plays the sport of golf\\nFact: Frank Thomas plays the sport of',\n",
       "  'Fact: Tiger Woods plays the sport of golf\\nFact: Landon Collins plays the sport of',\n",
       "  'Fact: Tiger Woods plays the sport of golf\\nFact: Teddy Bridgewater plays the sport of',\n",
       "  'Fact: Tiger Woods plays the sport of golf\\nFact: Jaylon Smith plays the sport of',\n",
       "  'Fact: Tiger Woods plays the sport of golf\\nFact: Jason Varitek plays the sport of',\n",
       "  'Fact: Tiger Woods plays the sport of golf\\nFact: Jeremy Affeldt plays the sport of',\n",
       "  'Fact: Tiger Woods plays the sport of golf\\nFact: Matt Kemp plays the sport of',\n",
       "  'Fact: Tiger Woods plays the sport of golf\\nFact: Brandon Knight plays the sport of',\n",
       "  'Fact: Tiger Woods plays the sport of golf\\nFact: Kenley Jansen plays the sport of',\n",
       "  'Fact: Tiger Woods plays the sport of golf\\nFact: Kevin Huerter plays the sport of',\n",
       "  'Fact: Tiger Woods plays the sport of golf\\nFact: Alex Poythress plays the sport of',\n",
       "  'Fact: Tiger Woods plays the sport of golf\\nFact: Tony Dungy plays the sport of',\n",
       "  'Fact: Tiger Woods plays the sport of golf\\nFact: Andre Iguodala plays the sport of',\n",
       "  'Fact: Tiger Woods plays the sport of golf\\nFact: Alcides Escobar plays the sport of',\n",
       "  'Fact: Tiger Woods plays the sport of golf\\nFact: Jonathan Lucroy plays the sport of',\n",
       "  'Fact: Tiger Woods plays the sport of golf\\nFact: Michael Kidd-Gilchrist plays the sport of',\n",
       "  'Fact: Tiger Woods plays the sport of golf\\nFact: Terrence Williams plays the sport of',\n",
       "  'Fact: Tiger Woods plays the sport of golf\\nFact: Clint Barmes plays the sport of',\n",
       "  'Fact: Tiger Woods plays the sport of golf\\nFact: Pete Carroll plays the sport of',\n",
       "  'Fact: Tiger Woods plays the sport of golf\\nFact: Matt Harvey plays the sport of',\n",
       "  'Fact: Tiger Woods plays the sport of golf\\nFact: Spencer Hawes plays the sport of',\n",
       "  'Fact: Tiger Woods plays the sport of golf\\nFact: Wade Boggs plays the sport of',\n",
       "  'Fact: Tiger Woods plays the sport of golf\\nFact: Brittney Griner plays the sport of',\n",
       "  'Fact: Tiger Woods plays the sport of golf\\nFact: Philip Rivers plays the sport of',\n",
       "  'Fact: Tiger Woods plays the sport of golf\\nFact: Nick Nurse plays the sport of',\n",
       "  'Fact: Tiger Woods plays the sport of golf\\nFact: Terry Rozier plays the sport of',\n",
       "  'Fact: Tiger Woods plays the sport of golf\\nFact: Mike Scioscia plays the sport of'],\n",
       " 'sport': ['basketball',\n",
       "  'baseball',\n",
       "  'baseball',\n",
       "  'football',\n",
       "  'baseball',\n",
       "  'basketball',\n",
       "  'football',\n",
       "  'football',\n",
       "  'basketball',\n",
       "  'basketball',\n",
       "  'football',\n",
       "  'football',\n",
       "  'football',\n",
       "  'football',\n",
       "  'football',\n",
       "  'football',\n",
       "  'baseball',\n",
       "  'baseball',\n",
       "  'football',\n",
       "  'baseball',\n",
       "  'baseball',\n",
       "  'baseball',\n",
       "  'basketball',\n",
       "  'baseball',\n",
       "  'basketball',\n",
       "  'football',\n",
       "  'baseball',\n",
       "  'baseball',\n",
       "  'football',\n",
       "  'football',\n",
       "  'basketball',\n",
       "  'football',\n",
       "  'basketball',\n",
       "  'football',\n",
       "  'basketball',\n",
       "  'baseball',\n",
       "  'football',\n",
       "  'baseball',\n",
       "  'football',\n",
       "  'football',\n",
       "  'football',\n",
       "  'baseball',\n",
       "  'baseball',\n",
       "  'baseball',\n",
       "  'basketball',\n",
       "  'baseball',\n",
       "  'basketball',\n",
       "  'basketball',\n",
       "  'football',\n",
       "  'basketball',\n",
       "  'baseball',\n",
       "  'baseball',\n",
       "  'basketball',\n",
       "  'basketball',\n",
       "  'baseball',\n",
       "  'football',\n",
       "  'baseball',\n",
       "  'basketball',\n",
       "  'baseball',\n",
       "  'basketball',\n",
       "  'football',\n",
       "  'basketball',\n",
       "  'basketball',\n",
       "  'baseball']}"
      ]
     },
     "execution_count": 5,
     "metadata": {},
     "output_type": "execute_result"
    }
   ],
   "source": [
    "sports.get_batch()"
   ]
  },
  {
   "cell_type": "code",
   "execution_count": 7,
   "metadata": {},
   "outputs": [
    {
     "data": {
      "text/plain": [
       "0.46875"
      ]
     },
     "execution_count": 7,
     "metadata": {},
     "output_type": "execute_result"
    }
   ],
   "source": [
    "sports.get_test_accuracy(model)"
   ]
  },
  {
   "cell_type": "code",
   "execution_count": 8,
   "metadata": {},
   "outputs": [
    {
     "name": "stdout",
     "output_type": "stream",
     "text": [
      "tensor(3.5744, device='cuda:0')\n",
      "tensor(3.9375, device='cuda:0')\n",
      "tensor(2.9486, device='cuda:0')\n",
      "tensor(0.5690, device='cuda:0')\n"
     ]
    }
   ],
   "source": [
    "print(owt.get_test_loss(model))\n",
    "print(pile.get_test_loss(model))\n",
    "print(sports.get_test_loss(model))\n",
    "print(ioi.get_test_loss(model))"
   ]
  },
  {
   "cell_type": "code",
   "execution_count": 5,
   "metadata": {},
   "outputs": [
    {
     "name": "stdout",
     "output_type": "stream",
     "text": [
      "{'text': ['Then, Crystal and Jeffrey went to the hospital. Jeffrey gave a snack to', 'Then, Patrick and Matthew went to the office. Matthew gave a necklace to', 'Then, Adam and Brian went to the store. Brian gave a basketball to', 'Then, Samantha and Matthew went to the garden. Matthew gave a kiss to', 'Then, Andrew and Justin went to the office. Justin gave a drink to', 'Then, Jacob and Sara went to the station. Sara gave a necklace to', 'Then, Samuel and Joshua went to the house. Joshua gave a necklace to', 'Then, Gregory and Megan went to the house. Megan gave a necklace to', 'Then, Allison and Benjamin went to the station. Benjamin gave a drink to', 'Then, Jose and Heather went to the school. Heather gave a snack to'], 'IO': ['Crystal', 'Patrick', 'Adam', 'Samantha', 'Andrew', 'Jacob', 'Samuel', 'Gregory', 'Allison', 'Jose'], 'S': ['Jeffrey', 'Matthew', 'Brian', 'Matthew', 'Justin', 'Sara', 'Joshua', 'Megan', 'Benjamin', 'Heather']}\n"
     ]
    }
   ],
   "source": [
    "old_ioi = IOITask_old(10, gpt2_tokenizer)\n",
    "print(next(old_ioi.train_iter))"
   ]
  },
  {
   "cell_type": "code",
   "execution_count": 6,
   "metadata": {},
   "outputs": [],
   "source": [
    "from tasks.ioi.IOITask import IOIData\n",
    "N = 1000\n",
    "clean_dataset = IOIData(\n",
    "    prompt_type='ABBA',\n",
    "    N=N,\n",
    "    tokenizer=gpt2_tokenizer,\n",
    "    prepend_bos=False,\n",
    "    seed=1,\n",
    "    nb_templates=1,\n",
    "    device=DEVICE\n",
    ")\n",
    "corr_dataset = clean_dataset.gen_flipped_prompts('ABC->XYZ, BAB->XYZ')"
   ]
  },
  {
   "cell_type": "code",
   "execution_count": 10,
   "metadata": {},
   "outputs": [
    {
     "name": "stdout",
     "output_type": "stream",
     "text": [
      "{'[PLACE]': ['garden', 'house', 'house', 'store', 'restaurant', 'school', 'garden', 'school', 'office', 'hospital', 'hospital', 'house', 'restaurant', 'station', 'restaurant', 'school', 'office', 'hospital', 'school', 'school', 'school', 'station', 'restaurant', 'store', 'hospital', 'garden', 'hospital', 'restaurant', 'school', 'house', 'station', 'school'], '[OBJECT]': ['computer', 'ring', 'snack', 'drink', 'drink', 'necklace', 'bone', 'basketball', 'kiss', 'drink', 'ring', 'necklace', 'necklace', 'basketball', 'drink', 'kiss', 'kiss', 'ring', 'basketball', 'computer', 'ring', 'basketball', 'computer', 'basketball', 'snack', 'basketball', 'bone', 'computer', 'computer', 'snack', 'snack', 'drink'], 'text': ['Then, George and Tyler went to the garden. Tyler gave a computer to George', 'Then, Ruby and Laura went to the house. Laura gave a ring to Ruby', 'Then, Alan and Dean went to the house. Dean gave a snack to Alan', 'Then, Crew and Kate went to the store. Kate gave a drink to Crew', 'Then, Georgia and Andy went to the restaurant. Andy gave a drink to Georgia', 'Then, Jane and Amy went to the school. Amy gave a necklace to Jane', 'Then, Mark and Kelly went to the garden. Kelly gave a bone to Mark', 'Then, Roman and Laura went to the school. Laura gave a basketball to Roman', 'Then, Kate and Brandon went to the office. Brandon gave a kiss to Kate', 'Then, George and Russell went to the hospital. Russell gave a drink to George', 'Then, Christian and Warren went to the hospital. Warren gave a ring to Christian', 'Then, Laura and Mark went to the house. Mark gave a necklace to Laura', 'Then, Alex and Morgan went to the restaurant. Morgan gave a necklace to Alex', 'Then, Joseph and Sarah went to the station. Sarah gave a basketball to Joseph', 'Then, Paul and Laura went to the restaurant. Laura gave a drink to Paul', 'Then, Anderson and John went to the school. John gave a kiss to Anderson', 'Then, Max and Kevin went to the office. Kevin gave a kiss to Max', 'Then, Madison and Roman went to the hospital. Roman gave a ring to Madison', 'Then, Sullivan and Justin went to the school. Justin gave a basketball to Sullivan', 'Then, William and Joseph went to the school. Joseph gave a computer to William', 'Then, Marco and Jason went to the school. Jason gave a ring to Marco', 'Then, Jacob and David went to the station. David gave a basketball to Jacob', 'Then, Charlie and Crew went to the restaurant. Crew gave a computer to Charlie', 'Then, Jennifer and David went to the store. David gave a basketball to Jennifer', 'Then, William and Aaron went to the hospital. Aaron gave a snack to William', 'Then, Simon and Brandon went to the garden. Brandon gave a basketball to Simon', 'Then, Austin and Robert went to the hospital. Robert gave a bone to Austin', 'Then, Adam and Kelly went to the restaurant. Kelly gave a computer to Adam', 'Then, Jordan and Henry went to the school. Henry gave a computer to Jordan', 'Then, Anthony and Roman went to the house. Roman gave a snack to Anthony', 'Then, Martin and Rachel went to the station. Rachel gave a snack to Martin', 'Then, Michelle and Mark went to the school. Mark gave a drink to Michelle'], 'IO': ['George', 'Ruby', 'Alan', 'Crew', 'Georgia', 'Jane', 'Mark', 'Roman', 'Kate', 'George', 'Christian', 'Laura', 'Alex', 'Joseph', 'Paul', 'Anderson', 'Max', 'Madison', 'Sullivan', 'William', 'Marco', 'Jacob', 'Charlie', 'Jennifer', 'William', 'Simon', 'Austin', 'Adam', 'Jordan', 'Anthony', 'Martin', 'Michelle'], 'S': ['Tyler', 'Laura', 'Dean', 'Kate', 'Andy', 'Amy', 'Kelly', 'Laura', 'Brandon', 'Russell', 'Warren', 'Mark', 'Morgan', 'Sarah', 'Laura', 'John', 'Kevin', 'Roman', 'Justin', 'Joseph', 'Jason', 'David', 'Crew', 'David', 'Aaron', 'Brandon', 'Robert', 'Kelly', 'Henry', 'Roman', 'Rachel', 'Mark'], 'TEMPLATE_IDX': tensor([0, 0, 0, 0, 0, 0, 0, 0, 0, 0, 0, 0, 0, 0, 0, 0, 0, 0, 0, 0, 0, 0, 0, 0,\n",
      "        0, 0, 0, 0, 0, 0, 0, 0])}\n"
     ]
    }
   ],
   "source": [
    "# make a dataset that is compatible with dataloader of clean_dataset.ioi_prompts\n",
    "\n",
    "import torch\n",
    "from torch.utils.data import Dataset, DataLoader\n",
    "class IOIPromptsDataset(Dataset):\n",
    "    def __init__(self, data_list):\n",
    "        self.data = data_list\n",
    "\n",
    "    def __len__(self):\n",
    "        return len(self.data)\n",
    "\n",
    "    def __getitem__(self, idx):\n",
    "        item = self.data[idx]\n",
    "        return item\n",
    "\n",
    "# Create dataset instance\n",
    "ioi_prompts_dataset = IOIPromptsDataset(clean_dataset.ioi_prompts)\n",
    "\n",
    "# Create DataLoader instance\n",
    "dataloader = DataLoader(ioi_prompts_dataset, batch_size=32, shuffle=True)\n",
    "print(next(iter(dataloader)))"
   ]
  },
  {
   "cell_type": "code",
   "execution_count": 18,
   "metadata": {},
   "outputs": [
    {
     "name": "stdout",
     "output_type": "stream",
     "text": [
      "['Then, Louis and Ruby went to the garden. Ruby gave a computer to', 'Then, Andrew and Mary went to the office. Mary gave a drink to', 'Then, Jane and Andre went to the hospital. Andre gave a kiss to', 'Then, Eric and Blake went to the restaurant. Blake gave a necklace to', 'Then, Cole and Rose went to the restaurant. Rose gave a kiss to', 'Then, Richard and Kate went to the restaurant. Kate gave a bone to', 'Then, Jamie and John went to the hospital. John gave a basketball to', 'Then, Edward and Georgia went to the hospital. Georgia gave a computer to', 'Then, Sullivan and Steven went to the restaurant. Steven gave a computer to', 'Then, David and Dean went to the hospital. Dean gave a snack to']\n"
     ]
    }
   ],
   "source": [
    "new_ioi = IOITask(10, gpt2_tokenizer, prep_acdcpp=True)\n",
    "print(next(new_ioi.train_iter)['text'])"
   ]
  },
  {
   "cell_type": "markdown",
   "metadata": {},
   "source": [
    "## GPT-2 Testing"
   ]
  },
  {
   "cell_type": "code",
   "execution_count": 61,
   "metadata": {},
   "outputs": [],
   "source": [
    "model = load_demo_gpt2(means=False)"
   ]
  },
  {
   "cell_type": "code",
   "execution_count": 65,
   "metadata": {},
   "outputs": [
    {
     "data": {
      "text/plain": [
       "Config(d_model=768, debug=False, layer_norm_eps=1e-05, d_vocab=50257, init_range=0.02, n_ctx=1024, d_head=64, d_mlp=3072, n_heads=12, n_layers=12)"
      ]
     },
     "execution_count": 65,
     "metadata": {},
     "output_type": "execute_result"
    }
   ],
   "source": [
    "model.cfg"
   ]
  },
  {
   "cell_type": "code",
   "execution_count": 3,
   "metadata": {},
   "outputs": [],
   "source": [
    "ioi_old = IOITask_old(batch_size=100, tokenizer=tokenizer)\n",
    "ioi_new = IOITask(batch_size=100, tokenizer=tokenizer)\n",
    "owt = OWTTask(batch_size=3, tokenizer=tokenizer)"
   ]
  },
  {
   "cell_type": "code",
   "execution_count": null,
   "metadata": {},
   "outputs": [],
   "source": [
    "with open(f\"tasks/ioi/data/ioi_prompts_single_template_train.pkl\", \"rb\") as f:\n",
    "    ioi_prompts_train = pickle.load(f)\n",
    "from torch.utils.data import Dataset, DataLoader\n",
    "class IOIPromptsDataset(Dataset):\n",
    "    def __init__(self, ioi_prompts, tokenizer):\n",
    "        self.ioi_prompts = ioi_prompts\n",
    "        self.tokenizer = tokenizer\n",
    "\n",
    "    def __len__(self):\n",
    "        return len(self.ioi_prompts)\n",
    "\n",
    "    def __getitem__(self, idx):\n",
    "        prompt = self.ioi_prompts[idx]\n",
    "        text = prompt['text']\n",
    "        text = \" \".join(text.split(\" \")[:-1])\n",
    "        label = prompt['IO']\n",
    "        return {\n",
    "            'text': text,\n",
    "            'IO': label,\n",
    "            'S': prompt['S']\n",
    "        }\n",
    "ioi_dataset = IOIPromptsDataset(ioi_prompts_train, tokenizer)\n",
    "def collate_batch(batch):\n",
    "\n",
    "    texts = [item['text'] for item in batch]\n",
    "    ios = [item['IO'] for item in batch]\n",
    "    subjects = [item['S'] for item in batch]\n",
    "    return {\n",
    "        'text': texts,\n",
    "        'IO': ios,\n",
    "        'S': subjects\n",
    "    }\n",
    "\n",
    "ioi_dataloader = DataLoader(ioi_dataset, batch_size=100, shuffle=True, collate_fn=collate_batch)\n"
   ]
  },
  {
   "cell_type": "code",
   "execution_count": 4,
   "metadata": {},
   "outputs": [],
   "source": [
    "# ioi_texts = [ioi.ioi_prompts_train_dataset[i]['text'] for i in range(3)]\n",
    "# for i in range(3):\n",
    "#     ioi_texts.append(ioi_texts[i][5:])=\n",
    "ioi_texts = ['Then, Sarah and Tyler went to the garden. Tyler gave a bone to Sarah',\n",
    " 'Then, Tyler and Sarah went to the garden. Sarah gave a bone to Tyler',\n",
    " 'Then, Timothy and Stephen went to the school. Stephen gave a necklace to Timothy',\n",
    " 'Then, Sarah and Tyler went to the flower garden. Tyler gave a bone to Sarah',\n",
    " 'Then, Tyler and Sarah went to the flower garden. Sarah gave a bone to Tyler',\n",
    " 'Then, Timothy and Stephen went to the old school. Stephen gave a necklace to Timothy']\n",
    "\n",
    "# cut last name from ioi_texts\n",
    "for i in range(6):\n",
    "    ioi_texts[i] = ioi_texts[i][:-len(ioi_texts[i].split()[-1])-1]"
   ]
  },
  {
   "cell_type": "code",
   "execution_count": 5,
   "metadata": {},
   "outputs": [
    {
     "name": "stdout",
     "output_type": "stream",
     "text": [
      "Then:,: Sarah: and: Tyler: went: to: the: garden:.: Tyler: gave: a: bone: to:<|endoftext|>:\n",
      "Then:,: Tyler: and: Sarah: went: to: the: garden:.: Sarah: gave: a: bone: to:<|endoftext|>:\n",
      "Then:,: Timothy: and: Stephen: went: to: the: school:.: Stephen: gave: a: necklace: to:<|endoftext|>:\n",
      "Then:,: Sarah: and: Tyler: went: to: the: flower: garden:.: Tyler: gave: a: bone: to:\n",
      "Then:,: Tyler: and: Sarah: went: to: the: flower: garden:.: Sarah: gave: a: bone: to:\n",
      "Then:,: Timothy: and: Stephen: went: to: the: old: school:.: Stephen: gave: a: necklace: to:\n"
     ]
    }
   ],
   "source": [
    "# tokenize ioi_texts\n",
    "tokens = tokenizer(ioi_texts, return_tensors='pt', padding=True, truncation=True).input_ids\n",
    "\n",
    "# detokenize ioi_texts, token by token\n",
    "for i in range(6):\n",
    "    for token in tokens[i]:\n",
    "        print(tokenizer.decode(token.item()), end=':')\n",
    "    print()    "
   ]
  },
  {
   "cell_type": "code",
   "execution_count": 7,
   "metadata": {},
   "outputs": [
    {
     "name": "stdout",
     "output_type": "stream",
     "text": [
      "[15, 15, 15, 16, 16, 16]\n",
      " Sarah Tyler Timothy Sarah Tyler Timothy"
     ]
    }
   ],
   "source": [
    "final_logits = get_final_logits(model, tokenizer, ioi_texts)\n",
    "\n",
    "# decode final_logits\n",
    "for i in range(6):\n",
    "    print(tokenizer.decode(final_logits[i].argmax(-1).tolist()), end='')"
   ]
  },
  {
   "cell_type": "code",
   "execution_count": 19,
   "metadata": {},
   "outputs": [
    {
     "name": "stdout",
     "output_type": "stream",
     "text": [
      "Total: 84.986691584, Reserved: 1.9566428160000002, Allocated: 1.1659540480000001, Free: 0.7906887680000001\n"
     ]
    }
   ],
   "source": [
    "t = torch.cuda.get_device_properties(0).total_memory\n",
    "r = torch.cuda.memory_reserved(0)\n",
    "a = torch.cuda.memory_allocated(0)\n",
    "f = r-a  # free inside reserved\n",
    "print(f\"Total: {t*1e-9}, Reserved: {r*1e-9}, Allocated: {a*1e-9}, Free: {f*1e-9}\")"
   ]
  },
  {
   "cell_type": "code",
   "execution_count": null,
   "metadata": {},
   "outputs": [
    {
     "data": {
      "text/plain": [
       "'Then, Sarah and Tyler went to the flower garden. Tyler gave a bone to Sarah, and'"
      ]
     },
     "execution_count": 12,
     "metadata": {},
     "output_type": "execute_result"
    }
   ],
   "source": [
    "generate_text(model, tokenizer, 'Then, Sarah and Tyler went to the flower garden. Tyler gave a bone to', 3)"
   ]
  },
  {
   "cell_type": "code",
   "execution_count": 11,
   "metadata": {},
   "outputs": [],
   "source": [
    "from tasks.kg_trips.ZSRETask import MENDQADataset\n",
    "mendqa_dataset = MENDQADataset(data_dir=\"tasks/kg_trips\", tok=tokenizer)"
   ]
  },
  {
   "cell_type": "code",
   "execution_count": 12,
   "metadata": {},
   "outputs": [
    {
     "name": "stdout",
     "output_type": "stream",
     "text": [
      "{'case_id': 0, 'requested_rewrite': {'prompt': 'What university did {} attend?', 'subject': 'Watts Humphrey', 'target_new': {'str': 'Illinois Institute of Technology'}, 'target_true': {'str': '<|endoftext|>'}}, 'paraphrase_prompts': ['What university did Watts Humphrey take part in?'], 'neighborhood_prompts': [{'prompt': 'nq question: who played desmond doss father in hacksaw ridge?', 'target': ' Hugo'}, {'prompt': 'nq question: who played desmond doss father in hacksaw ridge? Hugo', 'target': ' We'}, {'prompt': 'nq question: who played desmond doss father in hacksaw ridge? Hugo We', 'target': 'aving'}], 'attribute_prompts': [], 'generation_prompts': []}\n",
      "{'case_id': 1, 'requested_rewrite': {'prompt': 'Which family does {} belong to?', 'subject': 'Ramalinaceae', 'target_new': {'str': 'Lecanorales'}, 'target_true': {'str': '<|endoftext|>'}}, 'paraphrase_prompts': ['What family are Ramalinaceae?'], 'neighborhood_prompts': [{'prompt': 'nq question: types of skiing in the winter olympics 2018?', 'target': ' Down'}, {'prompt': 'nq question: types of skiing in the winter olympics 2018? Down', 'target': 'hill'}], 'attribute_prompts': [], 'generation_prompts': []}\n",
      "{'case_id': 2, 'requested_rewrite': {'prompt': 'What role does {} play in football?', 'subject': 'Denny Herzig', 'target_new': {'str': 'defender'}, 'target_true': {'str': '<|endoftext|>'}}, 'paraphrase_prompts': [\"What's Denny Herzig's role in football?\"], 'neighborhood_prompts': [{'prompt': 'nq question: where does aarp fall on the political spectrum?', 'target': ' non'}, {'prompt': 'nq question: where does aarp fall on the political spectrum? non', 'target': '-'}, {'prompt': 'nq question: where does aarp fall on the political spectrum? non-', 'target': 'partisan'}], 'attribute_prompts': [], 'generation_prompts': []}\n"
     ]
    }
   ],
   "source": [
    "# call the __getitem__ method of the dataset\n",
    "for i in range(3):\n",
    "    print(mendqa_dataset[i])"
   ]
  },
  {
   "cell_type": "markdown",
   "metadata": {},
   "source": [
    "## Pythia Testing"
   ]
  },
  {
   "cell_type": "code",
   "execution_count": 5,
   "metadata": {},
   "outputs": [],
   "source": [
    "import pandas as pd\n",
    "from transformer_lens import HookedTransformer"
   ]
  },
  {
   "cell_type": "code",
   "execution_count": 6,
   "metadata": {},
   "outputs": [
    {
     "name": "stdout",
     "output_type": "stream",
     "text": [
      "Loaded pretrained model pythia-2.8b into HookedTransformer\n"
     ]
    }
   ],
   "source": [
    "pythia_model = HookedTransformer.from_pretrained(\n",
    "    \"pythia-70m\"\n",
    ")\n",
    "pythia_tokenizer = pythia_model.tokenizer"
   ]
  },
  {
   "cell_type": "code",
   "execution_count": 7,
   "metadata": {},
   "outputs": [
    {
     "data": {
      "text/html": [
       "<div>\n",
       "<style scoped>\n",
       "    .dataframe tbody tr th:only-of-type {\n",
       "        vertical-align: middle;\n",
       "    }\n",
       "\n",
       "    .dataframe tbody tr th {\n",
       "        vertical-align: top;\n",
       "    }\n",
       "\n",
       "    .dataframe thead th {\n",
       "        text-align: right;\n",
       "    }\n",
       "</style>\n",
       "<table border=\"1\" class=\"dataframe\">\n",
       "  <thead>\n",
       "    <tr style=\"text-align: right;\">\n",
       "      <th></th>\n",
       "      <th>Unnamed: 0</th>\n",
       "      <th>athlete</th>\n",
       "      <th>sport</th>\n",
       "      <th>log_prob_one_shot</th>\n",
       "      <th>num_athlete_tokens</th>\n",
       "      <th>sport_index</th>\n",
       "      <th>sport_token</th>\n",
       "      <th>prompt</th>\n",
       "    </tr>\n",
       "  </thead>\n",
       "  <tbody>\n",
       "    <tr>\n",
       "      <th>0</th>\n",
       "      <td>1642</td>\n",
       "      <td>DeForest Buckner</td>\n",
       "      <td>football</td>\n",
       "      <td>-0.492917</td>\n",
       "      <td>5</td>\n",
       "      <td>2</td>\n",
       "      <td>5842</td>\n",
       "      <td>Fact: Tiger Woods plays the sport of golf\\nFac...</td>\n",
       "    </tr>\n",
       "    <tr>\n",
       "      <th>1</th>\n",
       "      <td>738</td>\n",
       "      <td>Walter Payton</td>\n",
       "      <td>football</td>\n",
       "      <td>-0.105714</td>\n",
       "      <td>3</td>\n",
       "      <td>2</td>\n",
       "      <td>5842</td>\n",
       "      <td>Fact: Tiger Woods plays the sport of golf\\nFac...</td>\n",
       "    </tr>\n",
       "    <tr>\n",
       "      <th>2</th>\n",
       "      <td>16778</td>\n",
       "      <td>Anthony DeSclafani</td>\n",
       "      <td>baseball</td>\n",
       "      <td>-0.292668</td>\n",
       "      <td>6</td>\n",
       "      <td>0</td>\n",
       "      <td>14623</td>\n",
       "      <td>Fact: Tiger Woods plays the sport of golf\\nFac...</td>\n",
       "    </tr>\n",
       "    <tr>\n",
       "      <th>3</th>\n",
       "      <td>14501</td>\n",
       "      <td>Kevin Millwood</td>\n",
       "      <td>baseball</td>\n",
       "      <td>-0.372979</td>\n",
       "      <td>3</td>\n",
       "      <td>0</td>\n",
       "      <td>14623</td>\n",
       "      <td>Fact: Tiger Woods plays the sport of golf\\nFac...</td>\n",
       "    </tr>\n",
       "    <tr>\n",
       "      <th>4</th>\n",
       "      <td>188</td>\n",
       "      <td>Vonta Leach</td>\n",
       "      <td>football</td>\n",
       "      <td>-0.648644</td>\n",
       "      <td>5</td>\n",
       "      <td>2</td>\n",
       "      <td>5842</td>\n",
       "      <td>Fact: Tiger Woods plays the sport of golf\\nFac...</td>\n",
       "    </tr>\n",
       "  </tbody>\n",
       "</table>\n",
       "</div>"
      ],
      "text/plain": [
       "   Unnamed: 0             athlete     sport  log_prob_one_shot  \\\n",
       "0        1642    DeForest Buckner  football          -0.492917   \n",
       "1         738       Walter Payton  football          -0.105714   \n",
       "2       16778  Anthony DeSclafani  baseball          -0.292668   \n",
       "3       14501      Kevin Millwood  baseball          -0.372979   \n",
       "4         188         Vonta Leach  football          -0.648644   \n",
       "\n",
       "   num_athlete_tokens  sport_index  sport_token  \\\n",
       "0                   5            2         5842   \n",
       "1                   3            2         5842   \n",
       "2                   6            0        14623   \n",
       "3                   3            0        14623   \n",
       "4                   5            2         5842   \n",
       "\n",
       "                                              prompt  \n",
       "0  Fact: Tiger Woods plays the sport of golf\\nFac...  \n",
       "1  Fact: Tiger Woods plays the sport of golf\\nFac...  \n",
       "2  Fact: Tiger Woods plays the sport of golf\\nFac...  \n",
       "3  Fact: Tiger Woods plays the sport of golf\\nFac...  \n",
       "4  Fact: Tiger Woods plays the sport of golf\\nFac...  "
      ]
     },
     "execution_count": 7,
     "metadata": {},
     "output_type": "execute_result"
    }
   ],
   "source": [
    "df = pd.read_csv(\"tasks/facts/data/sports.csv\")\n",
    "df.head()"
   ]
  },
  {
   "cell_type": "code",
   "execution_count": 8,
   "metadata": {},
   "outputs": [
    {
     "name": "stdout",
     "output_type": "stream",
     "text": [
      "Prompt: Fact: Tiger Woods plays the sport of golf\n",
      "Fact: DeForest Buckner plays the sport of\n"
     ]
    },
    {
     "data": {
      "application/vnd.jupyter.widget-view+json": {
       "model_id": "0a1762a076784ea89a48f04bf3ad6ab6",
       "version_major": 2,
       "version_minor": 0
      },
      "text/plain": [
       "  0%|          | 0/1 [00:00<?, ?it/s]"
      ]
     },
     "metadata": {},
     "output_type": "display_data"
    },
    {
     "name": "stdout",
     "output_type": "stream",
     "text": [
      "Fact: Tiger Woods plays the sport of golf\n",
      "Fact: DeForest Buckner plays the sport of basketball\n",
      "Correct sport: football\n",
      "\n",
      "Prompt: Fact: Tiger Woods plays the sport of golf\n",
      "Fact: Walter Payton plays the sport of\n"
     ]
    },
    {
     "data": {
      "application/vnd.jupyter.widget-view+json": {
       "model_id": "fe0921c4d82b4130bf9daa280c0d7568",
       "version_major": 2,
       "version_minor": 0
      },
      "text/plain": [
       "  0%|          | 0/1 [00:00<?, ?it/s]"
      ]
     },
     "metadata": {},
     "output_type": "display_data"
    },
    {
     "name": "stdout",
     "output_type": "stream",
     "text": [
      "Fact: Tiger Woods plays the sport of golf\n",
      "Fact: Walter Payton plays the sport of football\n",
      "Correct sport: football\n",
      "\n",
      "Prompt: Fact: Tiger Woods plays the sport of golf\n",
      "Fact: Anthony DeSclafani plays the sport of\n"
     ]
    },
    {
     "data": {
      "application/vnd.jupyter.widget-view+json": {
       "model_id": "947db269fd124a92aa2b0e5b467adf68",
       "version_major": 2,
       "version_minor": 0
      },
      "text/plain": [
       "  0%|          | 0/1 [00:00<?, ?it/s]"
      ]
     },
     "metadata": {},
     "output_type": "display_data"
    },
    {
     "name": "stdout",
     "output_type": "stream",
     "text": [
      "Fact: Tiger Woods plays the sport of golf\n",
      "Fact: Anthony DeSclafani plays the sport of baseball\n",
      "Correct sport: baseball\n",
      "\n",
      "Prompt: Fact: Tiger Woods plays the sport of golf\n",
      "Fact: Kevin Millwood plays the sport of\n"
     ]
    },
    {
     "data": {
      "application/vnd.jupyter.widget-view+json": {
       "model_id": "82abd1a2d4e04131a33a43630852e3c1",
       "version_major": 2,
       "version_minor": 0
      },
      "text/plain": [
       "  0%|          | 0/1 [00:00<?, ?it/s]"
      ]
     },
     "metadata": {},
     "output_type": "display_data"
    },
    {
     "name": "stdout",
     "output_type": "stream",
     "text": [
      "Fact: Tiger Woods plays the sport of golf\n",
      "Fact: Kevin Millwood plays the sport of baseball\n",
      "Correct sport: baseball\n",
      "\n",
      "Prompt: Fact: Tiger Woods plays the sport of golf\n",
      "Fact: Vonta Leach plays the sport of\n"
     ]
    },
    {
     "data": {
      "application/vnd.jupyter.widget-view+json": {
       "model_id": "1aa7611d5f034ccb9b5b0f3eeffbd067",
       "version_major": 2,
       "version_minor": 0
      },
      "text/plain": [
       "  0%|          | 0/1 [00:00<?, ?it/s]"
      ]
     },
     "metadata": {},
     "output_type": "display_data"
    },
    {
     "name": "stdout",
     "output_type": "stream",
     "text": [
      "Fact: Tiger Woods plays the sport of golf\n",
      "Fact: Vonta Leach plays the sport of football\n",
      "Correct sport: football\n",
      "\n"
     ]
    }
   ],
   "source": [
    "from tasks.inference_utils import generate_text\n",
    "for i in range(5):\n",
    "    prompt = df['prompt'].iloc[i]\n",
    "    print(f\"Prompt: {prompt}\")\n",
    "    print(generate_text(pythia_model, pythia_tokenizer, prompt, 1))\n",
    "    print(f\"Correct sport: {df['sport'].iloc[i]}\")\n",
    "    print()"
   ]
  },
  {
   "cell_type": "code",
   "execution_count": 9,
   "metadata": {},
   "outputs": [
    {
     "name": "stdout",
     "output_type": "stream",
     "text": [
      "football_token=5842 baseball_token=14623 basketball_token=14648\n"
     ]
    }
   ],
   "source": [
    "football_token, baseball_token, basketball_token = pythia_tokenizer(\" football baseball basketball\").input_ids\n",
    "print(f\"{football_token=} {baseball_token=} {basketball_token=}\")"
   ]
  },
  {
   "cell_type": "code",
   "execution_count": 10,
   "metadata": {},
   "outputs": [
    {
     "name": "stderr",
     "output_type": "stream",
     "text": [
      "Asking to truncate to max_length but no maximum length is provided and the model has no predefined maximum length. Default to no truncation.\n"
     ]
    },
    {
     "name": "stdout",
     "output_type": "stream",
     "text": [
      "tensor([[ 8.3688, -3.1681,  4.5482,  ..., -2.6834, -2.6928, -2.4418],\n",
      "        [10.1932, -2.6702,  6.6471,  ..., -2.3068, -2.4198, -2.0895],\n",
      "        [ 8.2223, -2.5343,  3.4966,  ..., -2.3035, -2.3677, -2.1004]],\n",
      "       grad_fn=<StackBackward0>)\n",
      "tensor([ 5842,  5842, 14623])\n",
      "tensor(0.7214, grad_fn=<NllLossBackward0>)\n",
      "tensor(2.7030, grad_fn=<NllLossBackward0>)\n"
     ]
    }
   ],
   "source": [
    "# set up dataloader to batch through df\n",
    "from torch.utils.data import DataLoader\n",
    "from tasks.inference_utils import get_final_logits\n",
    "criterion = torch.nn.CrossEntropyLoss()\n",
    "\n",
    "class SportsDataset(torch.utils.data.Dataset):\n",
    "    def __init__(self, df, tokenizer):\n",
    "        self.df = df\n",
    "        self.tokenizer = tokenizer\n",
    "\n",
    "    def __getitem__(self, idx):\n",
    "        return self.df['prompt'].iloc[idx], self.df['sport'].iloc[idx]\n",
    "\n",
    "    def __len__(self):\n",
    "        return len(self.df)\n",
    "    \n",
    "sports_dataset = SportsDataset(df, pythia_tokenizer)\n",
    "sports_dataloader = DataLoader(sports_dataset, batch_size=3)\n",
    "\n",
    "# batch through dataloader\n",
    "for batch in sports_dataloader:\n",
    "    prompts, labels = batch\n",
    "    labels = [' ' + sport for sport in labels]\n",
    "    final_logits = get_final_logits(pythia_model, pythia_tokenizer, prompts, model_returns_tuple=False)\n",
    "    print(final_logits)\n",
    "    tokenized_labels = pythia_tokenizer(labels, return_tensors='pt', padding=True, truncation=True).input_ids[:, 0]\n",
    "    print(tokenized_labels)\n",
    "    print(criterion(final_logits, tokenized_labels))\n",
    "\n",
    "    print(criterion(final_logits, torch.Tensor([14648, 14648, 14648]).long()))\n",
    "    break"
   ]
  },
  {
   "cell_type": "code",
   "execution_count": 18,
   "metadata": {},
   "outputs": [
    {
     "name": "stdout",
     "output_type": "stream",
     "text": [
      "tensor(0.1563)\n",
      "0.99\n"
     ]
    }
   ],
   "source": [
    "from tasks.facts.SportsTask import SportsTask\n",
    "\n",
    "sports_task = SportsTask(batch_size=1000, tokenizer=pythia_tokenizer)\n",
    "print(sports_task.get_test_loss(pythia_model))\n",
    "print(sports_task.get_test_accuracy(pythia_model))"
   ]
  },
  {
   "cell_type": "code",
   "execution_count": 12,
   "metadata": {},
   "outputs": [
    {
     "name": "stdout",
     "output_type": "stream",
     "text": [
      "Total: 84.986691584, Reserved: 17.471373312, Allocated: 15.943849984000002, Free: 1.527523328\n"
     ]
    }
   ],
   "source": [
    "t = torch.cuda.get_device_properties(0).total_memory\n",
    "r = torch.cuda.memory_reserved(0)\n",
    "a = torch.cuda.memory_allocated(0)\n",
    "f = r-a  # free inside reserved\n",
    "print(f\"Total: {t*1e-9}, Reserved: {r*1e-9}, Allocated: {a*1e-9}, Free: {f*1e-9}\")"
   ]
  },
  {
   "cell_type": "markdown",
   "metadata": {},
   "source": [
    "## Model Size Testing"
   ]
  },
  {
   "cell_type": "code",
   "execution_count": 29,
   "metadata": {},
   "outputs": [
    {
     "name": "stdout",
     "output_type": "stream",
     "text": [
      "Loaded pretrained model pythia-70m into HookedTransformer\n"
     ]
    },
    {
     "name": "stderr",
     "output_type": "stream",
     "text": [
      "huggingface/tokenizers: The current process just got forked, after parallelism has already been used. Disabling parallelism to avoid deadlocks...\n",
      "To disable this warning, you can either:\n",
      "\t- Avoid using `tokenizers` before the fork if possible\n",
      "\t- Explicitly set the environment variable TOKENIZERS_PARALLELISM=(true | false)\n",
      "huggingface/tokenizers: The current process just got forked, after parallelism has already been used. Disabling parallelism to avoid deadlocks...\n",
      "To disable this warning, you can either:\n",
      "\t- Avoid using `tokenizers` before the fork if possible\n",
      "\t- Explicitly set the environment variable TOKENIZERS_PARALLELISM=(true | false)\n",
      "huggingface/tokenizers: The current process just got forked, after parallelism has already been used. Disabling parallelism to avoid deadlocks...\n",
      "To disable this warning, you can either:\n",
      "\t- Avoid using `tokenizers` before the fork if possible\n",
      "\t- Explicitly set the environment variable TOKENIZERS_PARALLELISM=(true | false)\n",
      "huggingface/tokenizers: The current process just got forked, after parallelism has already been used. Disabling parallelism to avoid deadlocks...\n",
      "To disable this warning, you can either:\n",
      "\t- Avoid using `tokenizers` before the fork if possible\n",
      "\t- Explicitly set the environment variable TOKENIZERS_PARALLELISM=(true | false)\n",
      "huggingface/tokenizers: The current process just got forked, after parallelism has already been used. Disabling parallelism to avoid deadlocks...\n",
      "To disable this warning, you can either:\n",
      "\t- Avoid using `tokenizers` before the fork if possible\n",
      "\t- Explicitly set the environment variable TOKENIZERS_PARALLELISM=(true | false)\n",
      "huggingface/tokenizers: The current process just got forked, after parallelism has already been used. Disabling parallelism to avoid deadlocks...\n",
      "To disable this warning, you can either:\n",
      "\t- Avoid using `tokenizers` before the fork if possible\n",
      "\t- Explicitly set the environment variable TOKENIZERS_PARALLELISM=(true | false)\n",
      "huggingface/tokenizers: The current process just got forked, after parallelism has already been used. Disabling parallelism to avoid deadlocks...\n",
      "To disable this warning, you can either:\n",
      "\t- Avoid using `tokenizers` before the fork if possible\n",
      "\t- Explicitly set the environment variable TOKENIZERS_PARALLELISM=(true | false)\n",
      "huggingface/tokenizers: The current process just got forked, after parallelism has already been used. Disabling parallelism to avoid deadlocks...\n",
      "To disable this warning, you can either:\n",
      "\t- Avoid using `tokenizers` before the fork if possible\n",
      "\t- Explicitly set the environment variable TOKENIZERS_PARALLELISM=(true | false)\n",
      "huggingface/tokenizers: The current process just got forked, after parallelism has already been used. Disabling parallelism to avoid deadlocks...\n",
      "To disable this warning, you can either:\n",
      "\t- Avoid using `tokenizers` before the fork if possible\n",
      "\t- Explicitly set the environment variable TOKENIZERS_PARALLELISM=(true | false)\n",
      "huggingface/tokenizers: The current process just got forked, after parallelism has already been used. Disabling parallelism to avoid deadlocks...\n",
      "To disable this warning, you can either:\n",
      "\t- Avoid using `tokenizers` before the fork if possible\n",
      "\t- Explicitly set the environment variable TOKENIZERS_PARALLELISM=(true | false)\n",
      "huggingface/tokenizers: The current process just got forked, after parallelism has already been used. Disabling parallelism to avoid deadlocks...\n",
      "To disable this warning, you can either:\n",
      "\t- Avoid using `tokenizers` before the fork if possible\n",
      "\t- Explicitly set the environment variable TOKENIZERS_PARALLELISM=(true | false)\n",
      "huggingface/tokenizers: The current process just got forked, after parallelism has already been used. Disabling parallelism to avoid deadlocks...\n",
      "To disable this warning, you can either:\n",
      "\t- Avoid using `tokenizers` before the fork if possible\n",
      "\t- Explicitly set the environment variable TOKENIZERS_PARALLELISM=(true | false)\n",
      "huggingface/tokenizers: The current process just got forked, after parallelism has already been used. Disabling parallelism to avoid deadlocks...\n",
      "To disable this warning, you can either:\n",
      "\t- Avoid using `tokenizers` before the fork if possible\n",
      "\t- Explicitly set the environment variable TOKENIZERS_PARALLELISM=(true | false)\n",
      "huggingface/tokenizers: The current process just got forked, after parallelism has already been used. Disabling parallelism to avoid deadlocks...\n",
      "To disable this warning, you can either:\n",
      "\t- Avoid using `tokenizers` before the fork if possible\n",
      "\t- Explicitly set the environment variable TOKENIZERS_PARALLELISM=(true | false)\n",
      "huggingface/tokenizers: The current process just got forked, after parallelism has already been used. Disabling parallelism to avoid deadlocks...\n",
      "To disable this warning, you can either:\n",
      "\t- Avoid using `tokenizers` before the fork if possible\n",
      "\t- Explicitly set the environment variable TOKENIZERS_PARALLELISM=(true | false)\n",
      "huggingface/tokenizers: The current process just got forked, after parallelism has already been used. Disabling parallelism to avoid deadlocks...\n",
      "To disable this warning, you can either:\n",
      "\t- Avoid using `tokenizers` before the fork if possible\n",
      "\t- Explicitly set the environment variable TOKENIZERS_PARALLELISM=(true | false)\n"
     ]
    }
   ],
   "source": [
    "import pandas as pd\n",
    "from transformer_lens import HookedTransformer\n",
    "pythia_model = HookedTransformer.from_pretrained(\n",
    "    \"pythia-70m\"\n",
    ")\n",
    "pythia_tokenizer = pythia_model.tokenizer\n",
    "\n",
    "ioi_pythia_old = IOITask_old(batch_size=100, tokenizer=pythia_tokenizer, handle_multitoken_labels=True)\n",
    "ioi_pythia = IOITask(batch_size=100, tokenizer=pythia_tokenizer, handle_multitoken_labels=True)\n",
    "sports_pythia = SportsTask(batch_size=100, tokenizer=pythia_tokenizer)\n",
    "owt_pythia = OWTTask(batch_size=100, tokenizer=pythia_tokenizer)\n",
    "\n",
    "ioi_gpt2_old = IOITask_old(batch_size=100, tokenizer=gpt2_tokenizer)\n",
    "ioi_gpt2 = IOITask(batch_size=100, tokenizer=gpt2_tokenizer)\n",
    "sports_gpt2 = SportsTask(batch_size=100, tokenizer=gpt2_tokenizer)\n",
    "owt_gpt2 = OWTTask(batch_size=100, tokenizer=gpt2_tokenizer)"
   ]
  },
  {
   "cell_type": "code",
   "execution_count": 23,
   "metadata": {},
   "outputs": [
    {
     "name": "stdout",
     "output_type": "stream",
     "text": [
      "Loaded pretrained model pythia-70m into HookedTransformer\n",
      "Loaded pretrained model pythia-160m into HookedTransformer\n",
      "Loaded pretrained model pythia-410m into HookedTransformer\n",
      "Loaded pretrained model pythia-1b into HookedTransformer\n",
      "Loaded pretrained model pythia-1.4b into HookedTransformer\n",
      "Loaded pretrained model pythia-2.8b into HookedTransformer\n",
      "Loaded pretrained model gpt2 into HookedTransformer\n",
      "Loaded pretrained model gpt2-medium into HookedTransformer\n",
      "Loaded pretrained model gpt2-large into HookedTransformer\n",
      "Loaded pretrained model gpt2-xl into HookedTransformer\n"
     ]
    }
   ],
   "source": [
    "\n",
    "# pythia model sizes: 70M, 160M, 410M, 1B, 1.4B, 2.8B, 6.9B, and 12B\n",
    "models = {\n",
    "    \"pythia-70m\": HookedTransformer.from_pretrained(\"pythia-70m\"),\n",
    "    \"pythia-160m\": HookedTransformer.from_pretrained(\"pythia-160m\"),\n",
    "    \"pythia-410m\": HookedTransformer.from_pretrained(\"pythia-410m\"),\n",
    "    \"pythia-1b\": HookedTransformer.from_pretrained(\"pythia-1b\"),\n",
    "    \"pythia-1.4b\": HookedTransformer.from_pretrained(\"pythia-1.4b\"),\n",
    "    \"pythia-2.8b\": HookedTransformer.from_pretrained(\"pythia-2.8b\"),\n",
    "\n",
    "    \"gpt2-small\": HookedTransformer.from_pretrained(\"gpt2\"),\n",
    "    \"gpt2-medium\": HookedTransformer.from_pretrained(\"gpt2-medium\"),\n",
    "    \"gpt2-large\": HookedTransformer.from_pretrained(\"gpt2-large\"),\n",
    "    \"gpt2-xl\": HookedTransformer.from_pretrained(\"gpt2-xl\"),\n",
    "}"
   ]
  },
  {
   "cell_type": "code",
   "execution_count": 24,
   "metadata": {},
   "outputs": [
    {
     "name": "stdout",
     "output_type": "stream",
     "text": [
      "Total: 84.986691584, Reserved: 38.247858176, Allocated: 38.035869184, Free: 0.21198899200000001\n"
     ]
    }
   ],
   "source": [
    "# how much cuda memory taken\n",
    "t = torch.cuda.get_device_properties(0).total_memory\n",
    "r = torch.cuda.memory_reserved(0)\n",
    "a = torch.cuda.memory_allocated(0)\n",
    "f = r-a  # free inside reserved\n",
    "print(f\"Total: {t*1e-9}, Reserved: {r*1e-9}, Allocated: {a*1e-9}, Free: {f*1e-9}\")"
   ]
  },
  {
   "cell_type": "code",
   "execution_count": 31,
   "metadata": {},
   "outputs": [
    {
     "name": "stderr",
     "output_type": "stream",
     "text": [
      "/tmp/ipykernel_225168/1757029106.py:3: TqdmDeprecationWarning: This function will be removed in tqdm==5.0.0\n",
      "Please use `tqdm.notebook.tqdm` instead of `tqdm.tqdm_notebook`\n",
      "  for model_name, model in tqdm(models.items()):\n"
     ]
    },
    {
     "data": {
      "application/vnd.jupyter.widget-view+json": {
       "model_id": "1889618391014eff99336508c9b4cffa",
       "version_major": 2,
       "version_minor": 0
      },
      "text/plain": [
       "  0%|          | 0/10 [00:00<?, ?it/s]"
      ]
     },
     "metadata": {},
     "output_type": "display_data"
    }
   ],
   "source": [
    "accuracy_df = pd.DataFrame(columns=['IOI-old Loss', 'IOI-old Accuracy', 'IOI Loss', 'IOI Accuracy', 'Sports Loss', 'Sports Accuracy', 'OWT Loss'])\n",
    "\n",
    "for model_name, model in tqdm(models.items()):\n",
    "    if \"pythia\" in model_name:\n",
    "        # print(f\"For {model_name} on IOI, loss is {ioi_pythia.get_test_loss(model)}, ioi accuracy is {ioi_pythia.get_test_accuracy(model)}, overall accuracy is {ioi_pythia.get_test_accuracy(model, check_all_logits=True)}\")\n",
    "        # print(f\"For {model_name} on Sports, loss is {sports_pythia.get_test_loss(model)}, sports accuracy is {sports_pythia.get_test_accuracy(model)}, overall accuracy is {sports_pythia.get_test_accuracy(model, check_all_logits=True)}\")\n",
    "\n",
    "        accuracy_df.loc[model_name] = [ioi_pythia_old.get_test_loss(model).item(), ioi_pythia_old.get_test_accuracy(model), ioi_pythia.get_test_loss(model).item(), ioi_pythia.get_test_accuracy(model), sports_pythia.get_test_loss(model).item(), sports_pythia.get_test_accuracy(model), owt_pythia.get_test_loss(model).item()]\n",
    "    \n",
    "    elif \"gpt2\" in model_name:\n",
    "        # print(f\"For {model_name} on IOI, loss is {ioi_gpt2.get_test_loss(model)}, ioi accuracy is {ioi_gpt2.get_test_accuracy(model)}, overall accuracy is {ioi_gpt2.get_test_accuracy(model, check_all_logits=True)}\")\n",
    "        # print(f\"For {model_name} on Sports, loss is {sports_gpt2.get_test_loss(model)}, sports accuracy is {sports_gpt2.get_test_accuracy(model)}, overall accuracy is {sports_gpt2.get_test_accuracy(model, check_all_logits=True)}\")\n",
    "\n",
    "        accuracy_df.loc[model_name] = [ioi_gpt2_old.get_test_loss(model).item(), ioi_gpt2_old.get_test_accuracy(model), ioi_gpt2.get_test_loss(model).item(), ioi_gpt2.get_test_accuracy(model), sports_gpt2.get_test_loss(model).item(), sports_gpt2.get_test_accuracy(model), owt_gpt2.get_test_loss(model).item()]\n"
   ]
  },
  {
   "cell_type": "code",
   "execution_count": 32,
   "metadata": {},
   "outputs": [
    {
     "data": {
      "text/html": [
       "<div>\n",
       "<style scoped>\n",
       "    .dataframe tbody tr th:only-of-type {\n",
       "        vertical-align: middle;\n",
       "    }\n",
       "\n",
       "    .dataframe tbody tr th {\n",
       "        vertical-align: top;\n",
       "    }\n",
       "\n",
       "    .dataframe thead th {\n",
       "        text-align: right;\n",
       "    }\n",
       "</style>\n",
       "<table border=\"1\" class=\"dataframe\">\n",
       "  <thead>\n",
       "    <tr style=\"text-align: right;\">\n",
       "      <th></th>\n",
       "      <th>IOI-old Loss</th>\n",
       "      <th>IOI-old Accuracy</th>\n",
       "      <th>IOI Loss</th>\n",
       "      <th>IOI Accuracy</th>\n",
       "      <th>Sports Loss</th>\n",
       "      <th>Sports Accuracy</th>\n",
       "      <th>OWT Loss</th>\n",
       "    </tr>\n",
       "  </thead>\n",
       "  <tbody>\n",
       "    <tr>\n",
       "      <th>pythia-70m</th>\n",
       "      <td>6.674894</td>\n",
       "      <td>0.50</td>\n",
       "      <td>6.765071</td>\n",
       "      <td>0.47</td>\n",
       "      <td>4.327347</td>\n",
       "      <td>0.360000</td>\n",
       "      <td>3.774127</td>\n",
       "    </tr>\n",
       "    <tr>\n",
       "      <th>pythia-160m</th>\n",
       "      <td>1.510956</td>\n",
       "      <td>0.98</td>\n",
       "      <td>1.605831</td>\n",
       "      <td>0.93</td>\n",
       "      <td>5.229007</td>\n",
       "      <td>0.428571</td>\n",
       "      <td>3.382833</td>\n",
       "    </tr>\n",
       "    <tr>\n",
       "      <th>pythia-410m</th>\n",
       "      <td>1.145940</td>\n",
       "      <td>1.00</td>\n",
       "      <td>1.312516</td>\n",
       "      <td>1.00</td>\n",
       "      <td>1.831539</td>\n",
       "      <td>0.530000</td>\n",
       "      <td>2.731288</td>\n",
       "    </tr>\n",
       "    <tr>\n",
       "      <th>pythia-1b</th>\n",
       "      <td>1.439045</td>\n",
       "      <td>0.99</td>\n",
       "      <td>1.304217</td>\n",
       "      <td>1.00</td>\n",
       "      <td>1.348832</td>\n",
       "      <td>0.785714</td>\n",
       "      <td>2.732046</td>\n",
       "    </tr>\n",
       "    <tr>\n",
       "      <th>pythia-1.4b</th>\n",
       "      <td>1.146600</td>\n",
       "      <td>1.00</td>\n",
       "      <td>1.305690</td>\n",
       "      <td>1.00</td>\n",
       "      <td>1.003749</td>\n",
       "      <td>0.900000</td>\n",
       "      <td>2.546326</td>\n",
       "    </tr>\n",
       "    <tr>\n",
       "      <th>pythia-2.8b</th>\n",
       "      <td>1.659012</td>\n",
       "      <td>1.00</td>\n",
       "      <td>1.607781</td>\n",
       "      <td>1.00</td>\n",
       "      <td>0.150230</td>\n",
       "      <td>0.928571</td>\n",
       "      <td>2.584105</td>\n",
       "    </tr>\n",
       "    <tr>\n",
       "      <th>gpt2-small</th>\n",
       "      <td>0.446071</td>\n",
       "      <td>1.00</td>\n",
       "      <td>0.531604</td>\n",
       "      <td>1.00</td>\n",
       "      <td>2.938488</td>\n",
       "      <td>0.357143</td>\n",
       "      <td>4.077174</td>\n",
       "    </tr>\n",
       "    <tr>\n",
       "      <th>gpt2-medium</th>\n",
       "      <td>0.733108</td>\n",
       "      <td>1.00</td>\n",
       "      <td>0.827779</td>\n",
       "      <td>1.00</td>\n",
       "      <td>1.577617</td>\n",
       "      <td>0.830000</td>\n",
       "      <td>3.743425</td>\n",
       "    </tr>\n",
       "    <tr>\n",
       "      <th>gpt2-large</th>\n",
       "      <td>0.778143</td>\n",
       "      <td>1.00</td>\n",
       "      <td>0.801914</td>\n",
       "      <td>1.00</td>\n",
       "      <td>1.386537</td>\n",
       "      <td>0.642857</td>\n",
       "      <td>3.416237</td>\n",
       "    </tr>\n",
       "    <tr>\n",
       "      <th>gpt2-xl</th>\n",
       "      <td>1.086272</td>\n",
       "      <td>1.00</td>\n",
       "      <td>1.010668</td>\n",
       "      <td>1.00</td>\n",
       "      <td>0.568901</td>\n",
       "      <td>0.860000</td>\n",
       "      <td>3.477935</td>\n",
       "    </tr>\n",
       "  </tbody>\n",
       "</table>\n",
       "</div>"
      ],
      "text/plain": [
       "             IOI-old Loss  IOI-old Accuracy  IOI Loss  IOI Accuracy  \\\n",
       "pythia-70m       6.674894              0.50  6.765071          0.47   \n",
       "pythia-160m      1.510956              0.98  1.605831          0.93   \n",
       "pythia-410m      1.145940              1.00  1.312516          1.00   \n",
       "pythia-1b        1.439045              0.99  1.304217          1.00   \n",
       "pythia-1.4b      1.146600              1.00  1.305690          1.00   \n",
       "pythia-2.8b      1.659012              1.00  1.607781          1.00   \n",
       "gpt2-small       0.446071              1.00  0.531604          1.00   \n",
       "gpt2-medium      0.733108              1.00  0.827779          1.00   \n",
       "gpt2-large       0.778143              1.00  0.801914          1.00   \n",
       "gpt2-xl          1.086272              1.00  1.010668          1.00   \n",
       "\n",
       "             Sports Loss  Sports Accuracy  OWT Loss  \n",
       "pythia-70m      4.327347         0.360000  3.774127  \n",
       "pythia-160m     5.229007         0.428571  3.382833  \n",
       "pythia-410m     1.831539         0.530000  2.731288  \n",
       "pythia-1b       1.348832         0.785714  2.732046  \n",
       "pythia-1.4b     1.003749         0.900000  2.546326  \n",
       "pythia-2.8b     0.150230         0.928571  2.584105  \n",
       "gpt2-small      2.938488         0.357143  4.077174  \n",
       "gpt2-medium     1.577617         0.830000  3.743425  \n",
       "gpt2-large      1.386537         0.642857  3.416237  \n",
       "gpt2-xl         0.568901         0.860000  3.477935  "
      ]
     },
     "execution_count": 32,
     "metadata": {},
     "output_type": "execute_result"
    }
   ],
   "source": [
    "accuracy_df"
   ]
  },
  {
   "cell_type": "code",
   "execution_count": 10,
   "metadata": {},
   "outputs": [
    {
     "ename": "ValueError",
     "evalue": "Unable to create tensor, you should probably activate truncation and/or padding with 'padding=True' 'truncation=True' to have batched tensors with the same length. Perhaps your features (`input_ids` in this case) have excessive nesting (inputs type `list` where type `int` is expected).",
     "output_type": "error",
     "traceback": [
      "\u001b[0;31m---------------------------------------------------------------------------\u001b[0m",
      "\u001b[0;31mValueError\u001b[0m                                Traceback (most recent call last)",
      "File \u001b[0;32m~/miniconda3/envs/unlrn/lib/python3.10/site-packages/transformers/tokenization_utils_base.py:748\u001b[0m, in \u001b[0;36mBatchEncoding.convert_to_tensors\u001b[0;34m(self, tensor_type, prepend_batch_axis)\u001b[0m\n\u001b[1;32m    747\u001b[0m \u001b[39mif\u001b[39;00m \u001b[39mnot\u001b[39;00m is_tensor(value):\n\u001b[0;32m--> 748\u001b[0m     tensor \u001b[39m=\u001b[39m as_tensor(value)\n\u001b[1;32m    750\u001b[0m     \u001b[39m# Removing this for now in favor of controlling the shape with `prepend_batch_axis`\u001b[39;00m\n\u001b[1;32m    751\u001b[0m     \u001b[39m# # at-least2d\u001b[39;00m\n\u001b[1;32m    752\u001b[0m     \u001b[39m# if tensor.ndim > 2:\u001b[39;00m\n\u001b[1;32m    753\u001b[0m     \u001b[39m#     tensor = tensor.squeeze(0)\u001b[39;00m\n\u001b[1;32m    754\u001b[0m     \u001b[39m# elif tensor.ndim < 2:\u001b[39;00m\n\u001b[1;32m    755\u001b[0m     \u001b[39m#     tensor = tensor[None, :]\u001b[39;00m\n",
      "File \u001b[0;32m~/miniconda3/envs/unlrn/lib/python3.10/site-packages/transformers/tokenization_utils_base.py:720\u001b[0m, in \u001b[0;36mBatchEncoding.convert_to_tensors.<locals>.as_tensor\u001b[0;34m(value, dtype)\u001b[0m\n\u001b[1;32m    719\u001b[0m     \u001b[39mreturn\u001b[39;00m torch\u001b[39m.\u001b[39mtensor(np\u001b[39m.\u001b[39marray(value))\n\u001b[0;32m--> 720\u001b[0m \u001b[39mreturn\u001b[39;00m torch\u001b[39m.\u001b[39;49mtensor(value)\n",
      "\u001b[0;31mValueError\u001b[0m: expected sequence of length 2 at dim 1 (got 1)",
      "\nThe above exception was the direct cause of the following exception:\n",
      "\u001b[0;31mValueError\u001b[0m                                Traceback (most recent call last)",
      "\u001b[1;32m/data/phillip_guo/mechanistic-unlearning/tasks/task_testing.ipynb Cell 29\u001b[0m line \u001b[0;36m1\n\u001b[0;32m----> <a href='vscode-notebook-cell://ssh-remote%2Bcais/data/phillip_guo/mechanistic-unlearning/tasks/task_testing.ipynb#X43sdnNjb2RlLXJlbW90ZQ%3D%3D?line=0'>1</a>\u001b[0m pythia_tokenizer([\u001b[39m'\u001b[39;49m\u001b[39m Erica\u001b[39;49m\u001b[39m'\u001b[39;49m, \u001b[39m'\u001b[39;49m\u001b[39m Samuel\u001b[39;49m\u001b[39m'\u001b[39;49m, \u001b[39m'\u001b[39;49m\u001b[39m Joshua\u001b[39;49m\u001b[39m'\u001b[39;49m, \u001b[39m'\u001b[39;49m\u001b[39m Nicole\u001b[39;49m\u001b[39m'\u001b[39;49m, \u001b[39m'\u001b[39;49m\u001b[39m Rebecca\u001b[39;49m\u001b[39m'\u001b[39;49m, \u001b[39m'\u001b[39;49m\u001b[39m Lindsey\u001b[39;49m\u001b[39m'\u001b[39;49m, \u001b[39m'\u001b[39;49m\u001b[39m Nicole\u001b[39;49m\u001b[39m'\u001b[39;49m, \u001b[39m'\u001b[39;49m\u001b[39m Gregory\u001b[39;49m\u001b[39m'\u001b[39;49m], return_tensors\u001b[39m=\u001b[39;49m\u001b[39m'\u001b[39;49m\u001b[39mpt\u001b[39;49m\u001b[39m'\u001b[39;49m)\n",
      "File \u001b[0;32m~/miniconda3/envs/unlrn/lib/python3.10/site-packages/transformers/tokenization_utils_base.py:2798\u001b[0m, in \u001b[0;36mPreTrainedTokenizerBase.__call__\u001b[0;34m(self, text, text_pair, text_target, text_pair_target, add_special_tokens, padding, truncation, max_length, stride, is_split_into_words, pad_to_multiple_of, return_tensors, return_token_type_ids, return_attention_mask, return_overflowing_tokens, return_special_tokens_mask, return_offsets_mapping, return_length, verbose, **kwargs)\u001b[0m\n\u001b[1;32m   2796\u001b[0m     \u001b[39mif\u001b[39;00m \u001b[39mnot\u001b[39;00m \u001b[39mself\u001b[39m\u001b[39m.\u001b[39m_in_target_context_manager:\n\u001b[1;32m   2797\u001b[0m         \u001b[39mself\u001b[39m\u001b[39m.\u001b[39m_switch_to_input_mode()\n\u001b[0;32m-> 2798\u001b[0m     encodings \u001b[39m=\u001b[39m \u001b[39mself\u001b[39;49m\u001b[39m.\u001b[39;49m_call_one(text\u001b[39m=\u001b[39;49mtext, text_pair\u001b[39m=\u001b[39;49mtext_pair, \u001b[39m*\u001b[39;49m\u001b[39m*\u001b[39;49mall_kwargs)\n\u001b[1;32m   2799\u001b[0m \u001b[39mif\u001b[39;00m text_target \u001b[39mis\u001b[39;00m \u001b[39mnot\u001b[39;00m \u001b[39mNone\u001b[39;00m:\n\u001b[1;32m   2800\u001b[0m     \u001b[39mself\u001b[39m\u001b[39m.\u001b[39m_switch_to_target_mode()\n",
      "File \u001b[0;32m~/miniconda3/envs/unlrn/lib/python3.10/site-packages/transformers/tokenization_utils_base.py:2884\u001b[0m, in \u001b[0;36mPreTrainedTokenizerBase._call_one\u001b[0;34m(self, text, text_pair, add_special_tokens, padding, truncation, max_length, stride, is_split_into_words, pad_to_multiple_of, return_tensors, return_token_type_ids, return_attention_mask, return_overflowing_tokens, return_special_tokens_mask, return_offsets_mapping, return_length, verbose, **kwargs)\u001b[0m\n\u001b[1;32m   2879\u001b[0m         \u001b[39mraise\u001b[39;00m \u001b[39mValueError\u001b[39;00m(\n\u001b[1;32m   2880\u001b[0m             \u001b[39mf\u001b[39m\u001b[39m\"\u001b[39m\u001b[39mbatch length of `text`: \u001b[39m\u001b[39m{\u001b[39;00m\u001b[39mlen\u001b[39m(text)\u001b[39m}\u001b[39;00m\u001b[39m does not match batch length of `text_pair`:\u001b[39m\u001b[39m\"\u001b[39m\n\u001b[1;32m   2881\u001b[0m             \u001b[39mf\u001b[39m\u001b[39m\"\u001b[39m\u001b[39m \u001b[39m\u001b[39m{\u001b[39;00m\u001b[39mlen\u001b[39m(text_pair)\u001b[39m}\u001b[39;00m\u001b[39m.\u001b[39m\u001b[39m\"\u001b[39m\n\u001b[1;32m   2882\u001b[0m         )\n\u001b[1;32m   2883\u001b[0m     batch_text_or_text_pairs \u001b[39m=\u001b[39m \u001b[39mlist\u001b[39m(\u001b[39mzip\u001b[39m(text, text_pair)) \u001b[39mif\u001b[39;00m text_pair \u001b[39mis\u001b[39;00m \u001b[39mnot\u001b[39;00m \u001b[39mNone\u001b[39;00m \u001b[39melse\u001b[39;00m text\n\u001b[0;32m-> 2884\u001b[0m     \u001b[39mreturn\u001b[39;00m \u001b[39mself\u001b[39;49m\u001b[39m.\u001b[39;49mbatch_encode_plus(\n\u001b[1;32m   2885\u001b[0m         batch_text_or_text_pairs\u001b[39m=\u001b[39;49mbatch_text_or_text_pairs,\n\u001b[1;32m   2886\u001b[0m         add_special_tokens\u001b[39m=\u001b[39;49madd_special_tokens,\n\u001b[1;32m   2887\u001b[0m         padding\u001b[39m=\u001b[39;49mpadding,\n\u001b[1;32m   2888\u001b[0m         truncation\u001b[39m=\u001b[39;49mtruncation,\n\u001b[1;32m   2889\u001b[0m         max_length\u001b[39m=\u001b[39;49mmax_length,\n\u001b[1;32m   2890\u001b[0m         stride\u001b[39m=\u001b[39;49mstride,\n\u001b[1;32m   2891\u001b[0m         is_split_into_words\u001b[39m=\u001b[39;49mis_split_into_words,\n\u001b[1;32m   2892\u001b[0m         pad_to_multiple_of\u001b[39m=\u001b[39;49mpad_to_multiple_of,\n\u001b[1;32m   2893\u001b[0m         return_tensors\u001b[39m=\u001b[39;49mreturn_tensors,\n\u001b[1;32m   2894\u001b[0m         return_token_type_ids\u001b[39m=\u001b[39;49mreturn_token_type_ids,\n\u001b[1;32m   2895\u001b[0m         return_attention_mask\u001b[39m=\u001b[39;49mreturn_attention_mask,\n\u001b[1;32m   2896\u001b[0m         return_overflowing_tokens\u001b[39m=\u001b[39;49mreturn_overflowing_tokens,\n\u001b[1;32m   2897\u001b[0m         return_special_tokens_mask\u001b[39m=\u001b[39;49mreturn_special_tokens_mask,\n\u001b[1;32m   2898\u001b[0m         return_offsets_mapping\u001b[39m=\u001b[39;49mreturn_offsets_mapping,\n\u001b[1;32m   2899\u001b[0m         return_length\u001b[39m=\u001b[39;49mreturn_length,\n\u001b[1;32m   2900\u001b[0m         verbose\u001b[39m=\u001b[39;49mverbose,\n\u001b[1;32m   2901\u001b[0m         \u001b[39m*\u001b[39;49m\u001b[39m*\u001b[39;49mkwargs,\n\u001b[1;32m   2902\u001b[0m     )\n\u001b[1;32m   2903\u001b[0m \u001b[39melse\u001b[39;00m:\n\u001b[1;32m   2904\u001b[0m     \u001b[39mreturn\u001b[39;00m \u001b[39mself\u001b[39m\u001b[39m.\u001b[39mencode_plus(\n\u001b[1;32m   2905\u001b[0m         text\u001b[39m=\u001b[39mtext,\n\u001b[1;32m   2906\u001b[0m         text_pair\u001b[39m=\u001b[39mtext_pair,\n\u001b[0;32m   (...)\u001b[0m\n\u001b[1;32m   2922\u001b[0m         \u001b[39m*\u001b[39m\u001b[39m*\u001b[39mkwargs,\n\u001b[1;32m   2923\u001b[0m     )\n",
      "File \u001b[0;32m~/miniconda3/envs/unlrn/lib/python3.10/site-packages/transformers/tokenization_utils_base.py:3075\u001b[0m, in \u001b[0;36mPreTrainedTokenizerBase.batch_encode_plus\u001b[0;34m(self, batch_text_or_text_pairs, add_special_tokens, padding, truncation, max_length, stride, is_split_into_words, pad_to_multiple_of, return_tensors, return_token_type_ids, return_attention_mask, return_overflowing_tokens, return_special_tokens_mask, return_offsets_mapping, return_length, verbose, **kwargs)\u001b[0m\n\u001b[1;32m   3065\u001b[0m \u001b[39m# Backward compatibility for 'truncation_strategy', 'pad_to_max_length'\u001b[39;00m\n\u001b[1;32m   3066\u001b[0m padding_strategy, truncation_strategy, max_length, kwargs \u001b[39m=\u001b[39m \u001b[39mself\u001b[39m\u001b[39m.\u001b[39m_get_padding_truncation_strategies(\n\u001b[1;32m   3067\u001b[0m     padding\u001b[39m=\u001b[39mpadding,\n\u001b[1;32m   3068\u001b[0m     truncation\u001b[39m=\u001b[39mtruncation,\n\u001b[0;32m   (...)\u001b[0m\n\u001b[1;32m   3072\u001b[0m     \u001b[39m*\u001b[39m\u001b[39m*\u001b[39mkwargs,\n\u001b[1;32m   3073\u001b[0m )\n\u001b[0;32m-> 3075\u001b[0m \u001b[39mreturn\u001b[39;00m \u001b[39mself\u001b[39;49m\u001b[39m.\u001b[39;49m_batch_encode_plus(\n\u001b[1;32m   3076\u001b[0m     batch_text_or_text_pairs\u001b[39m=\u001b[39;49mbatch_text_or_text_pairs,\n\u001b[1;32m   3077\u001b[0m     add_special_tokens\u001b[39m=\u001b[39;49madd_special_tokens,\n\u001b[1;32m   3078\u001b[0m     padding_strategy\u001b[39m=\u001b[39;49mpadding_strategy,\n\u001b[1;32m   3079\u001b[0m     truncation_strategy\u001b[39m=\u001b[39;49mtruncation_strategy,\n\u001b[1;32m   3080\u001b[0m     max_length\u001b[39m=\u001b[39;49mmax_length,\n\u001b[1;32m   3081\u001b[0m     stride\u001b[39m=\u001b[39;49mstride,\n\u001b[1;32m   3082\u001b[0m     is_split_into_words\u001b[39m=\u001b[39;49mis_split_into_words,\n\u001b[1;32m   3083\u001b[0m     pad_to_multiple_of\u001b[39m=\u001b[39;49mpad_to_multiple_of,\n\u001b[1;32m   3084\u001b[0m     return_tensors\u001b[39m=\u001b[39;49mreturn_tensors,\n\u001b[1;32m   3085\u001b[0m     return_token_type_ids\u001b[39m=\u001b[39;49mreturn_token_type_ids,\n\u001b[1;32m   3086\u001b[0m     return_attention_mask\u001b[39m=\u001b[39;49mreturn_attention_mask,\n\u001b[1;32m   3087\u001b[0m     return_overflowing_tokens\u001b[39m=\u001b[39;49mreturn_overflowing_tokens,\n\u001b[1;32m   3088\u001b[0m     return_special_tokens_mask\u001b[39m=\u001b[39;49mreturn_special_tokens_mask,\n\u001b[1;32m   3089\u001b[0m     return_offsets_mapping\u001b[39m=\u001b[39;49mreturn_offsets_mapping,\n\u001b[1;32m   3090\u001b[0m     return_length\u001b[39m=\u001b[39;49mreturn_length,\n\u001b[1;32m   3091\u001b[0m     verbose\u001b[39m=\u001b[39;49mverbose,\n\u001b[1;32m   3092\u001b[0m     \u001b[39m*\u001b[39;49m\u001b[39m*\u001b[39;49mkwargs,\n\u001b[1;32m   3093\u001b[0m )\n",
      "File \u001b[0;32m~/miniconda3/envs/unlrn/lib/python3.10/site-packages/transformers/tokenization_utils_fast.py:552\u001b[0m, in \u001b[0;36mPreTrainedTokenizerFast._batch_encode_plus\u001b[0;34m(self, batch_text_or_text_pairs, add_special_tokens, padding_strategy, truncation_strategy, max_length, stride, is_split_into_words, pad_to_multiple_of, return_tensors, return_token_type_ids, return_attention_mask, return_overflowing_tokens, return_special_tokens_mask, return_offsets_mapping, return_length, verbose)\u001b[0m\n\u001b[1;32m    550\u001b[0m \u001b[39mfor\u001b[39;00m input_ids \u001b[39min\u001b[39;00m sanitized_tokens[\u001b[39m\"\u001b[39m\u001b[39minput_ids\u001b[39m\u001b[39m\"\u001b[39m]:\n\u001b[1;32m    551\u001b[0m     \u001b[39mself\u001b[39m\u001b[39m.\u001b[39m_eventual_warn_about_too_long_sequence(input_ids, max_length, verbose)\n\u001b[0;32m--> 552\u001b[0m \u001b[39mreturn\u001b[39;00m BatchEncoding(sanitized_tokens, sanitized_encodings, tensor_type\u001b[39m=\u001b[39;49mreturn_tensors)\n",
      "File \u001b[0;32m~/miniconda3/envs/unlrn/lib/python3.10/site-packages/transformers/tokenization_utils_base.py:223\u001b[0m, in \u001b[0;36mBatchEncoding.__init__\u001b[0;34m(self, data, encoding, tensor_type, prepend_batch_axis, n_sequences)\u001b[0m\n\u001b[1;32m    219\u001b[0m     n_sequences \u001b[39m=\u001b[39m encoding[\u001b[39m0\u001b[39m]\u001b[39m.\u001b[39mn_sequences\n\u001b[1;32m    221\u001b[0m \u001b[39mself\u001b[39m\u001b[39m.\u001b[39m_n_sequences \u001b[39m=\u001b[39m n_sequences\n\u001b[0;32m--> 223\u001b[0m \u001b[39mself\u001b[39;49m\u001b[39m.\u001b[39;49mconvert_to_tensors(tensor_type\u001b[39m=\u001b[39;49mtensor_type, prepend_batch_axis\u001b[39m=\u001b[39;49mprepend_batch_axis)\n",
      "File \u001b[0;32m~/miniconda3/envs/unlrn/lib/python3.10/site-packages/transformers/tokenization_utils_base.py:764\u001b[0m, in \u001b[0;36mBatchEncoding.convert_to_tensors\u001b[0;34m(self, tensor_type, prepend_batch_axis)\u001b[0m\n\u001b[1;32m    759\u001b[0m         \u001b[39mif\u001b[39;00m key \u001b[39m==\u001b[39m \u001b[39m\"\u001b[39m\u001b[39moverflowing_tokens\u001b[39m\u001b[39m\"\u001b[39m:\n\u001b[1;32m    760\u001b[0m             \u001b[39mraise\u001b[39;00m \u001b[39mValueError\u001b[39;00m(\n\u001b[1;32m    761\u001b[0m                 \u001b[39m\"\u001b[39m\u001b[39mUnable to create tensor returning overflowing tokens of different lengths. \u001b[39m\u001b[39m\"\u001b[39m\n\u001b[1;32m    762\u001b[0m                 \u001b[39m\"\u001b[39m\u001b[39mPlease see if a fast version of this tokenizer is available to have this feature available.\u001b[39m\u001b[39m\"\u001b[39m\n\u001b[1;32m    763\u001b[0m             ) \u001b[39mfrom\u001b[39;00m \u001b[39me\u001b[39;00m\n\u001b[0;32m--> 764\u001b[0m         \u001b[39mraise\u001b[39;00m \u001b[39mValueError\u001b[39;00m(\n\u001b[1;32m    765\u001b[0m             \u001b[39m\"\u001b[39m\u001b[39mUnable to create tensor, you should probably activate truncation and/or padding with\u001b[39m\u001b[39m\"\u001b[39m\n\u001b[1;32m    766\u001b[0m             \u001b[39m\"\u001b[39m\u001b[39m \u001b[39m\u001b[39m'\u001b[39m\u001b[39mpadding=True\u001b[39m\u001b[39m'\u001b[39m\u001b[39m \u001b[39m\u001b[39m'\u001b[39m\u001b[39mtruncation=True\u001b[39m\u001b[39m'\u001b[39m\u001b[39m to have batched tensors with the same length. Perhaps your\u001b[39m\u001b[39m\"\u001b[39m\n\u001b[1;32m    767\u001b[0m             \u001b[39mf\u001b[39m\u001b[39m\"\u001b[39m\u001b[39m features (`\u001b[39m\u001b[39m{\u001b[39;00mkey\u001b[39m}\u001b[39;00m\u001b[39m` in this case) have excessive nesting (inputs type `list` where type `int` is\u001b[39m\u001b[39m\"\u001b[39m\n\u001b[1;32m    768\u001b[0m             \u001b[39m\"\u001b[39m\u001b[39m expected).\u001b[39m\u001b[39m\"\u001b[39m\n\u001b[1;32m    769\u001b[0m         ) \u001b[39mfrom\u001b[39;00m \u001b[39me\u001b[39;00m\n\u001b[1;32m    771\u001b[0m \u001b[39mreturn\u001b[39;00m \u001b[39mself\u001b[39m\n",
      "\u001b[0;31mValueError\u001b[0m: Unable to create tensor, you should probably activate truncation and/or padding with 'padding=True' 'truncation=True' to have batched tensors with the same length. Perhaps your features (`input_ids` in this case) have excessive nesting (inputs type `list` where type `int` is expected)."
     ]
    }
   ],
   "source": [
    "pythia_tokenizer([' Erica', ' Samuel', ' Joshua', ' Nicole', ' Rebecca', ' Lindsey', ' Nicole', ' Gregory'], return_tensors='pt')"
   ]
  },
  {
   "cell_type": "code",
   "execution_count": 15,
   "metadata": {},
   "outputs": [
    {
     "data": {
      "text/plain": [
       "HookedTransformer(\n",
       "  (embed): Embed()\n",
       "  (hook_embed): HookPoint()\n",
       "  (blocks): ModuleList(\n",
       "    (0-5): 6 x TransformerBlock(\n",
       "      (ln1): LayerNormPre(\n",
       "        (hook_scale): HookPoint()\n",
       "        (hook_normalized): HookPoint()\n",
       "      )\n",
       "      (ln2): LayerNormPre(\n",
       "        (hook_scale): HookPoint()\n",
       "        (hook_normalized): HookPoint()\n",
       "      )\n",
       "      (attn): Attention(\n",
       "        (hook_k): HookPoint()\n",
       "        (hook_q): HookPoint()\n",
       "        (hook_v): HookPoint()\n",
       "        (hook_z): HookPoint()\n",
       "        (hook_attn_scores): HookPoint()\n",
       "        (hook_pattern): HookPoint()\n",
       "        (hook_result): HookPoint()\n",
       "        (hook_rot_k): HookPoint()\n",
       "        (hook_rot_q): HookPoint()\n",
       "      )\n",
       "      (mlp): MLP(\n",
       "        (hook_pre): HookPoint()\n",
       "        (hook_post): HookPoint()\n",
       "      )\n",
       "      (hook_attn_in): HookPoint()\n",
       "      (hook_q_input): HookPoint()\n",
       "      (hook_k_input): HookPoint()\n",
       "      (hook_v_input): HookPoint()\n",
       "      (hook_mlp_in): HookPoint()\n",
       "      (hook_attn_out): HookPoint()\n",
       "      (hook_mlp_out): HookPoint()\n",
       "      (hook_resid_pre): HookPoint()\n",
       "      (hook_resid_post): HookPoint()\n",
       "    )\n",
       "  )\n",
       "  (ln_final): LayerNormPre(\n",
       "    (hook_scale): HookPoint()\n",
       "    (hook_normalized): HookPoint()\n",
       "  )\n",
       "  (unembed): Unembed()\n",
       ")"
      ]
     },
     "execution_count": 15,
     "metadata": {},
     "output_type": "execute_result"
    }
   ],
   "source": [
    "# from tasks.inference_utils import generate_text\n",
    "# generate_text(models[0], pythia_tokenizer, , 1)"
   ]
  },
  {
   "cell_type": "code",
   "execution_count": null,
   "metadata": {},
   "outputs": [],
   "source": []
  }
 ],
 "metadata": {
  "kernelspec": {
   "display_name": "unlrn",
   "language": "python",
   "name": "unlrn"
  },
  "language_info": {
   "codemirror_mode": {
    "name": "ipython",
    "version": 3
   },
   "file_extension": ".py",
   "mimetype": "text/x-python",
   "name": "python",
   "nbconvert_exporter": "python",
   "pygments_lexer": "ipython3",
   "version": "3.10.13"
  }
 },
 "nbformat": 4,
 "nbformat_minor": 2
}
